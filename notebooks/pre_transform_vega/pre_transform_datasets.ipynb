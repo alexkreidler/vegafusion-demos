{
 "cells": [
  {
   "cell_type": "markdown",
   "id": "06f1b592-01da-4ccc-8cad-7e77e1821bd9",
   "metadata": {},
   "source": [
    "## Overview\n",
    "VegaFusion supports pre-transforming datasets within a Vega Spec and then extracting the transformed datasets as pandas DataFrames.\n",
    "\n",
    "**Note**: This is fairly low-level functionality that is the foundation of the VegaFusion `vf.transformed_data` function. It is designed to be a building block for larger Vega systems."
   ]
  },
  {
   "cell_type": "code",
   "execution_count": 1,
   "id": "d82a5a1c-c7b2-468c-9377-a6d56efa5fad",
   "metadata": {},
   "outputs": [],
   "source": [
    "# imports\n",
    "import json\n",
    "from altair.vega import vega\n",
    "import vegafusion as vf\n",
    "import pandas as pd\n",
    "\n",
    "local_tz = \"UTC\""
   ]
  },
  {
   "cell_type": "markdown",
   "id": "fffa8aad-fe97-433b-9618-268e93e44c01",
   "metadata": {},
   "source": [
    "## Example 1: JSON url dataset\n",
    "Consider a simple Vega-Lite histogram like the example at https://vega.github.io/vega-lite/examples/histogram.html\n",
    "\n",
    "```json\n",
    "{\n",
    "  \"$schema\": \"https://vega.github.io/schema/vega-lite/v5.json\",\n",
    "  \"data\": {\"url\": \"https://raw.githubusercontent.com/vega/vega-datasets/master/data/movies.json\"},\n",
    "  \"mark\": \"bar\",\n",
    "  \"encoding\": {\n",
    "    \"x\": {\n",
    "      \"bin\": true,\n",
    "      \"field\": \"IMDB Rating\"\n",
    "    },\n",
    "    \"y\": {\"aggregate\": \"count\"}\n",
    "  }\n",
    "}\n",
    "\n",
    "```\n",
    "\n",
    "This compiles down into the following Vega specification:"
   ]
  },
  {
   "cell_type": "code",
   "execution_count": 2,
   "id": "e9d7d690-d376-4d63-9e7b-024bf5760351",
   "metadata": {},
   "outputs": [],
   "source": [
    "full_spec = json.loads(r\"\"\"\n",
    "{\n",
    "  \"$schema\": \"https://vega.github.io/schema/vega/v5.json\",\n",
    "  \"background\": \"white\",\n",
    "  \"padding\": 5,\n",
    "  \"width\": 200,\n",
    "  \"height\": 200,\n",
    "  \"style\": \"cell\",\n",
    "  \"data\": [\n",
    "    {\n",
    "      \"name\": \"source_0\",\n",
    "      \"url\": \"https://raw.githubusercontent.com/vega/vega-datasets/master/data/movies.json\",\n",
    "      \"format\": {\"type\": \"json\"},\n",
    "      \"transform\": [\n",
    "        {\n",
    "          \"type\": \"extent\",\n",
    "          \"field\": \"IMDB Rating\",\n",
    "          \"signal\": \"bin_maxbins_10_IMDB_Rating_extent\"\n",
    "        },\n",
    "        {\n",
    "          \"type\": \"bin\",\n",
    "          \"field\": \"IMDB Rating\",\n",
    "          \"as\": [\n",
    "            \"bin_maxbins_10_IMDB Rating\",\n",
    "            \"bin_maxbins_10_IMDB Rating_end\"\n",
    "          ],\n",
    "          \"signal\": \"bin_maxbins_10_IMDB_Rating_bins\",\n",
    "          \"extent\": {\"signal\": \"bin_maxbins_10_IMDB_Rating_extent\"},\n",
    "          \"maxbins\": 10\n",
    "        },\n",
    "        {\n",
    "          \"type\": \"aggregate\",\n",
    "          \"groupby\": [\n",
    "            \"bin_maxbins_10_IMDB Rating\",\n",
    "            \"bin_maxbins_10_IMDB Rating_end\"\n",
    "          ],\n",
    "          \"ops\": [\"count\"],\n",
    "          \"fields\": [null],\n",
    "          \"as\": [\"__count\"]\n",
    "        },\n",
    "        {\n",
    "          \"type\": \"filter\",\n",
    "          \"expr\": \"isValid(datum[\\\"bin_maxbins_10_IMDB Rating\\\"]) && isFinite(+datum[\\\"bin_maxbins_10_IMDB Rating\\\"])\"\n",
    "        }\n",
    "      ]\n",
    "    }\n",
    "  ],\n",
    "  \"marks\": [\n",
    "    {\n",
    "      \"name\": \"marks\",\n",
    "      \"type\": \"rect\",\n",
    "      \"style\": [\"bar\"],\n",
    "      \"from\": {\"data\": \"source_0\"},\n",
    "      \"encode\": {\n",
    "        \"update\": {\n",
    "          \"fill\": {\"value\": \"#4c78a8\"},\n",
    "          \"ariaRoleDescription\": {\"value\": \"bar\"},\n",
    "          \"description\": {\n",
    "            \"signal\": \"\\\"IMDB Rating (binned): \\\" + (!isValid(datum[\\\"bin_maxbins_10_IMDB Rating\\\"]) || !isFinite(+datum[\\\"bin_maxbins_10_IMDB Rating\\\"]) ? \\\"null\\\" : format(datum[\\\"bin_maxbins_10_IMDB Rating\\\"], \\\"\\\") + \\\" – \\\" + format(datum[\\\"bin_maxbins_10_IMDB Rating_end\\\"], \\\"\\\")) + \\\"; Count of Records: \\\" + (format(datum[\\\"__count\\\"], \\\"\\\"))\"\n",
    "          },\n",
    "          \"x2\": {\n",
    "            \"scale\": \"x\",\n",
    "            \"field\": \"bin_maxbins_10_IMDB Rating\",\n",
    "            \"offset\": 1\n",
    "          },\n",
    "          \"x\": {\"scale\": \"x\", \"field\": \"bin_maxbins_10_IMDB Rating_end\"},\n",
    "          \"y\": {\"scale\": \"y\", \"field\": \"__count\"},\n",
    "          \"y2\": {\"scale\": \"y\", \"value\": 0}\n",
    "        }\n",
    "      }\n",
    "    }\n",
    "  ],\n",
    "  \"scales\": [\n",
    "    {\n",
    "      \"name\": \"x\",\n",
    "      \"type\": \"linear\",\n",
    "      \"domain\": {\n",
    "        \"signal\": \"[bin_maxbins_10_IMDB_Rating_bins.start, bin_maxbins_10_IMDB_Rating_bins.stop]\"\n",
    "      },\n",
    "      \"range\": [0, {\"signal\": \"width\"}],\n",
    "      \"bins\": {\"signal\": \"bin_maxbins_10_IMDB_Rating_bins\"},\n",
    "      \"zero\": false\n",
    "    },\n",
    "    {\n",
    "      \"name\": \"y\",\n",
    "      \"type\": \"linear\",\n",
    "      \"domain\": {\"data\": \"source_0\", \"field\": \"__count\"},\n",
    "      \"range\": [{\"signal\": \"height\"}, 0],\n",
    "      \"nice\": true,\n",
    "      \"zero\": true\n",
    "    }\n",
    "  ],\n",
    "  \"axes\": [\n",
    "    {\n",
    "      \"scale\": \"y\",\n",
    "      \"orient\": \"left\",\n",
    "      \"gridScale\": \"x\",\n",
    "      \"grid\": true,\n",
    "      \"tickCount\": {\"signal\": \"ceil(height/40)\"},\n",
    "      \"domain\": false,\n",
    "      \"labels\": false,\n",
    "      \"maxExtent\": 0,\n",
    "      \"minExtent\": 0,\n",
    "      \"ticks\": false,\n",
    "      \"zindex\": 0\n",
    "    },\n",
    "    {\n",
    "      \"scale\": \"x\",\n",
    "      \"orient\": \"bottom\",\n",
    "      \"grid\": false,\n",
    "      \"title\": \"IMDB Rating (binned)\",\n",
    "      \"labelFlush\": true,\n",
    "      \"labelOverlap\": true,\n",
    "      \"tickCount\": {\"signal\": \"ceil(width/10)\"},\n",
    "      \"zindex\": 0\n",
    "    },\n",
    "    {\n",
    "      \"scale\": \"y\",\n",
    "      \"orient\": \"left\",\n",
    "      \"grid\": false,\n",
    "      \"title\": \"Count of Records\",\n",
    "      \"labelOverlap\": true,\n",
    "      \"tickCount\": {\"signal\": \"ceil(height/40)\"},\n",
    "      \"zindex\": 0\n",
    "    }\n",
    "  ]\n",
    "}\n",
    "\"\"\")"
   ]
  },
  {
   "cell_type": "code",
   "execution_count": 3,
   "id": "3f25db85-99df-436d-813b-1df689055f52",
   "metadata": {},
   "outputs": [
    {
     "data": {
      "application/vnd.vega.v5+json": {
       "$schema": "https://vega.github.io/schema/vega/v5.json",
       "axes": [
        {
         "domain": false,
         "grid": true,
         "gridScale": "x",
         "labels": false,
         "maxExtent": 0,
         "minExtent": 0,
         "orient": "left",
         "scale": "y",
         "tickCount": {
          "signal": "ceil(height/40)"
         },
         "ticks": false,
         "zindex": 0
        },
        {
         "grid": false,
         "labelFlush": true,
         "labelOverlap": true,
         "orient": "bottom",
         "scale": "x",
         "tickCount": {
          "signal": "ceil(width/10)"
         },
         "title": "IMDB Rating (binned)",
         "zindex": 0
        },
        {
         "grid": false,
         "labelOverlap": true,
         "orient": "left",
         "scale": "y",
         "tickCount": {
          "signal": "ceil(height/40)"
         },
         "title": "Count of Records",
         "zindex": 0
        }
       ],
       "background": "white",
       "data": [
        {
         "format": {
          "type": "json"
         },
         "name": "source_0",
         "transform": [
          {
           "field": "IMDB Rating",
           "signal": "bin_maxbins_10_IMDB_Rating_extent",
           "type": "extent"
          },
          {
           "as": [
            "bin_maxbins_10_IMDB Rating",
            "bin_maxbins_10_IMDB Rating_end"
           ],
           "extent": {
            "signal": "bin_maxbins_10_IMDB_Rating_extent"
           },
           "field": "IMDB Rating",
           "maxbins": 10,
           "signal": "bin_maxbins_10_IMDB_Rating_bins",
           "type": "bin"
          },
          {
           "as": [
            "__count"
           ],
           "fields": [
            null
           ],
           "groupby": [
            "bin_maxbins_10_IMDB Rating",
            "bin_maxbins_10_IMDB Rating_end"
           ],
           "ops": [
            "count"
           ],
           "type": "aggregate"
          },
          {
           "expr": "isValid(datum[\"bin_maxbins_10_IMDB Rating\"]) && isFinite(+datum[\"bin_maxbins_10_IMDB Rating\"])",
           "type": "filter"
          }
         ],
         "url": "https://raw.githubusercontent.com/vega/vega-datasets/master/data/movies.json"
        }
       ],
       "height": 200,
       "marks": [
        {
         "encode": {
          "update": {
           "ariaRoleDescription": {
            "value": "bar"
           },
           "description": {
            "signal": "\"IMDB Rating (binned): \" + (!isValid(datum[\"bin_maxbins_10_IMDB Rating\"]) || !isFinite(+datum[\"bin_maxbins_10_IMDB Rating\"]) ? \"null\" : format(datum[\"bin_maxbins_10_IMDB Rating\"], \"\") + \" – \" + format(datum[\"bin_maxbins_10_IMDB Rating_end\"], \"\")) + \"; Count of Records: \" + (format(datum[\"__count\"], \"\"))"
           },
           "fill": {
            "value": "#4c78a8"
           },
           "x": {
            "field": "bin_maxbins_10_IMDB Rating_end",
            "scale": "x"
           },
           "x2": {
            "field": "bin_maxbins_10_IMDB Rating",
            "offset": 1,
            "scale": "x"
           },
           "y": {
            "field": "__count",
            "scale": "y"
           },
           "y2": {
            "scale": "y",
            "value": 0
           }
          }
         },
         "from": {
          "data": "source_0"
         },
         "name": "marks",
         "style": [
          "bar"
         ],
         "type": "rect"
        }
       ],
       "padding": 5,
       "scales": [
        {
         "bins": {
          "signal": "bin_maxbins_10_IMDB_Rating_bins"
         },
         "domain": {
          "signal": "[bin_maxbins_10_IMDB_Rating_bins.start, bin_maxbins_10_IMDB_Rating_bins.stop]"
         },
         "name": "x",
         "range": [
          0,
          {
           "signal": "width"
          }
         ],
         "type": "linear",
         "zero": false
        },
        {
         "domain": {
          "data": "source_0",
          "field": "__count"
         },
         "name": "y",
         "nice": true,
         "range": [
          {
           "signal": "height"
          },
          0
         ],
         "type": "linear",
         "zero": true
        }
       ],
       "style": "cell",
       "width": 200
      },
      "image/png": "[encoded data removed]",
      "text/plain": [
       "<Vega 5 object>\n",
       "\n",
       "If you see this message, it means the renderer has not been properly enabled\n",
       "for the frontend that you are using. For more information, see\n",
       "https://altair-viz.github.io/user_guide/troubleshooting.html\n"
      ]
     },
     "metadata": {},
     "output_type": "display_data"
    }
   ],
   "source": [
    "vega(full_spec)"
   ]
  },
  {
   "cell_type": "markdown",
   "id": "e517a044-2ba0-40ca-93c7-6988cb3a8a38",
   "metadata": {},
   "source": [
    "VegaFusion provides a `pre_transform_datasets` method that can be used to load the dataset, perform a variety of data transformations in the Python kernel process, then return the requested datasets as pandas DataFrames"
   ]
  },
  {
   "cell_type": "code",
   "execution_count": 4,
   "id": "b7d9155f-9673-48fb-a427-6f55f197f6c3",
   "metadata": {},
   "outputs": [
    {
     "data": {
      "text/plain": [
       "\u001b[0;31mSignature:\u001b[0m\n",
       "\u001b[0mvf\u001b[0m\u001b[0;34m.\u001b[0m\u001b[0mruntime\u001b[0m\u001b[0;34m.\u001b[0m\u001b[0mpre_transform_datasets\u001b[0m\u001b[0;34m(\u001b[0m\u001b[0;34m\u001b[0m\n",
       "\u001b[0;34m\u001b[0m    \u001b[0mspec\u001b[0m\u001b[0;34m,\u001b[0m\u001b[0;34m\u001b[0m\n",
       "\u001b[0;34m\u001b[0m    \u001b[0mdatasets\u001b[0m\u001b[0;34m,\u001b[0m\u001b[0;34m\u001b[0m\n",
       "\u001b[0;34m\u001b[0m    \u001b[0mlocal_tz\u001b[0m\u001b[0;34m,\u001b[0m\u001b[0;34m\u001b[0m\n",
       "\u001b[0;34m\u001b[0m    \u001b[0mdefault_input_tz\u001b[0m\u001b[0;34m=\u001b[0m\u001b[0;32mNone\u001b[0m\u001b[0;34m,\u001b[0m\u001b[0;34m\u001b[0m\n",
       "\u001b[0;34m\u001b[0m    \u001b[0minline_datasets\u001b[0m\u001b[0;34m=\u001b[0m\u001b[0;32mNone\u001b[0m\u001b[0;34m,\u001b[0m\u001b[0;34m\u001b[0m\n",
       "\u001b[0;34m\u001b[0m\u001b[0;34m)\u001b[0m\u001b[0;34m\u001b[0m\u001b[0;34m\u001b[0m\u001b[0m\n",
       "\u001b[0;31mDocstring:\u001b[0m\n",
       "Extract the fully evaluated form of the requested datasets from a Vega specification\n",
       "as pandas DataFrames.\n",
       "\n",
       ":param spec: A Vega specification\n",
       ":param datasets: A list with elements that are either:\n",
       "  - The name of a top-level dataset as a string\n",
       "  - A two-element tuple where the first element is the name of a dataset as a string\n",
       "    and the second element is the nested scope of the dataset as a list of integers\n",
       ":param local_tz: Name of timezone to be considered local. E.g. 'America/New_York'.\n",
       "    This can be computed for the local system using the tzlocal package and the\n",
       "    tzlocal.get_localzone_name() function.\n",
       ":param default_input_tz: Name of timezone (e.g. 'America/New_York') that naive datetime\n",
       "    strings should be interpreted in. Defaults to `local_tz`.\n",
       ":param inline_datasets: A dict from dataset names to pandas DataFrames or pyarrow\n",
       "    Tables. Inline datasets may be referenced by the input specification using\n",
       "    the following url syntax 'vegafusion+dataset://{dataset_name}'.\n",
       ":return:\n",
       "    Two-element tuple:\n",
       "        0. List of pandas DataFrames corresponding to the input datasets list\n",
       "        1. A list of warnings as dictionaries. Each warning dict has a 'type'\n",
       "           key indicating the warning type, and a 'message' key containing\n",
       "           a description of the warning.\n",
       "\u001b[0;31mFile:\u001b[0m      ~/VegaFusion/repos/vegafusion/python/vegafusion/vegafusion/runtime.py\n",
       "\u001b[0;31mType:\u001b[0m      method\n"
      ]
     },
     "metadata": {},
     "output_type": "display_data"
    }
   ],
   "source": [
    "vf.runtime.pre_transform_datasets?"
   ]
  },
  {
   "cell_type": "code",
   "execution_count": 5,
   "id": "4d1a8645-89db-48ce-9746-4d8dbca86090",
   "metadata": {},
   "outputs": [],
   "source": [
    "transformed_datasets, warnings = vf.runtime.pre_transform_datasets(full_spec, [\"source_0\"], local_tz)"
   ]
  },
  {
   "cell_type": "code",
   "execution_count": 6,
   "id": "40266834-34e0-497a-a555-0d16c6b19cb1",
   "metadata": {},
   "outputs": [
    {
     "name": "stdout",
     "output_type": "stream",
     "text": [
      "[]\n"
     ]
    }
   ],
   "source": [
    "print(warnings)"
   ]
  },
  {
   "cell_type": "code",
   "execution_count": 7,
   "id": "6ed6b7a2-ee50-440f-96e6-eac94878b133",
   "metadata": {},
   "outputs": [
    {
     "data": {
      "text/html": [
       "<div>\n",
       "<style scoped>\n",
       "    .dataframe tbody tr th:only-of-type {\n",
       "        vertical-align: middle;\n",
       "    }\n",
       "\n",
       "    .dataframe tbody tr th {\n",
       "        vertical-align: top;\n",
       "    }\n",
       "\n",
       "    .dataframe thead th {\n",
       "        text-align: right;\n",
       "    }\n",
       "</style>\n",
       "<table border=\"1\" class=\"dataframe\">\n",
       "  <thead>\n",
       "    <tr style=\"text-align: right;\">\n",
       "      <th></th>\n",
       "      <th>bin_maxbins_10_IMDB Rating</th>\n",
       "      <th>bin_maxbins_10_IMDB Rating_end</th>\n",
       "      <th>__count</th>\n",
       "    </tr>\n",
       "  </thead>\n",
       "  <tbody>\n",
       "    <tr>\n",
       "      <th>0</th>\n",
       "      <td>6.0</td>\n",
       "      <td>7.0</td>\n",
       "      <td>985</td>\n",
       "    </tr>\n",
       "    <tr>\n",
       "      <th>1</th>\n",
       "      <td>3.0</td>\n",
       "      <td>4.0</td>\n",
       "      <td>100</td>\n",
       "    </tr>\n",
       "    <tr>\n",
       "      <th>2</th>\n",
       "      <td>7.0</td>\n",
       "      <td>8.0</td>\n",
       "      <td>741</td>\n",
       "    </tr>\n",
       "    <tr>\n",
       "      <th>3</th>\n",
       "      <td>5.0</td>\n",
       "      <td>6.0</td>\n",
       "      <td>633</td>\n",
       "    </tr>\n",
       "    <tr>\n",
       "      <th>4</th>\n",
       "      <td>8.0</td>\n",
       "      <td>9.0</td>\n",
       "      <td>204</td>\n",
       "    </tr>\n",
       "    <tr>\n",
       "      <th>5</th>\n",
       "      <td>2.0</td>\n",
       "      <td>3.0</td>\n",
       "      <td>43</td>\n",
       "    </tr>\n",
       "    <tr>\n",
       "      <th>6</th>\n",
       "      <td>4.0</td>\n",
       "      <td>5.0</td>\n",
       "      <td>273</td>\n",
       "    </tr>\n",
       "    <tr>\n",
       "      <th>7</th>\n",
       "      <td>9.0</td>\n",
       "      <td>10.0</td>\n",
       "      <td>4</td>\n",
       "    </tr>\n",
       "    <tr>\n",
       "      <th>8</th>\n",
       "      <td>1.0</td>\n",
       "      <td>2.0</td>\n",
       "      <td>5</td>\n",
       "    </tr>\n",
       "  </tbody>\n",
       "</table>\n",
       "</div>"
      ],
      "text/plain": [
       "   bin_maxbins_10_IMDB Rating  bin_maxbins_10_IMDB Rating_end  __count\n",
       "0                         6.0                             7.0      985\n",
       "1                         3.0                             4.0      100\n",
       "2                         7.0                             8.0      741\n",
       "3                         5.0                             6.0      633\n",
       "4                         8.0                             9.0      204\n",
       "5                         2.0                             3.0       43\n",
       "6                         4.0                             5.0      273\n",
       "7                         9.0                            10.0        4\n",
       "8                         1.0                             2.0        5"
      ]
     },
     "execution_count": 7,
     "metadata": {},
     "output_type": "execute_result"
    }
   ],
   "source": [
    "transformed_datasets[0]"
   ]
  },
  {
   "cell_type": "markdown",
   "id": "88124269-61e9-4788-af30-f6837328dc36",
   "metadata": {},
   "source": [
    "## Example 2: DataFrame dataset\n",
    "Suppose the `movies.json` dataset is already loaded into memory as a pandas `DataFrame`"
   ]
  },
  {
   "cell_type": "code",
   "execution_count": 8,
   "id": "4ecb9fd9-5f8a-42ba-b574-4131f9998f8e",
   "metadata": {},
   "outputs": [
    {
     "data": {
      "text/html": [
       "<div>\n",
       "<style scoped>\n",
       "    .dataframe tbody tr th:only-of-type {\n",
       "        vertical-align: middle;\n",
       "    }\n",
       "\n",
       "    .dataframe tbody tr th {\n",
       "        vertical-align: top;\n",
       "    }\n",
       "\n",
       "    .dataframe thead th {\n",
       "        text-align: right;\n",
       "    }\n",
       "</style>\n",
       "<table border=\"1\" class=\"dataframe\">\n",
       "  <thead>\n",
       "    <tr style=\"text-align: right;\">\n",
       "      <th></th>\n",
       "      <th>Title</th>\n",
       "      <th>US Gross</th>\n",
       "      <th>Worldwide Gross</th>\n",
       "      <th>US DVD Sales</th>\n",
       "      <th>Production Budget</th>\n",
       "      <th>Release Date</th>\n",
       "      <th>MPAA Rating</th>\n",
       "      <th>Running Time min</th>\n",
       "      <th>Distributor</th>\n",
       "      <th>Source</th>\n",
       "      <th>Major Genre</th>\n",
       "      <th>Creative Type</th>\n",
       "      <th>Director</th>\n",
       "      <th>Rotten Tomatoes Rating</th>\n",
       "      <th>IMDB Rating</th>\n",
       "      <th>IMDB Votes</th>\n",
       "    </tr>\n",
       "  </thead>\n",
       "  <tbody>\n",
       "    <tr>\n",
       "      <th>0</th>\n",
       "      <td>The Land Girls</td>\n",
       "      <td>146083.0</td>\n",
       "      <td>146083.0</td>\n",
       "      <td>NaN</td>\n",
       "      <td>8000000.0</td>\n",
       "      <td>Jun 12 1998</td>\n",
       "      <td>R</td>\n",
       "      <td>NaN</td>\n",
       "      <td>Gramercy</td>\n",
       "      <td>None</td>\n",
       "      <td>None</td>\n",
       "      <td>None</td>\n",
       "      <td>None</td>\n",
       "      <td>NaN</td>\n",
       "      <td>6.1</td>\n",
       "      <td>1071.0</td>\n",
       "    </tr>\n",
       "    <tr>\n",
       "      <th>1</th>\n",
       "      <td>First Love, Last Rites</td>\n",
       "      <td>10876.0</td>\n",
       "      <td>10876.0</td>\n",
       "      <td>NaN</td>\n",
       "      <td>300000.0</td>\n",
       "      <td>Aug 07 1998</td>\n",
       "      <td>R</td>\n",
       "      <td>NaN</td>\n",
       "      <td>Strand</td>\n",
       "      <td>None</td>\n",
       "      <td>Drama</td>\n",
       "      <td>None</td>\n",
       "      <td>None</td>\n",
       "      <td>NaN</td>\n",
       "      <td>6.9</td>\n",
       "      <td>207.0</td>\n",
       "    </tr>\n",
       "    <tr>\n",
       "      <th>2</th>\n",
       "      <td>I Married a Strange Person</td>\n",
       "      <td>203134.0</td>\n",
       "      <td>203134.0</td>\n",
       "      <td>NaN</td>\n",
       "      <td>250000.0</td>\n",
       "      <td>Aug 28 1998</td>\n",
       "      <td>None</td>\n",
       "      <td>NaN</td>\n",
       "      <td>Lionsgate</td>\n",
       "      <td>None</td>\n",
       "      <td>Comedy</td>\n",
       "      <td>None</td>\n",
       "      <td>None</td>\n",
       "      <td>NaN</td>\n",
       "      <td>6.8</td>\n",
       "      <td>865.0</td>\n",
       "    </tr>\n",
       "    <tr>\n",
       "      <th>3</th>\n",
       "      <td>Let's Talk About Sex</td>\n",
       "      <td>373615.0</td>\n",
       "      <td>373615.0</td>\n",
       "      <td>NaN</td>\n",
       "      <td>300000.0</td>\n",
       "      <td>Sep 11 1998</td>\n",
       "      <td>None</td>\n",
       "      <td>NaN</td>\n",
       "      <td>Fine Line</td>\n",
       "      <td>None</td>\n",
       "      <td>Comedy</td>\n",
       "      <td>None</td>\n",
       "      <td>None</td>\n",
       "      <td>13.0</td>\n",
       "      <td>NaN</td>\n",
       "      <td>NaN</td>\n",
       "    </tr>\n",
       "    <tr>\n",
       "      <th>4</th>\n",
       "      <td>Slam</td>\n",
       "      <td>1009819.0</td>\n",
       "      <td>1087521.0</td>\n",
       "      <td>NaN</td>\n",
       "      <td>1000000.0</td>\n",
       "      <td>Oct 09 1998</td>\n",
       "      <td>R</td>\n",
       "      <td>NaN</td>\n",
       "      <td>Trimark</td>\n",
       "      <td>Original Screenplay</td>\n",
       "      <td>Drama</td>\n",
       "      <td>Contemporary Fiction</td>\n",
       "      <td>None</td>\n",
       "      <td>62.0</td>\n",
       "      <td>3.4</td>\n",
       "      <td>165.0</td>\n",
       "    </tr>\n",
       "  </tbody>\n",
       "</table>\n",
       "</div>"
      ],
      "text/plain": [
       "                        Title   US Gross  Worldwide Gross  US DVD Sales  \\\n",
       "0              The Land Girls   146083.0         146083.0           NaN   \n",
       "1      First Love, Last Rites    10876.0          10876.0           NaN   \n",
       "2  I Married a Strange Person   203134.0         203134.0           NaN   \n",
       "3        Let's Talk About Sex   373615.0         373615.0           NaN   \n",
       "4                        Slam  1009819.0        1087521.0           NaN   \n",
       "\n",
       "   Production Budget Release Date MPAA Rating  Running Time min Distributor  \\\n",
       "0          8000000.0  Jun 12 1998           R               NaN    Gramercy   \n",
       "1           300000.0  Aug 07 1998           R               NaN      Strand   \n",
       "2           250000.0  Aug 28 1998        None               NaN   Lionsgate   \n",
       "3           300000.0  Sep 11 1998        None               NaN   Fine Line   \n",
       "4          1000000.0  Oct 09 1998           R               NaN     Trimark   \n",
       "\n",
       "                Source Major Genre         Creative Type Director  \\\n",
       "0                 None        None                  None     None   \n",
       "1                 None       Drama                  None     None   \n",
       "2                 None      Comedy                  None     None   \n",
       "3                 None      Comedy                  None     None   \n",
       "4  Original Screenplay       Drama  Contemporary Fiction     None   \n",
       "\n",
       "   Rotten Tomatoes Rating  IMDB Rating  IMDB Votes  \n",
       "0                     NaN          6.1      1071.0  \n",
       "1                     NaN          6.9       207.0  \n",
       "2                     NaN          6.8       865.0  \n",
       "3                    13.0          NaN         NaN  \n",
       "4                    62.0          3.4       165.0  "
      ]
     },
     "execution_count": 8,
     "metadata": {},
     "output_type": "execute_result"
    }
   ],
   "source": [
    "movies = pd.read_json(\"https://raw.githubusercontent.com/vega/vega-datasets/master/data/movies.json\")\n",
    "movies.head()"
   ]
  },
  {
   "cell_type": "markdown",
   "id": "f2127eda-17bc-46fa-a985-2db6e030058d",
   "metadata": {},
   "source": [
    "---\n",
    "\n",
    "This DataFrame can be provided to `pre_transform_datasets` method as a \"named dataset\", with name `\"movies\"`.  When a `DataFrame` is provided as a named dataset, it can be referenced by name from within the Vega specification using a special url syntax. In this case, the moveis dataset can be referenced as `\"vegafusion+dataset://movies\"`.  Here is the full specification:"
   ]
  },
  {
   "cell_type": "code",
   "execution_count": 13,
   "id": "193616bb-4c94-43d0-8411-2f9c462e1e9a",
   "metadata": {},
   "outputs": [],
   "source": [
    "full_spec_named = json.loads(r\"\"\"\n",
    "{\n",
    "  \"$schema\": \"https://vega.github.io/schema/vega/v5.json\",\n",
    "  \"background\": \"white\",\n",
    "  \"padding\": 5,\n",
    "  \"width\": 200,\n",
    "  \"height\": 200,\n",
    "  \"style\": \"cell\",\n",
    "  \"data\": [\n",
    "    {\n",
    "      \"name\": \"source_0\",\n",
    "      \"url\": \"vegafusion+dataset://movies\",\n",
    "      \"transform\": [\n",
    "        {\n",
    "          \"type\": \"extent\",\n",
    "          \"field\": \"IMDB Rating\",\n",
    "          \"signal\": \"bin_maxbins_10_IMDB_Rating_extent\"\n",
    "        },\n",
    "        {\n",
    "          \"type\": \"bin\",\n",
    "          \"field\": \"IMDB Rating\",\n",
    "          \"as\": [\n",
    "            \"bin_maxbins_10_IMDB Rating\",\n",
    "            \"bin_maxbins_10_IMDB Rating_end\"\n",
    "          ],\n",
    "          \"signal\": \"bin_maxbins_10_IMDB_Rating_bins\",\n",
    "          \"extent\": {\"signal\": \"bin_maxbins_10_IMDB_Rating_extent\"},\n",
    "          \"maxbins\": 10\n",
    "        },\n",
    "        {\n",
    "          \"type\": \"aggregate\",\n",
    "          \"groupby\": [\n",
    "            \"bin_maxbins_10_IMDB Rating\",\n",
    "            \"bin_maxbins_10_IMDB Rating_end\"\n",
    "          ],\n",
    "          \"ops\": [\"count\"],\n",
    "          \"fields\": [null],\n",
    "          \"as\": [\"__count\"]\n",
    "        },\n",
    "        {\n",
    "          \"type\": \"filter\",\n",
    "          \"expr\": \"isValid(datum[\\\"bin_maxbins_10_IMDB Rating\\\"]) && isFinite(+datum[\\\"bin_maxbins_10_IMDB Rating\\\"])\"\n",
    "        }\n",
    "      ]\n",
    "    }\n",
    "  ],\n",
    "  \"marks\": [\n",
    "    {\n",
    "      \"name\": \"marks\",\n",
    "      \"type\": \"rect\",\n",
    "      \"style\": [\"bar\"],\n",
    "      \"from\": {\"data\": \"source_0\"},\n",
    "      \"encode\": {\n",
    "        \"update\": {\n",
    "          \"fill\": {\"value\": \"#4c78a8\"},\n",
    "          \"ariaRoleDescription\": {\"value\": \"bar\"},\n",
    "          \"description\": {\n",
    "            \"signal\": \"\\\"IMDB Rating (binned): \\\" + (!isValid(datum[\\\"bin_maxbins_10_IMDB Rating\\\"]) || !isFinite(+datum[\\\"bin_maxbins_10_IMDB Rating\\\"]) ? \\\"null\\\" : format(datum[\\\"bin_maxbins_10_IMDB Rating\\\"], \\\"\\\") + \\\" – \\\" + format(datum[\\\"bin_maxbins_10_IMDB Rating_end\\\"], \\\"\\\")) + \\\"; Count of Records: \\\" + (format(datum[\\\"__count\\\"], \\\"\\\"))\"\n",
    "          },\n",
    "          \"x2\": {\n",
    "            \"scale\": \"x\",\n",
    "            \"field\": \"bin_maxbins_10_IMDB Rating\",\n",
    "            \"offset\": 1\n",
    "          },\n",
    "          \"x\": {\"scale\": \"x\", \"field\": \"bin_maxbins_10_IMDB Rating_end\"},\n",
    "          \"y\": {\"scale\": \"y\", \"field\": \"__count\"},\n",
    "          \"y2\": {\"scale\": \"y\", \"value\": 0}\n",
    "        }\n",
    "      }\n",
    "    }\n",
    "  ],\n",
    "  \"scales\": [\n",
    "    {\n",
    "      \"name\": \"x\",\n",
    "      \"type\": \"linear\",\n",
    "      \"domain\": {\n",
    "        \"signal\": \"[bin_maxbins_10_IMDB_Rating_bins.start, bin_maxbins_10_IMDB_Rating_bins.stop]\"\n",
    "      },\n",
    "      \"range\": [0, {\"signal\": \"width\"}],\n",
    "      \"bins\": {\"signal\": \"bin_maxbins_10_IMDB_Rating_bins\"},\n",
    "      \"zero\": false\n",
    "    },\n",
    "    {\n",
    "      \"name\": \"y\",\n",
    "      \"type\": \"linear\",\n",
    "      \"domain\": {\"data\": \"source_0\", \"field\": \"__count\"},\n",
    "      \"range\": [{\"signal\": \"height\"}, 0],\n",
    "      \"nice\": true,\n",
    "      \"zero\": true\n",
    "    }\n",
    "  ],\n",
    "  \"axes\": [\n",
    "    {\n",
    "      \"scale\": \"y\",\n",
    "      \"orient\": \"left\",\n",
    "      \"gridScale\": \"x\",\n",
    "      \"grid\": true,\n",
    "      \"tickCount\": {\"signal\": \"ceil(height/40)\"},\n",
    "      \"domain\": false,\n",
    "      \"labels\": false,\n",
    "      \"maxExtent\": 0,\n",
    "      \"minExtent\": 0,\n",
    "      \"ticks\": false,\n",
    "      \"zindex\": 0\n",
    "    },\n",
    "    {\n",
    "      \"scale\": \"x\",\n",
    "      \"orient\": \"bottom\",\n",
    "      \"grid\": false,\n",
    "      \"title\": \"IMDB Rating (binned)\",\n",
    "      \"labelFlush\": true,\n",
    "      \"labelOverlap\": true,\n",
    "      \"tickCount\": {\"signal\": \"ceil(width/10)\"},\n",
    "      \"zindex\": 0\n",
    "    },\n",
    "    {\n",
    "      \"scale\": \"y\",\n",
    "      \"orient\": \"left\",\n",
    "      \"grid\": false,\n",
    "      \"title\": \"Count of Records\",\n",
    "      \"labelOverlap\": true,\n",
    "      \"tickCount\": {\"signal\": \"ceil(height/40)\"},\n",
    "      \"zindex\": 0\n",
    "    }\n",
    "  ]\n",
    "}\n",
    "\"\"\")"
   ]
  },
  {
   "cell_type": "code",
   "execution_count": 14,
   "id": "033700ff-da9c-4655-bc3b-104d66ed55c7",
   "metadata": {},
   "outputs": [],
   "source": [
    "transformed_datasets, warnings = vf.runtime.pre_transform_datasets(\n",
    "    full_spec_named, [\"source_0\"], local_tz, inline_datasets=dict(movies=movies)\n",
    ")"
   ]
  },
  {
   "cell_type": "code",
   "execution_count": 15,
   "id": "06148bd0-5608-4ae9-837c-8bb07a1b7830",
   "metadata": {},
   "outputs": [
    {
     "name": "stdout",
     "output_type": "stream",
     "text": [
      "[]\n"
     ]
    }
   ],
   "source": [
    "print(warnings)"
   ]
  },
  {
   "cell_type": "code",
   "execution_count": 16,
   "id": "6122ff6d-1ba5-4f5e-8b3f-5ad78a239360",
   "metadata": {},
   "outputs": [
    {
     "data": {
      "text/html": [
       "<div>\n",
       "<style scoped>\n",
       "    .dataframe tbody tr th:only-of-type {\n",
       "        vertical-align: middle;\n",
       "    }\n",
       "\n",
       "    .dataframe tbody tr th {\n",
       "        vertical-align: top;\n",
       "    }\n",
       "\n",
       "    .dataframe thead th {\n",
       "        text-align: right;\n",
       "    }\n",
       "</style>\n",
       "<table border=\"1\" class=\"dataframe\">\n",
       "  <thead>\n",
       "    <tr style=\"text-align: right;\">\n",
       "      <th></th>\n",
       "      <th>bin_maxbins_10_IMDB Rating</th>\n",
       "      <th>bin_maxbins_10_IMDB Rating_end</th>\n",
       "      <th>__count</th>\n",
       "    </tr>\n",
       "  </thead>\n",
       "  <tbody>\n",
       "    <tr>\n",
       "      <th>0</th>\n",
       "      <td>6.0</td>\n",
       "      <td>7.0</td>\n",
       "      <td>985</td>\n",
       "    </tr>\n",
       "    <tr>\n",
       "      <th>1</th>\n",
       "      <td>3.0</td>\n",
       "      <td>4.0</td>\n",
       "      <td>100</td>\n",
       "    </tr>\n",
       "    <tr>\n",
       "      <th>2</th>\n",
       "      <td>7.0</td>\n",
       "      <td>8.0</td>\n",
       "      <td>741</td>\n",
       "    </tr>\n",
       "    <tr>\n",
       "      <th>3</th>\n",
       "      <td>5.0</td>\n",
       "      <td>6.0</td>\n",
       "      <td>633</td>\n",
       "    </tr>\n",
       "    <tr>\n",
       "      <th>4</th>\n",
       "      <td>8.0</td>\n",
       "      <td>9.0</td>\n",
       "      <td>204</td>\n",
       "    </tr>\n",
       "    <tr>\n",
       "      <th>5</th>\n",
       "      <td>2.0</td>\n",
       "      <td>3.0</td>\n",
       "      <td>43</td>\n",
       "    </tr>\n",
       "    <tr>\n",
       "      <th>6</th>\n",
       "      <td>4.0</td>\n",
       "      <td>5.0</td>\n",
       "      <td>273</td>\n",
       "    </tr>\n",
       "    <tr>\n",
       "      <th>7</th>\n",
       "      <td>9.0</td>\n",
       "      <td>10.0</td>\n",
       "      <td>4</td>\n",
       "    </tr>\n",
       "    <tr>\n",
       "      <th>8</th>\n",
       "      <td>1.0</td>\n",
       "      <td>2.0</td>\n",
       "      <td>5</td>\n",
       "    </tr>\n",
       "  </tbody>\n",
       "</table>\n",
       "</div>"
      ],
      "text/plain": [
       "   bin_maxbins_10_IMDB Rating  bin_maxbins_10_IMDB Rating_end  __count\n",
       "0                         6.0                             7.0      985\n",
       "1                         3.0                             4.0      100\n",
       "2                         7.0                             8.0      741\n",
       "3                         5.0                             6.0      633\n",
       "4                         8.0                             9.0      204\n",
       "5                         2.0                             3.0       43\n",
       "6                         4.0                             5.0      273\n",
       "7                         9.0                            10.0        4\n",
       "8                         1.0                             2.0        5"
      ]
     },
     "execution_count": 16,
     "metadata": {},
     "output_type": "execute_result"
    }
   ],
   "source": [
    "transformed_datasets[0]"
   ]
  },
  {
   "cell_type": "code",
   "execution_count": null,
   "id": "f1560e54-26b7-44bb-99e7-ab016a2a6c3c",
   "metadata": {},
   "outputs": [],
   "source": []
  }
 ],
 "metadata": {
  "kernelspec": {
   "display_name": "Python 3 (ipykernel)",
   "language": "python",
   "name": "python3"
  },
  "language_info": {
   "codemirror_mode": {
    "name": "ipython",
    "version": 3
   },
   "file_extension": ".py",
   "mimetype": "text/x-python",
   "name": "python",
   "nbconvert_exporter": "python",
   "pygments_lexer": "ipython3",
   "version": "3.9.13"
  }
 },
 "nbformat": 4,
 "nbformat_minor": 5
}
