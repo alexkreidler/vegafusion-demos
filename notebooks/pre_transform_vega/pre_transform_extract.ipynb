{
 "cells": [
  {
   "cell_type": "markdown",
   "id": "06f1b592-01da-4ccc-8cad-7e77e1821bd9",
   "metadata": {},
   "source": [
    "## Overview\n",
    "The VegaFusion `pre_transform_extract` function supports pre-applying the transforms in a Vega specifications and extracting the transformed datasets as pyarrow Tables. This is a variation of `pre_transform_spec` that returns the transformed data in arrow format rather than inlining it into the resulting JSON specification.\n",
    "\n",
    "This approach is intended for renderers that are capable of transmitting arrow binary data separately from the JSON specification The renderer is then responsible for inserting the Arrow data back into the specification before rendering it with the Vega JavaScript library.\n",
    "\n",
    "**Note**: This is fairly low-level functionality that is not yet integrated with Altair. It is designed to be a building block for larger Vega systems."
   ]
  },
  {
   "cell_type": "code",
   "execution_count": 1,
   "id": "d82a5a1c-c7b2-468c-9377-a6d56efa5fad",
   "metadata": {},
   "outputs": [],
   "source": [
    "# imports\n",
    "import json\n",
    "from altair.vega import vega\n",
    "import vegafusion as vf\n",
    "import pandas as pd\n",
    "\n",
    "local_tz = \"UTC\""
   ]
  },
  {
   "cell_type": "markdown",
   "id": "fffa8aad-fe97-433b-9618-268e93e44c01",
   "metadata": {},
   "source": [
    "## Example 1: JSON url dataset\n",
    "Consider a simple Vega-Lite heatmap like the example at https://vega.github.io/vega-lite/examples/rect_binned_heatmap.html\n",
    "\n",
    "```json\n",
    "{\n",
    "  \"$schema\": \"https://vega.github.io/schema/vega-lite/v5.json\",\n",
    "  \"data\": {\"url\": \"https://raw.githubusercontent.com/vega/vega-datasets/master/data/movies.json\"},\n",
    "  \"transform\": [{\n",
    "    \"filter\": {\"and\": [\n",
    "      {\"field\": \"IMDB Rating\", \"valid\": true},\n",
    "      {\"field\": \"Rotten Tomatoes Rating\", \"valid\": true}\n",
    "    ]}\n",
    "  }],\n",
    "  \"mark\": \"rect\",\n",
    "  \"width\": 300,\n",
    "  \"height\": 200,\n",
    "  \"encoding\": {\n",
    "    \"x\": {\n",
    "      \"bin\": {\"maxbins\":60},\n",
    "      \"field\": \"IMDB Rating\",\n",
    "      \"type\": \"quantitative\"\n",
    "    },\n",
    "    \"y\": {\n",
    "      \"bin\": {\"maxbins\": 40},\n",
    "      \"field\": \"Rotten Tomatoes Rating\",\n",
    "      \"type\": \"quantitative\"\n",
    "    },\n",
    "    \"color\": {\n",
    "      \"aggregate\": \"count\",\n",
    "      \"type\": \"quantitative\"\n",
    "    }\n",
    "  },\n",
    "  \"config\": {\n",
    "    \"view\": {\n",
    "      \"stroke\": \"transparent\"\n",
    "    }\n",
    "  }\n",
    "}\n",
    "\n",
    "```\n",
    "\n",
    "This compiles down into the following Vega specification:"
   ]
  },
  {
   "cell_type": "code",
   "execution_count": 2,
   "id": "e9d7d690-d376-4d63-9e7b-024bf5760351",
   "metadata": {},
   "outputs": [],
   "source": [
    "full_spec = json.loads(r\"\"\"\n",
    "{\n",
    "  \"$schema\": \"https://vega.github.io/schema/vega/v5.json\",\n",
    "  \"background\": \"white\",\n",
    "  \"padding\": 5,\n",
    "  \"width\": 300,\n",
    "  \"height\": 200,\n",
    "  \"style\": \"cell\",\n",
    "  \"data\": [\n",
    "    {\n",
    "      \"name\": \"source_0\",\n",
    "      \"url\": \"https://raw.githubusercontent.com/vega/vega-datasets/master/data/movies.json\",\n",
    "      \"format\": {\"type\": \"json\"},\n",
    "      \"transform\": [\n",
    "        {\n",
    "          \"type\": \"filter\",\n",
    "          \"expr\": \"(isValid(datum[\\\"IMDB Rating\\\"]) && isFinite(+datum[\\\"IMDB Rating\\\"])) && (isValid(datum[\\\"Rotten Tomatoes Rating\\\"]) && isFinite(+datum[\\\"Rotten Tomatoes Rating\\\"]))\"\n",
    "        },\n",
    "        {\n",
    "          \"type\": \"extent\",\n",
    "          \"field\": \"IMDB Rating\",\n",
    "          \"signal\": \"bin_maxbins_60_IMDB_Rating_extent\"\n",
    "        },\n",
    "        {\n",
    "          \"type\": \"bin\",\n",
    "          \"field\": \"IMDB Rating\",\n",
    "          \"as\": [\n",
    "            \"bin_maxbins_60_IMDB Rating\",\n",
    "            \"bin_maxbins_60_IMDB Rating_end\"\n",
    "          ],\n",
    "          \"signal\": \"bin_maxbins_60_IMDB_Rating_bins\",\n",
    "          \"extent\": {\"signal\": \"bin_maxbins_60_IMDB_Rating_extent\"},\n",
    "          \"maxbins\": 60\n",
    "        },\n",
    "        {\n",
    "          \"type\": \"extent\",\n",
    "          \"field\": \"Rotten Tomatoes Rating\",\n",
    "          \"signal\": \"bin_maxbins_40_Rotten_Tomatoes_Rating_extent\"\n",
    "        },\n",
    "        {\n",
    "          \"type\": \"bin\",\n",
    "          \"field\": \"Rotten Tomatoes Rating\",\n",
    "          \"as\": [\n",
    "            \"bin_maxbins_40_Rotten Tomatoes Rating\",\n",
    "            \"bin_maxbins_40_Rotten Tomatoes Rating_end\"\n",
    "          ],\n",
    "          \"signal\": \"bin_maxbins_40_Rotten_Tomatoes_Rating_bins\",\n",
    "          \"extent\": {\"signal\": \"bin_maxbins_40_Rotten_Tomatoes_Rating_extent\"},\n",
    "          \"maxbins\": 40\n",
    "        },\n",
    "        {\n",
    "          \"type\": \"aggregate\",\n",
    "          \"groupby\": [\n",
    "            \"bin_maxbins_60_IMDB Rating\",\n",
    "            \"bin_maxbins_60_IMDB Rating_end\",\n",
    "            \"bin_maxbins_40_Rotten Tomatoes Rating\",\n",
    "            \"bin_maxbins_40_Rotten Tomatoes Rating_end\"\n",
    "          ],\n",
    "          \"ops\": [\"count\"],\n",
    "          \"fields\": [null],\n",
    "          \"as\": [\"__count\"]\n",
    "        },\n",
    "        {\n",
    "          \"type\": \"filter\",\n",
    "          \"expr\": \"isValid(datum[\\\"bin_maxbins_60_IMDB Rating\\\"]) && isFinite(+datum[\\\"bin_maxbins_60_IMDB Rating\\\"]) && isValid(datum[\\\"bin_maxbins_40_Rotten Tomatoes Rating\\\"]) && isFinite(+datum[\\\"bin_maxbins_40_Rotten Tomatoes Rating\\\"])\"\n",
    "        }\n",
    "      ]\n",
    "    }\n",
    "  ],\n",
    "  \"marks\": [\n",
    "    {\n",
    "      \"name\": \"marks\",\n",
    "      \"type\": \"rect\",\n",
    "      \"style\": [\"rect\"],\n",
    "      \"from\": {\"data\": \"source_0\"},\n",
    "      \"encode\": {\n",
    "        \"update\": {\n",
    "          \"fill\": {\"scale\": \"color\", \"field\": \"__count\"},\n",
    "          \"description\": {\n",
    "            \"signal\": \"\\\"IMDB Rating (binned): \\\" + (!isValid(datum[\\\"bin_maxbins_60_IMDB Rating\\\"]) || !isFinite(+datum[\\\"bin_maxbins_60_IMDB Rating\\\"]) ? \\\"null\\\" : format(datum[\\\"bin_maxbins_60_IMDB Rating\\\"], \\\"\\\") + \\\" – \\\" + format(datum[\\\"bin_maxbins_60_IMDB Rating_end\\\"], \\\"\\\")) + \\\"; Rotten Tomatoes Rating (binned): \\\" + (!isValid(datum[\\\"bin_maxbins_40_Rotten Tomatoes Rating\\\"]) || !isFinite(+datum[\\\"bin_maxbins_40_Rotten Tomatoes Rating\\\"]) ? \\\"null\\\" : format(datum[\\\"bin_maxbins_40_Rotten Tomatoes Rating\\\"], \\\"\\\") + \\\" – \\\" + format(datum[\\\"bin_maxbins_40_Rotten Tomatoes Rating_end\\\"], \\\"\\\")) + \\\"; Count of Records: \\\" + (format(datum[\\\"__count\\\"], \\\"\\\"))\"\n",
    "          },\n",
    "          \"x2\": {\n",
    "            \"scale\": \"x\",\n",
    "            \"field\": \"bin_maxbins_60_IMDB Rating\",\n",
    "            \"offset\": 0.5\n",
    "          },\n",
    "          \"x\": {\n",
    "            \"scale\": \"x\",\n",
    "            \"field\": \"bin_maxbins_60_IMDB Rating_end\",\n",
    "            \"offset\": 0.5\n",
    "          },\n",
    "          \"y2\": {\n",
    "            \"scale\": \"y\",\n",
    "            \"field\": \"bin_maxbins_40_Rotten Tomatoes Rating\",\n",
    "            \"offset\": 0.5\n",
    "          },\n",
    "          \"y\": {\n",
    "            \"scale\": \"y\",\n",
    "            \"field\": \"bin_maxbins_40_Rotten Tomatoes Rating_end\",\n",
    "            \"offset\": 0.5\n",
    "          }\n",
    "        }\n",
    "      }\n",
    "    }\n",
    "  ],\n",
    "  \"scales\": [\n",
    "    {\n",
    "      \"name\": \"x\",\n",
    "      \"type\": \"linear\",\n",
    "      \"domain\": {\n",
    "        \"signal\": \"[bin_maxbins_60_IMDB_Rating_bins.start, bin_maxbins_60_IMDB_Rating_bins.stop]\"\n",
    "      },\n",
    "      \"range\": [0, {\"signal\": \"width\"}],\n",
    "      \"bins\": {\"signal\": \"bin_maxbins_60_IMDB_Rating_bins\"},\n",
    "      \"zero\": false\n",
    "    },\n",
    "    {\n",
    "      \"name\": \"y\",\n",
    "      \"type\": \"linear\",\n",
    "      \"domain\": {\n",
    "        \"signal\": \"[bin_maxbins_40_Rotten_Tomatoes_Rating_bins.start, bin_maxbins_40_Rotten_Tomatoes_Rating_bins.stop]\"\n",
    "      },\n",
    "      \"range\": [{\"signal\": \"height\"}, 0],\n",
    "      \"bins\": {\"signal\": \"bin_maxbins_40_Rotten_Tomatoes_Rating_bins\"},\n",
    "      \"zero\": false\n",
    "    },\n",
    "    {\n",
    "      \"name\": \"color\",\n",
    "      \"type\": \"linear\",\n",
    "      \"domain\": {\"data\": \"source_0\", \"field\": \"__count\"},\n",
    "      \"range\": \"heatmap\",\n",
    "      \"interpolate\": \"hcl\",\n",
    "      \"zero\": false\n",
    "    }\n",
    "  ],\n",
    "  \"axes\": [\n",
    "    {\n",
    "      \"scale\": \"x\",\n",
    "      \"orient\": \"bottom\",\n",
    "      \"grid\": false,\n",
    "      \"title\": \"IMDB Rating (binned)\",\n",
    "      \"labelFlush\": true,\n",
    "      \"labelOverlap\": true,\n",
    "      \"tickCount\": {\"signal\": \"ceil(width/10)\"},\n",
    "      \"zindex\": 1\n",
    "    },\n",
    "    {\n",
    "      \"scale\": \"y\",\n",
    "      \"orient\": \"left\",\n",
    "      \"grid\": false,\n",
    "      \"title\": \"Rotten Tomatoes Rating (binned)\",\n",
    "      \"labelOverlap\": true,\n",
    "      \"tickCount\": {\"signal\": \"ceil(height/10)\"},\n",
    "      \"zindex\": 1\n",
    "    }\n",
    "  ],\n",
    "  \"legends\": [\n",
    "    {\n",
    "      \"fill\": \"color\",\n",
    "      \"gradientLength\": {\"signal\": \"clamp(height, 64, 200)\"},\n",
    "      \"title\": \"Count of Records\"\n",
    "    }\n",
    "  ],\n",
    "  \"config\": {\"style\": {\"cell\": {\"stroke\": \"transparent\"}}}\n",
    "}\n",
    "\"\"\")"
   ]
  },
  {
   "cell_type": "code",
   "execution_count": 3,
   "id": "3f25db85-99df-436d-813b-1df689055f52",
   "metadata": {},
   "outputs": [
    {
     "data": {
      "application/vnd.vega.v5+json": {
       "$schema": "https://vega.github.io/schema/vega/v5.json",
       "axes": [
        {
         "grid": false,
         "labelFlush": true,
         "labelOverlap": true,
         "orient": "bottom",
         "scale": "x",
         "tickCount": {
          "signal": "ceil(width/10)"
         },
         "title": "IMDB Rating (binned)",
         "zindex": 1
        },
        {
         "grid": false,
         "labelOverlap": true,
         "orient": "left",
         "scale": "y",
         "tickCount": {
          "signal": "ceil(height/10)"
         },
         "title": "Rotten Tomatoes Rating (binned)",
         "zindex": 1
        }
       ],
       "background": "white",
       "config": {
        "style": {
         "cell": {
          "stroke": "transparent"
         }
        }
       },
       "data": [
        {
         "format": {
          "type": "json"
         },
         "name": "source_0",
         "transform": [
          {
           "expr": "(isValid(datum[\"IMDB Rating\"]) && isFinite(+datum[\"IMDB Rating\"])) && (isValid(datum[\"Rotten Tomatoes Rating\"]) && isFinite(+datum[\"Rotten Tomatoes Rating\"]))",
           "type": "filter"
          },
          {
           "field": "IMDB Rating",
           "signal": "bin_maxbins_60_IMDB_Rating_extent",
           "type": "extent"
          },
          {
           "as": [
            "bin_maxbins_60_IMDB Rating",
            "bin_maxbins_60_IMDB Rating_end"
           ],
           "extent": {
            "signal": "bin_maxbins_60_IMDB_Rating_extent"
           },
           "field": "IMDB Rating",
           "maxbins": 60,
           "signal": "bin_maxbins_60_IMDB_Rating_bins",
           "type": "bin"
          },
          {
           "field": "Rotten Tomatoes Rating",
           "signal": "bin_maxbins_40_Rotten_Tomatoes_Rating_extent",
           "type": "extent"
          },
          {
           "as": [
            "bin_maxbins_40_Rotten Tomatoes Rating",
            "bin_maxbins_40_Rotten Tomatoes Rating_end"
           ],
           "extent": {
            "signal": "bin_maxbins_40_Rotten_Tomatoes_Rating_extent"
           },
           "field": "Rotten Tomatoes Rating",
           "maxbins": 40,
           "signal": "bin_maxbins_40_Rotten_Tomatoes_Rating_bins",
           "type": "bin"
          },
          {
           "as": [
            "__count"
           ],
           "fields": [
            null
           ],
           "groupby": [
            "bin_maxbins_60_IMDB Rating",
            "bin_maxbins_60_IMDB Rating_end",
            "bin_maxbins_40_Rotten Tomatoes Rating",
            "bin_maxbins_40_Rotten Tomatoes Rating_end"
           ],
           "ops": [
            "count"
           ],
           "type": "aggregate"
          },
          {
           "expr": "isValid(datum[\"bin_maxbins_60_IMDB Rating\"]) && isFinite(+datum[\"bin_maxbins_60_IMDB Rating\"]) && isValid(datum[\"bin_maxbins_40_Rotten Tomatoes Rating\"]) && isFinite(+datum[\"bin_maxbins_40_Rotten Tomatoes Rating\"])",
           "type": "filter"
          }
         ],
         "url": "https://raw.githubusercontent.com/vega/vega-datasets/master/data/movies.json"
        }
       ],
       "height": 200,
       "legends": [
        {
         "fill": "color",
         "gradientLength": {
          "signal": "clamp(height, 64, 200)"
         },
         "title": "Count of Records"
        }
       ],
       "marks": [
        {
         "encode": {
          "update": {
           "description": {
            "signal": "\"IMDB Rating (binned): \" + (!isValid(datum[\"bin_maxbins_60_IMDB Rating\"]) || !isFinite(+datum[\"bin_maxbins_60_IMDB Rating\"]) ? \"null\" : format(datum[\"bin_maxbins_60_IMDB Rating\"], \"\") + \" – \" + format(datum[\"bin_maxbins_60_IMDB Rating_end\"], \"\")) + \"; Rotten Tomatoes Rating (binned): \" + (!isValid(datum[\"bin_maxbins_40_Rotten Tomatoes Rating\"]) || !isFinite(+datum[\"bin_maxbins_40_Rotten Tomatoes Rating\"]) ? \"null\" : format(datum[\"bin_maxbins_40_Rotten Tomatoes Rating\"], \"\") + \" – \" + format(datum[\"bin_maxbins_40_Rotten Tomatoes Rating_end\"], \"\")) + \"; Count of Records: \" + (format(datum[\"__count\"], \"\"))"
           },
           "fill": {
            "field": "__count",
            "scale": "color"
           },
           "x": {
            "field": "bin_maxbins_60_IMDB Rating_end",
            "offset": 0.5,
            "scale": "x"
           },
           "x2": {
            "field": "bin_maxbins_60_IMDB Rating",
            "offset": 0.5,
            "scale": "x"
           },
           "y": {
            "field": "bin_maxbins_40_Rotten Tomatoes Rating_end",
            "offset": 0.5,
            "scale": "y"
           },
           "y2": {
            "field": "bin_maxbins_40_Rotten Tomatoes Rating",
            "offset": 0.5,
            "scale": "y"
           }
          }
         },
         "from": {
          "data": "source_0"
         },
         "name": "marks",
         "style": [
          "rect"
         ],
         "type": "rect"
        }
       ],
       "padding": 5,
       "scales": [
        {
         "bins": {
          "signal": "bin_maxbins_60_IMDB_Rating_bins"
         },
         "domain": {
          "signal": "[bin_maxbins_60_IMDB_Rating_bins.start, bin_maxbins_60_IMDB_Rating_bins.stop]"
         },
         "name": "x",
         "range": [
          0,
          {
           "signal": "width"
          }
         ],
         "type": "linear",
         "zero": false
        },
        {
         "bins": {
          "signal": "bin_maxbins_40_Rotten_Tomatoes_Rating_bins"
         },
         "domain": {
          "signal": "[bin_maxbins_40_Rotten_Tomatoes_Rating_bins.start, bin_maxbins_40_Rotten_Tomatoes_Rating_bins.stop]"
         },
         "name": "y",
         "range": [
          {
           "signal": "height"
          },
          0
         ],
         "type": "linear",
         "zero": false
        },
        {
         "domain": {
          "data": "source_0",
          "field": "__count"
         },
         "interpolate": "hcl",
         "name": "color",
         "range": "heatmap",
         "type": "linear",
         "zero": false
        }
       ],
       "style": "cell",
       "width": 300
      },
      "image/png": "[encoded data removed]",
      "text/plain": [
       "<Vega 5 object>\n",
       "\n",
       "If you see this message, it means the renderer has not been properly enabled\n",
       "for the frontend that you are using. For more information, see\n",
       "https://altair-viz.github.io/user_guide/troubleshooting.html\n"
      ]
     },
     "metadata": {},
     "output_type": "display_data"
    }
   ],
   "source": [
    "vega(full_spec)"
   ]
  },
  {
   "cell_type": "markdown",
   "id": "e517a044-2ba0-40ca-93c7-6988cb3a8a38",
   "metadata": {},
   "source": [
    "The VegaFusion runtime provides a `pre_transform_extract` method that can be used to pre-apply data transformations and return that transformed datasets as pyarrow Tables."
   ]
  },
  {
   "cell_type": "code",
   "execution_count": 4,
   "id": "b7d9155f-9673-48fb-a427-6f55f197f6c3",
   "metadata": {},
   "outputs": [
    {
     "data": {
      "text/plain": [
       "\u001b[0;31mSignature:\u001b[0m\n",
       "\u001b[0mvf\u001b[0m\u001b[0;34m.\u001b[0m\u001b[0mruntime\u001b[0m\u001b[0;34m.\u001b[0m\u001b[0mpre_transform_extract\u001b[0m\u001b[0;34m(\u001b[0m\u001b[0;34m\u001b[0m\n",
       "\u001b[0;34m\u001b[0m    \u001b[0mspec\u001b[0m\u001b[0;34m,\u001b[0m\u001b[0;34m\u001b[0m\n",
       "\u001b[0;34m\u001b[0m    \u001b[0mlocal_tz\u001b[0m\u001b[0;34m,\u001b[0m\u001b[0;34m\u001b[0m\n",
       "\u001b[0;34m\u001b[0m    \u001b[0mdefault_input_tz\u001b[0m\u001b[0;34m=\u001b[0m\u001b[0;32mNone\u001b[0m\u001b[0;34m,\u001b[0m\u001b[0;34m\u001b[0m\n",
       "\u001b[0;34m\u001b[0m    \u001b[0mpreserve_interactivity\u001b[0m\u001b[0;34m=\u001b[0m\u001b[0;32mTrue\u001b[0m\u001b[0;34m,\u001b[0m\u001b[0;34m\u001b[0m\n",
       "\u001b[0;34m\u001b[0m    \u001b[0minline_datasets\u001b[0m\u001b[0;34m=\u001b[0m\u001b[0;32mNone\u001b[0m\u001b[0;34m,\u001b[0m\u001b[0;34m\u001b[0m\n",
       "\u001b[0;34m\u001b[0m\u001b[0;34m)\u001b[0m\u001b[0;34m\u001b[0m\u001b[0;34m\u001b[0m\u001b[0m\n",
       "\u001b[0;31mDocstring:\u001b[0m\n",
       "Evaluate supported transforms in an input Vega specification and produce a new\n",
       "specification with small pre-transformed datasets (under 100 rows) included inline\n",
       "and larger inline datasets (100 rows or more) are extracted into pyarrow tables.\n",
       "\n",
       ":param spec: A Vega specification dict or JSON string\n",
       ":param local_tz: Name of timezone to be considered local. E.g. 'America/New_York'.\n",
       "    This can be computed for the local system using the tzlocal package and the\n",
       "    tzlocal.get_localzone_name() function.\n",
       ":param default_input_tz: Name of timezone (e.g. 'America/New_York') that naive datetime\n",
       "    strings should be interpreted in. Defaults to `local_tz`.\n",
       ":param preserve_interactivity: If True (default) then the interactive behavior of\n",
       "    the chart will pre preserved. This requires that all the data that participates\n",
       "    in interactions be included in the resulting spec rather than being pre-transformed.\n",
       "    If False, then all possible data transformations are applied even if they break\n",
       "    the original interactive behavior of the chart.\n",
       ":param inline_datasets: A dict from dataset names to pandas DataFrames or pyarrow\n",
       "    Tables. Inline datasets may be referenced by the input specification using\n",
       "    the following url syntax 'vegafusion+dataset://{dataset_name}' or\n",
       "    'table://{dataset_name}'.\n",
       ":return:\n",
       "    Three-element tuple:\n",
       "        0. A dict containing the JSON representation of the pre-transformed Vega\n",
       "           specification without pre-transformed datasets included inline\n",
       "        1. Extracted datasets as a list of three element tuples\n",
       "            0. dataset name\n",
       "            1. dataset scope\n",
       "            2. pyarrow Table\n",
       "        2. A list of warnings as dictionaries. Each warning dict has a 'type'\n",
       "           key indicating the warning type, and a 'message' key containing\n",
       "           a description of the warning. Potential warning types include:\n",
       "            'Planner': Planner warning\n",
       "\u001b[0;31mFile:\u001b[0m      ~/VegaFusion/repos/demos/venv/lib/python3.9/site-packages/vegafusion/runtime.py\n",
       "\u001b[0;31mType:\u001b[0m      method\n"
      ]
     },
     "metadata": {},
     "output_type": "display_data"
    }
   ],
   "source": [
    "vf.runtime.pre_transform_extract?"
   ]
  },
  {
   "cell_type": "code",
   "execution_count": 5,
   "id": "4d1a8645-89db-48ce-9746-4d8dbca86090",
   "metadata": {},
   "outputs": [],
   "source": [
    "transformed_spec, datasets, warnings = vf.runtime.pre_transform_extract(full_spec, local_tz)"
   ]
  },
  {
   "cell_type": "code",
   "execution_count": 6,
   "id": "211b7fb7-e755-48b6-a38f-4dce894ffe6a",
   "metadata": {},
   "outputs": [
    {
     "name": "stdout",
     "output_type": "stream",
     "text": [
      "{\n",
      "  \"$schema\": \"https://vega.github.io/schema/vega/v5.json\",\n",
      "  \"data\": [\n",
      "    {\n",
      "      \"name\": \"source_0\"\n",
      "    },\n",
      "    {\n",
      "      \"name\": \"source_0_color_domain___count\",\n",
      "      \"values\": [\n",
      "        {\n",
      "          \"min\": 1,\n",
      "          \"max\": 24\n",
      "        }\n",
      "      ]\n",
      "    }\n",
      "  ],\n",
      "  \"signals\": [\n",
      "    {\n",
      "      \"name\": \"bin_maxbins_40_Rotten_Tomatoes_Rating_bins\",\n",
      "      \"value\": {\n",
      "        \"fields\": [\n",
      "          \"Rotten Tomatoes Rating\"\n",
      "        ],\n",
      "        \"fname\": \"bin_Rotten Tomatoes Rating\",\n",
      "        \"start\": 0.0,\n",
      "        \"step\": 5.0,\n",
      "        \"stop\": 100.0\n",
      "      }\n",
      "    },\n",
      "    {\n",
      "      \"name\": \"bin_maxbins_60_IMDB_Rating_bins\",\n",
      "      \"value\": {\n",
      "        \"fields\": [\n",
      "          \"IMDB Rating\"\n",
      "        ],\n",
      "        \"fname\": \"bin_IMDB Rating\",\n",
      "        \"start\": 1.6,\n",
      "        \"step\": 0.2,\n",
      "        \"stop\": 9.200000000000001\n",
      "      }\n",
      "    }\n",
      "  ],\n",
      "  \"marks\": [\n",
      "    {\n",
      "      \"type\": \"rect\",\n",
      "      \"name\": \"marks\",\n",
      "      \"from\": {\n",
      "        \"data\": \"source_0\"\n",
      "      },\n",
      "      \"encode\": {\n",
      "        \"update\": {\n",
      "          \"y2\": {\n",
      "            \"field\": \"bin_maxbins_40_Rotten Tomatoes Rating\",\n",
      "            \"scale\": \"y\",\n",
      "            \"offset\": 0.5\n",
      "          },\n",
      "          \"x2\": {\n",
      "            \"field\": \"bin_maxbins_60_IMDB Rating\",\n",
      "            \"scale\": \"x\",\n",
      "            \"offset\": 0.5\n",
      "          },\n",
      "          \"description\": {\n",
      "            \"signal\": \"\\\"IMDB Rating (binned): \\\" + (!isValid(datum[\\\"bin_maxbins_60_IMDB Rating\\\"]) || !isFinite(+datum[\\\"bin_maxbins_60_IMDB Rating\\\"]) ? \\\"null\\\" : format(datum[\\\"bin_maxbins_60_IMDB Rating\\\"], \\\"\\\") + \\\" \\u2013 \\\" + format(datum[\\\"bin_maxbins_60_IMDB Rating_end\\\"], \\\"\\\")) + \\\"; Rotten Tomatoes Rating (binned): \\\" + (!isValid(datum[\\\"bin_maxbins_40_Rotten Tomatoes Rating\\\"]) || !isFinite(+datum[\\\"bin_maxbins_40_Rotten Tomatoes Rating\\\"]) ? \\\"null\\\" : format(datum[\\\"bin_maxbins_40_Rotten Tomatoes Rating\\\"], \\\"\\\") + \\\" \\u2013 \\\" + format(datum[\\\"bin_maxbins_40_Rotten Tomatoes Rating_end\\\"], \\\"\\\")) + \\\"; Count of Records: \\\" + (format(datum[\\\"__count\\\"], \\\"\\\"))\"\n",
      "          },\n",
      "          \"fill\": {\n",
      "            \"field\": \"__count\",\n",
      "            \"scale\": \"color\"\n",
      "          },\n",
      "          \"x\": {\n",
      "            \"field\": \"bin_maxbins_60_IMDB Rating_end\",\n",
      "            \"scale\": \"x\",\n",
      "            \"offset\": 0.5\n",
      "          },\n",
      "          \"y\": {\n",
      "            \"field\": \"bin_maxbins_40_Rotten Tomatoes Rating_end\",\n",
      "            \"scale\": \"y\",\n",
      "            \"offset\": 0.5\n",
      "          }\n",
      "        }\n",
      "      },\n",
      "      \"style\": [\n",
      "        \"rect\"\n",
      "      ]\n",
      "    }\n",
      "  ],\n",
      "  \"scales\": [\n",
      "    {\n",
      "      \"name\": \"x\",\n",
      "      \"type\": \"linear\",\n",
      "      \"domain\": {\n",
      "        \"signal\": \"[bin_maxbins_60_IMDB_Rating_bins.start, bin_maxbins_60_IMDB_Rating_bins.stop]\"\n",
      "      },\n",
      "      \"range\": [\n",
      "        0,\n",
      "        {\n",
      "          \"signal\": \"width\"\n",
      "        }\n",
      "      ],\n",
      "      \"bins\": {\n",
      "        \"signal\": \"bin_maxbins_60_IMDB_Rating_bins\"\n",
      "      },\n",
      "      \"zero\": false\n",
      "    },\n",
      "    {\n",
      "      \"name\": \"y\",\n",
      "      \"type\": \"linear\",\n",
      "      \"domain\": {\n",
      "        \"signal\": \"[bin_maxbins_40_Rotten_Tomatoes_Rating_bins.start, bin_maxbins_40_Rotten_Tomatoes_Rating_bins.stop]\"\n",
      "      },\n",
      "      \"range\": [\n",
      "        {\n",
      "          \"signal\": \"height\"\n",
      "        },\n",
      "        0\n",
      "      ],\n",
      "      \"bins\": {\n",
      "        \"signal\": \"bin_maxbins_40_Rotten_Tomatoes_Rating_bins\"\n",
      "      },\n",
      "      \"zero\": false\n",
      "    },\n",
      "    {\n",
      "      \"name\": \"color\",\n",
      "      \"type\": \"linear\",\n",
      "      \"domain\": [\n",
      "        {\n",
      "          \"signal\": \"(data(\\\"source_0_color_domain___count\\\")[0] || {}).min\"\n",
      "        },\n",
      "        {\n",
      "          \"signal\": \"(data(\\\"source_0_color_domain___count\\\")[0] || {}).max\"\n",
      "        }\n",
      "      ],\n",
      "      \"range\": \"heatmap\",\n",
      "      \"zero\": false,\n",
      "      \"interpolate\": \"hcl\"\n",
      "    }\n",
      "  ],\n",
      "  \"axes\": [\n",
      "    {\n",
      "      \"scale\": \"x\",\n",
      "      \"labelFlush\": true,\n",
      "      \"labelOverlap\": true,\n",
      "      \"tickCount\": {\n",
      "        \"signal\": \"ceil(width/10)\"\n",
      "      },\n",
      "      \"title\": \"IMDB Rating (binned)\",\n",
      "      \"zindex\": 1,\n",
      "      \"orient\": \"bottom\",\n",
      "      \"grid\": false\n",
      "    },\n",
      "    {\n",
      "      \"scale\": \"y\",\n",
      "      \"labelOverlap\": true,\n",
      "      \"grid\": false,\n",
      "      \"orient\": \"left\",\n",
      "      \"title\": \"Rotten Tomatoes Rating (binned)\",\n",
      "      \"tickCount\": {\n",
      "        \"signal\": \"ceil(height/10)\"\n",
      "      },\n",
      "      \"zindex\": 1\n",
      "    }\n",
      "  ],\n",
      "  \"background\": \"white\",\n",
      "  \"height\": 200,\n",
      "  \"style\": \"cell\",\n",
      "  \"width\": 300,\n",
      "  \"padding\": 5,\n",
      "  \"legends\": [\n",
      "    {\n",
      "      \"fill\": \"color\",\n",
      "      \"gradientLength\": {\n",
      "        \"signal\": \"clamp(height, 64, 200)\"\n",
      "      },\n",
      "      \"title\": \"Count of Records\"\n",
      "    }\n",
      "  ],\n",
      "  \"config\": {\n",
      "    \"style\": {\n",
      "      \"cell\": {\n",
      "        \"stroke\": \"transparent\"\n",
      "      }\n",
      "    }\n",
      "  }\n",
      "}\n"
     ]
    }
   ],
   "source": [
    "print(json.dumps(transformed_spec, indent=2))"
   ]
  },
  {
   "cell_type": "code",
   "execution_count": 7,
   "id": "40266834-34e0-497a-a555-0d16c6b19cb1",
   "metadata": {},
   "outputs": [
    {
     "name": "stdout",
     "output_type": "stream",
     "text": [
      "[]\n"
     ]
    }
   ],
   "source": [
    "print(warnings)"
   ]
  },
  {
   "cell_type": "code",
   "execution_count": 8,
   "id": "6a16c612-e2a7-4c20-8587-a165ddf8f87d",
   "metadata": {},
   "outputs": [
    {
     "data": {
      "text/plain": [
       "1"
      ]
     },
     "execution_count": 8,
     "metadata": {},
     "output_type": "execute_result"
    }
   ],
   "source": [
    "len(datasets)"
   ]
  },
  {
   "cell_type": "code",
   "execution_count": 9,
   "id": "6ed6b7a2-ee50-440f-96e6-eac94878b133",
   "metadata": {},
   "outputs": [],
   "source": [
    "(name, scope, table) = datasets[0]"
   ]
  },
  {
   "cell_type": "code",
   "execution_count": 10,
   "id": "75cec486-f9d2-4e16-8271-739f4c3e075e",
   "metadata": {},
   "outputs": [
    {
     "name": "stdout",
     "output_type": "stream",
     "text": [
      "source_0\n",
      "[]\n"
     ]
    }
   ],
   "source": [
    "print(name)\n",
    "print(scope)"
   ]
  },
  {
   "cell_type": "code",
   "execution_count": 11,
   "id": "e4b1d8a2-128a-45b9-9239-0a4fa5aa52f2",
   "metadata": {},
   "outputs": [
    {
     "data": {
      "text/plain": [
       "pyarrow.Table\n",
       "__count: int64\n",
       "bin_maxbins_40_Rotten Tomatoes Rating: double\n",
       "bin_maxbins_40_Rotten Tomatoes Rating_end: double\n",
       "bin_maxbins_60_IMDB Rating: double\n",
       "bin_maxbins_60_IMDB Rating_end: double\n",
       "----\n",
       "__count: [[1,7,8,20,18,...,1,1,1,1,1]]\n",
       "bin_maxbins_40_Rotten Tomatoes Rating: [[60,25,85,80,80,...,15,70,90,20,10]]\n",
       "bin_maxbins_40_Rotten Tomatoes Rating_end: [[65,30,90,85,85,...,20,75,95,25,15]]\n",
       "bin_maxbins_60_IMDB Rating: [[3.4000000000000004,5.800000000000001,7,7,7.4,...,6.6,8.200000000000001,4.4,4.2,7.800000000000001]]\n",
       "bin_maxbins_60_IMDB Rating_end: [[3.6000000000000005,6.000000000000001,7.2,7.2,7.6000000000000005,...,6.8,8.4,4.6000000000000005,4.4,8]]"
      ]
     },
     "execution_count": 11,
     "metadata": {},
     "output_type": "execute_result"
    }
   ],
   "source": [
    "table"
   ]
  },
  {
   "cell_type": "markdown",
   "id": "f5624d2f-c48e-4e22-bf68-2f91bc6802a1",
   "metadata": {},
   "source": [
    "---\n",
    "\n",
    "In the transformed spec above, you can see that the `source_0` dataset has a name but no values or URL. The first entry of the returned `datasets` list is a three-element tuple of `(name, scope, table)`, where `name` is `source_0`, scope is `[]` (indicating that the dataset is at the top-level in the spec, not nested under a group mark), and `table` is a pyarrow table that the client should insert back into the spec before rendering."
   ]
  },
  {
   "cell_type": "markdown",
   "id": "88124269-61e9-4788-af30-f6837328dc36",
   "metadata": {},
   "source": [
    "## Example 2: DataFrame dataset\n",
    "Suppose the `movies.json` dataset is already loaded into memory as a pandas `DataFrame`"
   ]
  },
  {
   "cell_type": "code",
   "execution_count": 12,
   "id": "4ecb9fd9-5f8a-42ba-b574-4131f9998f8e",
   "metadata": {},
   "outputs": [
    {
     "data": {
      "text/html": [
       "<div>\n",
       "<style scoped>\n",
       "    .dataframe tbody tr th:only-of-type {\n",
       "        vertical-align: middle;\n",
       "    }\n",
       "\n",
       "    .dataframe tbody tr th {\n",
       "        vertical-align: top;\n",
       "    }\n",
       "\n",
       "    .dataframe thead th {\n",
       "        text-align: right;\n",
       "    }\n",
       "</style>\n",
       "<table border=\"1\" class=\"dataframe\">\n",
       "  <thead>\n",
       "    <tr style=\"text-align: right;\">\n",
       "      <th></th>\n",
       "      <th>Title</th>\n",
       "      <th>US Gross</th>\n",
       "      <th>Worldwide Gross</th>\n",
       "      <th>US DVD Sales</th>\n",
       "      <th>Production Budget</th>\n",
       "      <th>Release Date</th>\n",
       "      <th>MPAA Rating</th>\n",
       "      <th>Running Time min</th>\n",
       "      <th>Distributor</th>\n",
       "      <th>Source</th>\n",
       "      <th>Major Genre</th>\n",
       "      <th>Creative Type</th>\n",
       "      <th>Director</th>\n",
       "      <th>Rotten Tomatoes Rating</th>\n",
       "      <th>IMDB Rating</th>\n",
       "      <th>IMDB Votes</th>\n",
       "    </tr>\n",
       "  </thead>\n",
       "  <tbody>\n",
       "    <tr>\n",
       "      <th>0</th>\n",
       "      <td>The Land Girls</td>\n",
       "      <td>146083.0</td>\n",
       "      <td>146083.0</td>\n",
       "      <td>NaN</td>\n",
       "      <td>8000000.0</td>\n",
       "      <td>Jun 12 1998</td>\n",
       "      <td>R</td>\n",
       "      <td>NaN</td>\n",
       "      <td>Gramercy</td>\n",
       "      <td>None</td>\n",
       "      <td>None</td>\n",
       "      <td>None</td>\n",
       "      <td>None</td>\n",
       "      <td>NaN</td>\n",
       "      <td>6.1</td>\n",
       "      <td>1071.0</td>\n",
       "    </tr>\n",
       "    <tr>\n",
       "      <th>1</th>\n",
       "      <td>First Love, Last Rites</td>\n",
       "      <td>10876.0</td>\n",
       "      <td>10876.0</td>\n",
       "      <td>NaN</td>\n",
       "      <td>300000.0</td>\n",
       "      <td>Aug 07 1998</td>\n",
       "      <td>R</td>\n",
       "      <td>NaN</td>\n",
       "      <td>Strand</td>\n",
       "      <td>None</td>\n",
       "      <td>Drama</td>\n",
       "      <td>None</td>\n",
       "      <td>None</td>\n",
       "      <td>NaN</td>\n",
       "      <td>6.9</td>\n",
       "      <td>207.0</td>\n",
       "    </tr>\n",
       "    <tr>\n",
       "      <th>2</th>\n",
       "      <td>I Married a Strange Person</td>\n",
       "      <td>203134.0</td>\n",
       "      <td>203134.0</td>\n",
       "      <td>NaN</td>\n",
       "      <td>250000.0</td>\n",
       "      <td>Aug 28 1998</td>\n",
       "      <td>None</td>\n",
       "      <td>NaN</td>\n",
       "      <td>Lionsgate</td>\n",
       "      <td>None</td>\n",
       "      <td>Comedy</td>\n",
       "      <td>None</td>\n",
       "      <td>None</td>\n",
       "      <td>NaN</td>\n",
       "      <td>6.8</td>\n",
       "      <td>865.0</td>\n",
       "    </tr>\n",
       "    <tr>\n",
       "      <th>3</th>\n",
       "      <td>Let's Talk About Sex</td>\n",
       "      <td>373615.0</td>\n",
       "      <td>373615.0</td>\n",
       "      <td>NaN</td>\n",
       "      <td>300000.0</td>\n",
       "      <td>Sep 11 1998</td>\n",
       "      <td>None</td>\n",
       "      <td>NaN</td>\n",
       "      <td>Fine Line</td>\n",
       "      <td>None</td>\n",
       "      <td>Comedy</td>\n",
       "      <td>None</td>\n",
       "      <td>None</td>\n",
       "      <td>13.0</td>\n",
       "      <td>NaN</td>\n",
       "      <td>NaN</td>\n",
       "    </tr>\n",
       "    <tr>\n",
       "      <th>4</th>\n",
       "      <td>Slam</td>\n",
       "      <td>1009819.0</td>\n",
       "      <td>1087521.0</td>\n",
       "      <td>NaN</td>\n",
       "      <td>1000000.0</td>\n",
       "      <td>Oct 09 1998</td>\n",
       "      <td>R</td>\n",
       "      <td>NaN</td>\n",
       "      <td>Trimark</td>\n",
       "      <td>Original Screenplay</td>\n",
       "      <td>Drama</td>\n",
       "      <td>Contemporary Fiction</td>\n",
       "      <td>None</td>\n",
       "      <td>62.0</td>\n",
       "      <td>3.4</td>\n",
       "      <td>165.0</td>\n",
       "    </tr>\n",
       "  </tbody>\n",
       "</table>\n",
       "</div>"
      ],
      "text/plain": [
       "                        Title   US Gross  Worldwide Gross  US DVD Sales  \\\n",
       "0              The Land Girls   146083.0         146083.0           NaN   \n",
       "1      First Love, Last Rites    10876.0          10876.0           NaN   \n",
       "2  I Married a Strange Person   203134.0         203134.0           NaN   \n",
       "3        Let's Talk About Sex   373615.0         373615.0           NaN   \n",
       "4                        Slam  1009819.0        1087521.0           NaN   \n",
       "\n",
       "   Production Budget Release Date MPAA Rating  Running Time min Distributor  \\\n",
       "0          8000000.0  Jun 12 1998           R               NaN    Gramercy   \n",
       "1           300000.0  Aug 07 1998           R               NaN      Strand   \n",
       "2           250000.0  Aug 28 1998        None               NaN   Lionsgate   \n",
       "3           300000.0  Sep 11 1998        None               NaN   Fine Line   \n",
       "4          1000000.0  Oct 09 1998           R               NaN     Trimark   \n",
       "\n",
       "                Source Major Genre         Creative Type Director  \\\n",
       "0                 None        None                  None     None   \n",
       "1                 None       Drama                  None     None   \n",
       "2                 None      Comedy                  None     None   \n",
       "3                 None      Comedy                  None     None   \n",
       "4  Original Screenplay       Drama  Contemporary Fiction     None   \n",
       "\n",
       "   Rotten Tomatoes Rating  IMDB Rating  IMDB Votes  \n",
       "0                     NaN          6.1      1071.0  \n",
       "1                     NaN          6.9       207.0  \n",
       "2                     NaN          6.8       865.0  \n",
       "3                    13.0          NaN         NaN  \n",
       "4                    62.0          3.4       165.0  "
      ]
     },
     "execution_count": 12,
     "metadata": {},
     "output_type": "execute_result"
    }
   ],
   "source": [
    "movies = pd.read_json(\"https://raw.githubusercontent.com/vega/vega-datasets/master/data/movies.json\")\n",
    "movies.head()"
   ]
  },
  {
   "cell_type": "markdown",
   "id": "f2127eda-17bc-46fa-a985-2db6e030058d",
   "metadata": {},
   "source": [
    "---\n",
    "\n",
    "This DataFrame can be provided to `pre_transform_extract` method as a \"named dataset\", with name `\"movies\"`.  When a `DataFrame` is provided as a named dataset, it can be referenced by name from within the Vega specification using a special url syntax. In this case, the moveis dataset can be referenced as `\"vegafusion+dataset://movies\"`.  Here is the full specification:"
   ]
  },
  {
   "cell_type": "code",
   "execution_count": 13,
   "id": "193616bb-4c94-43d0-8411-2f9c462e1e9a",
   "metadata": {},
   "outputs": [],
   "source": [
    "full_spec_named = json.loads(r\"\"\"\n",
    "{\n",
    "  \"$schema\": \"https://vega.github.io/schema/vega/v5.json\",\n",
    "  \"background\": \"white\",\n",
    "  \"padding\": 5,\n",
    "  \"width\": 300,\n",
    "  \"height\": 200,\n",
    "  \"style\": \"cell\",\n",
    "  \"data\": [\n",
    "    {\n",
    "      \"name\": \"source_0\",\n",
    "      \"url\": \"vegafusion+dataset://movies\",\n",
    "      \"format\": {\"type\": \"json\"},\n",
    "      \"transform\": [\n",
    "        {\n",
    "          \"type\": \"filter\",\n",
    "          \"expr\": \"(isValid(datum[\\\"IMDB Rating\\\"]) && isFinite(+datum[\\\"IMDB Rating\\\"])) && (isValid(datum[\\\"Rotten Tomatoes Rating\\\"]) && isFinite(+datum[\\\"Rotten Tomatoes Rating\\\"]))\"\n",
    "        },\n",
    "        {\n",
    "          \"type\": \"extent\",\n",
    "          \"field\": \"IMDB Rating\",\n",
    "          \"signal\": \"bin_maxbins_60_IMDB_Rating_extent\"\n",
    "        },\n",
    "        {\n",
    "          \"type\": \"bin\",\n",
    "          \"field\": \"IMDB Rating\",\n",
    "          \"as\": [\n",
    "            \"bin_maxbins_60_IMDB Rating\",\n",
    "            \"bin_maxbins_60_IMDB Rating_end\"\n",
    "          ],\n",
    "          \"signal\": \"bin_maxbins_60_IMDB_Rating_bins\",\n",
    "          \"extent\": {\"signal\": \"bin_maxbins_60_IMDB_Rating_extent\"},\n",
    "          \"maxbins\": 60\n",
    "        },\n",
    "        {\n",
    "          \"type\": \"extent\",\n",
    "          \"field\": \"Rotten Tomatoes Rating\",\n",
    "          \"signal\": \"bin_maxbins_40_Rotten_Tomatoes_Rating_extent\"\n",
    "        },\n",
    "        {\n",
    "          \"type\": \"bin\",\n",
    "          \"field\": \"Rotten Tomatoes Rating\",\n",
    "          \"as\": [\n",
    "            \"bin_maxbins_40_Rotten Tomatoes Rating\",\n",
    "            \"bin_maxbins_40_Rotten Tomatoes Rating_end\"\n",
    "          ],\n",
    "          \"signal\": \"bin_maxbins_40_Rotten_Tomatoes_Rating_bins\",\n",
    "          \"extent\": {\"signal\": \"bin_maxbins_40_Rotten_Tomatoes_Rating_extent\"},\n",
    "          \"maxbins\": 40\n",
    "        },\n",
    "        {\n",
    "          \"type\": \"aggregate\",\n",
    "          \"groupby\": [\n",
    "            \"bin_maxbins_60_IMDB Rating\",\n",
    "            \"bin_maxbins_60_IMDB Rating_end\",\n",
    "            \"bin_maxbins_40_Rotten Tomatoes Rating\",\n",
    "            \"bin_maxbins_40_Rotten Tomatoes Rating_end\"\n",
    "          ],\n",
    "          \"ops\": [\"count\"],\n",
    "          \"fields\": [null],\n",
    "          \"as\": [\"__count\"]\n",
    "        },\n",
    "        {\n",
    "          \"type\": \"filter\",\n",
    "          \"expr\": \"isValid(datum[\\\"bin_maxbins_60_IMDB Rating\\\"]) && isFinite(+datum[\\\"bin_maxbins_60_IMDB Rating\\\"]) && isValid(datum[\\\"bin_maxbins_40_Rotten Tomatoes Rating\\\"]) && isFinite(+datum[\\\"bin_maxbins_40_Rotten Tomatoes Rating\\\"])\"\n",
    "        }\n",
    "      ]\n",
    "    }\n",
    "  ],\n",
    "  \"marks\": [\n",
    "    {\n",
    "      \"name\": \"marks\",\n",
    "      \"type\": \"rect\",\n",
    "      \"style\": [\"rect\"],\n",
    "      \"from\": {\"data\": \"source_0\"},\n",
    "      \"encode\": {\n",
    "        \"update\": {\n",
    "          \"fill\": {\"scale\": \"color\", \"field\": \"__count\"},\n",
    "          \"description\": {\n",
    "            \"signal\": \"\\\"IMDB Rating (binned): \\\" + (!isValid(datum[\\\"bin_maxbins_60_IMDB Rating\\\"]) || !isFinite(+datum[\\\"bin_maxbins_60_IMDB Rating\\\"]) ? \\\"null\\\" : format(datum[\\\"bin_maxbins_60_IMDB Rating\\\"], \\\"\\\") + \\\" – \\\" + format(datum[\\\"bin_maxbins_60_IMDB Rating_end\\\"], \\\"\\\")) + \\\"; Rotten Tomatoes Rating (binned): \\\" + (!isValid(datum[\\\"bin_maxbins_40_Rotten Tomatoes Rating\\\"]) || !isFinite(+datum[\\\"bin_maxbins_40_Rotten Tomatoes Rating\\\"]) ? \\\"null\\\" : format(datum[\\\"bin_maxbins_40_Rotten Tomatoes Rating\\\"], \\\"\\\") + \\\" – \\\" + format(datum[\\\"bin_maxbins_40_Rotten Tomatoes Rating_end\\\"], \\\"\\\")) + \\\"; Count of Records: \\\" + (format(datum[\\\"__count\\\"], \\\"\\\"))\"\n",
    "          },\n",
    "          \"x2\": {\n",
    "            \"scale\": \"x\",\n",
    "            \"field\": \"bin_maxbins_60_IMDB Rating\",\n",
    "            \"offset\": 0.5\n",
    "          },\n",
    "          \"x\": {\n",
    "            \"scale\": \"x\",\n",
    "            \"field\": \"bin_maxbins_60_IMDB Rating_end\",\n",
    "            \"offset\": 0.5\n",
    "          },\n",
    "          \"y2\": {\n",
    "            \"scale\": \"y\",\n",
    "            \"field\": \"bin_maxbins_40_Rotten Tomatoes Rating\",\n",
    "            \"offset\": 0.5\n",
    "          },\n",
    "          \"y\": {\n",
    "            \"scale\": \"y\",\n",
    "            \"field\": \"bin_maxbins_40_Rotten Tomatoes Rating_end\",\n",
    "            \"offset\": 0.5\n",
    "          }\n",
    "        }\n",
    "      }\n",
    "    }\n",
    "  ],\n",
    "  \"scales\": [\n",
    "    {\n",
    "      \"name\": \"x\",\n",
    "      \"type\": \"linear\",\n",
    "      \"domain\": {\n",
    "        \"signal\": \"[bin_maxbins_60_IMDB_Rating_bins.start, bin_maxbins_60_IMDB_Rating_bins.stop]\"\n",
    "      },\n",
    "      \"range\": [0, {\"signal\": \"width\"}],\n",
    "      \"bins\": {\"signal\": \"bin_maxbins_60_IMDB_Rating_bins\"},\n",
    "      \"zero\": false\n",
    "    },\n",
    "    {\n",
    "      \"name\": \"y\",\n",
    "      \"type\": \"linear\",\n",
    "      \"domain\": {\n",
    "        \"signal\": \"[bin_maxbins_40_Rotten_Tomatoes_Rating_bins.start, bin_maxbins_40_Rotten_Tomatoes_Rating_bins.stop]\"\n",
    "      },\n",
    "      \"range\": [{\"signal\": \"height\"}, 0],\n",
    "      \"bins\": {\"signal\": \"bin_maxbins_40_Rotten_Tomatoes_Rating_bins\"},\n",
    "      \"zero\": false\n",
    "    },\n",
    "    {\n",
    "      \"name\": \"color\",\n",
    "      \"type\": \"linear\",\n",
    "      \"domain\": {\"data\": \"source_0\", \"field\": \"__count\"},\n",
    "      \"range\": \"heatmap\",\n",
    "      \"interpolate\": \"hcl\",\n",
    "      \"zero\": false\n",
    "    }\n",
    "  ],\n",
    "  \"axes\": [\n",
    "    {\n",
    "      \"scale\": \"x\",\n",
    "      \"orient\": \"bottom\",\n",
    "      \"grid\": false,\n",
    "      \"title\": \"IMDB Rating (binned)\",\n",
    "      \"labelFlush\": true,\n",
    "      \"labelOverlap\": true,\n",
    "      \"tickCount\": {\"signal\": \"ceil(width/10)\"},\n",
    "      \"zindex\": 1\n",
    "    },\n",
    "    {\n",
    "      \"scale\": \"y\",\n",
    "      \"orient\": \"left\",\n",
    "      \"grid\": false,\n",
    "      \"title\": \"Rotten Tomatoes Rating (binned)\",\n",
    "      \"labelOverlap\": true,\n",
    "      \"tickCount\": {\"signal\": \"ceil(height/10)\"},\n",
    "      \"zindex\": 1\n",
    "    }\n",
    "  ],\n",
    "  \"legends\": [\n",
    "    {\n",
    "      \"fill\": \"color\",\n",
    "      \"gradientLength\": {\"signal\": \"clamp(height, 64, 200)\"},\n",
    "      \"title\": \"Count of Records\"\n",
    "    }\n",
    "  ],\n",
    "  \"config\": {\"style\": {\"cell\": {\"stroke\": \"transparent\"}}}\n",
    "}\n",
    "\"\"\")"
   ]
  },
  {
   "cell_type": "code",
   "execution_count": 14,
   "id": "033700ff-da9c-4655-bc3b-104d66ed55c7",
   "metadata": {},
   "outputs": [],
   "source": [
    "transformed_spec, datasets, warnings = vf.runtime.pre_transform_extract(\n",
    "    full_spec_named, local_tz, inline_datasets=dict(movies=movies)\n",
    ")"
   ]
  },
  {
   "cell_type": "code",
   "execution_count": 15,
   "id": "06148bd0-5608-4ae9-837c-8bb07a1b7830",
   "metadata": {},
   "outputs": [
    {
     "name": "stdout",
     "output_type": "stream",
     "text": [
      "[]\n"
     ]
    }
   ],
   "source": [
    "print(warnings)"
   ]
  },
  {
   "cell_type": "code",
   "execution_count": 16,
   "id": "b20020b6-7ba0-4d84-9440-595dd6b46177",
   "metadata": {},
   "outputs": [
    {
     "name": "stdout",
     "output_type": "stream",
     "text": [
      "{\n",
      "  \"$schema\": \"https://vega.github.io/schema/vega/v5.json\",\n",
      "  \"data\": [\n",
      "    {\n",
      "      \"name\": \"source_0\"\n",
      "    },\n",
      "    {\n",
      "      \"name\": \"source_0_color_domain___count\",\n",
      "      \"values\": [\n",
      "        {\n",
      "          \"min\": 1,\n",
      "          \"max\": 24\n",
      "        }\n",
      "      ]\n",
      "    }\n",
      "  ],\n",
      "  \"signals\": [\n",
      "    {\n",
      "      \"name\": \"bin_maxbins_60_IMDB_Rating_bins\",\n",
      "      \"value\": {\n",
      "        \"fields\": [\n",
      "          \"IMDB Rating\"\n",
      "        ],\n",
      "        \"fname\": \"bin_IMDB Rating\",\n",
      "        \"start\": 1.6,\n",
      "        \"step\": 0.2,\n",
      "        \"stop\": 9.200000000000001\n",
      "      }\n",
      "    },\n",
      "    {\n",
      "      \"name\": \"bin_maxbins_40_Rotten_Tomatoes_Rating_bins\",\n",
      "      \"value\": {\n",
      "        \"fields\": [\n",
      "          \"Rotten Tomatoes Rating\"\n",
      "        ],\n",
      "        \"fname\": \"bin_Rotten Tomatoes Rating\",\n",
      "        \"start\": 0.0,\n",
      "        \"step\": 5.0,\n",
      "        \"stop\": 100.0\n",
      "      }\n",
      "    }\n",
      "  ],\n",
      "  \"marks\": [\n",
      "    {\n",
      "      \"type\": \"rect\",\n",
      "      \"name\": \"marks\",\n",
      "      \"from\": {\n",
      "        \"data\": \"source_0\"\n",
      "      },\n",
      "      \"encode\": {\n",
      "        \"update\": {\n",
      "          \"fill\": {\n",
      "            \"field\": \"__count\",\n",
      "            \"scale\": \"color\"\n",
      "          },\n",
      "          \"y2\": {\n",
      "            \"field\": \"bin_maxbins_40_Rotten Tomatoes Rating\",\n",
      "            \"scale\": \"y\",\n",
      "            \"offset\": 0.5\n",
      "          },\n",
      "          \"y\": {\n",
      "            \"field\": \"bin_maxbins_40_Rotten Tomatoes Rating_end\",\n",
      "            \"scale\": \"y\",\n",
      "            \"offset\": 0.5\n",
      "          },\n",
      "          \"description\": {\n",
      "            \"signal\": \"\\\"IMDB Rating (binned): \\\" + (!isValid(datum[\\\"bin_maxbins_60_IMDB Rating\\\"]) || !isFinite(+datum[\\\"bin_maxbins_60_IMDB Rating\\\"]) ? \\\"null\\\" : format(datum[\\\"bin_maxbins_60_IMDB Rating\\\"], \\\"\\\") + \\\" \\u2013 \\\" + format(datum[\\\"bin_maxbins_60_IMDB Rating_end\\\"], \\\"\\\")) + \\\"; Rotten Tomatoes Rating (binned): \\\" + (!isValid(datum[\\\"bin_maxbins_40_Rotten Tomatoes Rating\\\"]) || !isFinite(+datum[\\\"bin_maxbins_40_Rotten Tomatoes Rating\\\"]) ? \\\"null\\\" : format(datum[\\\"bin_maxbins_40_Rotten Tomatoes Rating\\\"], \\\"\\\") + \\\" \\u2013 \\\" + format(datum[\\\"bin_maxbins_40_Rotten Tomatoes Rating_end\\\"], \\\"\\\")) + \\\"; Count of Records: \\\" + (format(datum[\\\"__count\\\"], \\\"\\\"))\"\n",
      "          },\n",
      "          \"x\": {\n",
      "            \"field\": \"bin_maxbins_60_IMDB Rating_end\",\n",
      "            \"scale\": \"x\",\n",
      "            \"offset\": 0.5\n",
      "          },\n",
      "          \"x2\": {\n",
      "            \"field\": \"bin_maxbins_60_IMDB Rating\",\n",
      "            \"scale\": \"x\",\n",
      "            \"offset\": 0.5\n",
      "          }\n",
      "        }\n",
      "      },\n",
      "      \"style\": [\n",
      "        \"rect\"\n",
      "      ]\n",
      "    }\n",
      "  ],\n",
      "  \"scales\": [\n",
      "    {\n",
      "      \"name\": \"x\",\n",
      "      \"type\": \"linear\",\n",
      "      \"domain\": {\n",
      "        \"signal\": \"[bin_maxbins_60_IMDB_Rating_bins.start, bin_maxbins_60_IMDB_Rating_bins.stop]\"\n",
      "      },\n",
      "      \"range\": [\n",
      "        0,\n",
      "        {\n",
      "          \"signal\": \"width\"\n",
      "        }\n",
      "      ],\n",
      "      \"bins\": {\n",
      "        \"signal\": \"bin_maxbins_60_IMDB_Rating_bins\"\n",
      "      },\n",
      "      \"zero\": false\n",
      "    },\n",
      "    {\n",
      "      \"name\": \"y\",\n",
      "      \"type\": \"linear\",\n",
      "      \"domain\": {\n",
      "        \"signal\": \"[bin_maxbins_40_Rotten_Tomatoes_Rating_bins.start, bin_maxbins_40_Rotten_Tomatoes_Rating_bins.stop]\"\n",
      "      },\n",
      "      \"range\": [\n",
      "        {\n",
      "          \"signal\": \"height\"\n",
      "        },\n",
      "        0\n",
      "      ],\n",
      "      \"bins\": {\n",
      "        \"signal\": \"bin_maxbins_40_Rotten_Tomatoes_Rating_bins\"\n",
      "      },\n",
      "      \"zero\": false\n",
      "    },\n",
      "    {\n",
      "      \"name\": \"color\",\n",
      "      \"type\": \"linear\",\n",
      "      \"domain\": [\n",
      "        {\n",
      "          \"signal\": \"(data(\\\"source_0_color_domain___count\\\")[0] || {}).min\"\n",
      "        },\n",
      "        {\n",
      "          \"signal\": \"(data(\\\"source_0_color_domain___count\\\")[0] || {}).max\"\n",
      "        }\n",
      "      ],\n",
      "      \"range\": \"heatmap\",\n",
      "      \"interpolate\": \"hcl\",\n",
      "      \"zero\": false\n",
      "    }\n",
      "  ],\n",
      "  \"axes\": [\n",
      "    {\n",
      "      \"scale\": \"x\",\n",
      "      \"zindex\": 1,\n",
      "      \"labelFlush\": true,\n",
      "      \"labelOverlap\": true,\n",
      "      \"grid\": false,\n",
      "      \"title\": \"IMDB Rating (binned)\",\n",
      "      \"orient\": \"bottom\",\n",
      "      \"tickCount\": {\n",
      "        \"signal\": \"ceil(width/10)\"\n",
      "      }\n",
      "    },\n",
      "    {\n",
      "      \"scale\": \"y\",\n",
      "      \"labelOverlap\": true,\n",
      "      \"zindex\": 1,\n",
      "      \"tickCount\": {\n",
      "        \"signal\": \"ceil(height/10)\"\n",
      "      },\n",
      "      \"orient\": \"left\",\n",
      "      \"title\": \"Rotten Tomatoes Rating (binned)\",\n",
      "      \"grid\": false\n",
      "    }\n",
      "  ],\n",
      "  \"style\": \"cell\",\n",
      "  \"config\": {\n",
      "    \"style\": {\n",
      "      \"cell\": {\n",
      "        \"stroke\": \"transparent\"\n",
      "      }\n",
      "    }\n",
      "  },\n",
      "  \"legends\": [\n",
      "    {\n",
      "      \"fill\": \"color\",\n",
      "      \"gradientLength\": {\n",
      "        \"signal\": \"clamp(height, 64, 200)\"\n",
      "      },\n",
      "      \"title\": \"Count of Records\"\n",
      "    }\n",
      "  ],\n",
      "  \"padding\": 5,\n",
      "  \"width\": 300,\n",
      "  \"height\": 200,\n",
      "  \"background\": \"white\"\n",
      "}\n"
     ]
    }
   ],
   "source": [
    "print(json.dumps(transformed_spec, indent=2))"
   ]
  },
  {
   "cell_type": "code",
   "execution_count": 17,
   "id": "1522f22c-72b7-4384-9bc5-063b747ff0e1",
   "metadata": {},
   "outputs": [
    {
     "data": {
      "text/plain": [
       "1"
      ]
     },
     "execution_count": 17,
     "metadata": {},
     "output_type": "execute_result"
    }
   ],
   "source": [
    "len(datasets)"
   ]
  },
  {
   "cell_type": "code",
   "execution_count": 18,
   "id": "6122ff6d-1ba5-4f5e-8b3f-5ad78a239360",
   "metadata": {},
   "outputs": [],
   "source": [
    "(name, scope, table) = datasets[0]"
   ]
  },
  {
   "cell_type": "code",
   "execution_count": 19,
   "id": "f1560e54-26b7-44bb-99e7-ab016a2a6c3c",
   "metadata": {},
   "outputs": [
    {
     "name": "stdout",
     "output_type": "stream",
     "text": [
      "source_0\n",
      "[]\n"
     ]
    }
   ],
   "source": [
    "print(name)\n",
    "print(scope)"
   ]
  },
  {
   "cell_type": "code",
   "execution_count": 20,
   "id": "efa75518-4dd3-4efe-bbc6-dbae303003ec",
   "metadata": {},
   "outputs": [
    {
     "data": {
      "text/plain": [
       "pyarrow.Table\n",
       "__count: int64\n",
       "bin_maxbins_40_Rotten Tomatoes Rating: double\n",
       "bin_maxbins_40_Rotten Tomatoes Rating_end: double\n",
       "bin_maxbins_60_IMDB Rating: double\n",
       "bin_maxbins_60_IMDB Rating_end: double\n",
       "----\n",
       "__count: [[1,7,8,20,18,...,1,1,1,1,1]]\n",
       "bin_maxbins_40_Rotten Tomatoes Rating: [[60,25,85,80,80,...,15,70,90,20,10]]\n",
       "bin_maxbins_40_Rotten Tomatoes Rating_end: [[65,30,90,85,85,...,20,75,95,25,15]]\n",
       "bin_maxbins_60_IMDB Rating: [[3.4000000000000004,5.800000000000001,7,7,7.4,...,6.6,8.200000000000001,4.4,4.2,7.800000000000001]]\n",
       "bin_maxbins_60_IMDB Rating_end: [[3.6000000000000005,6.000000000000001,7.2,7.2,7.6000000000000005,...,6.8,8.4,4.6000000000000005,4.4,8]]"
      ]
     },
     "execution_count": 20,
     "metadata": {},
     "output_type": "execute_result"
    }
   ],
   "source": [
    "table"
   ]
  },
  {
   "cell_type": "markdown",
   "id": "55ade1e8-9579-448f-8b4b-6f38f9c21dbe",
   "metadata": {},
   "source": [
    "---\n",
    "\n",
    "In the transformed spec above, you can see that the `source_0` dataset has a name but no values or URL. The first entry of the returned `datasets` list is a three-element tuple of `(name, scope, table)`, where `name` is `source_0`, scope is `[]` (indicating that the dataset is at the top-level in the spec, not nested under a group mark), and `table` is a pyarrow table that the client should insert back into the spec before rendering."
   ]
  },
  {
   "cell_type": "code",
   "execution_count": null,
   "id": "d0afa6e6-f8fb-41ce-a578-f76bae70fbdd",
   "metadata": {},
   "outputs": [],
   "source": []
  }
 ],
 "metadata": {
  "kernelspec": {
   "display_name": "Python 3 (ipykernel)",
   "language": "python",
   "name": "python3"
  },
  "language_info": {
   "codemirror_mode": {
    "name": "ipython",
    "version": 3
   },
   "file_extension": ".py",
   "mimetype": "text/x-python",
   "name": "python",
   "nbconvert_exporter": "python",
   "pygments_lexer": "ipython3",
   "version": "3.9.13"
  }
 },
 "nbformat": 4,
 "nbformat_minor": 5
}
