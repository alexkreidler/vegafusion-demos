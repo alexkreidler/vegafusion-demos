{
 "cells": [
  {
   "cell_type": "code",
   "execution_count": null,
   "id": "0a074268-76d0-45ee-a858-fd2132af1562",
   "metadata": {},
   "outputs": [],
   "source": [
    "from pyomnisci import connect\n",
    "import pandas as pd\n",
    "from pathlib import Path\n",
    "import vegafusion_jupyter as vf"
   ]
  },
  {
   "cell_type": "code",
   "execution_count": null,
   "id": "f44bb615-c1b0-4d3e-9137-dd1385e02cbb",
   "metadata": {},
   "outputs": [],
   "source": [
    "outdir = Path(\"data\") / \"omnisci\"\n",
    "outdir.mkdir(exist_ok=True)\n",
    "\n",
    "host = \"metis.mapd.com\"\n",
    "dbname = \"mapd\""
   ]
  },
  {
   "cell_type": "code",
   "execution_count": null,
   "id": "bddd5072-84e9-4132-8939-ee42bb056b08",
   "metadata": {},
   "outputs": [],
   "source": [
    "con = connect(\n",
    "    host=host, user='demouser', password='HyperInteractive',\n",
    "    port=443, dbname=dbname, protocol= 'https'\n",
    ")"
   ]
  },
  {
   "cell_type": "code",
   "execution_count": null,
   "id": "2ac62705-b901-40d0-bf20-9fea3a26080a",
   "metadata": {},
   "outputs": [],
   "source": [
    "# Display all tables\n",
    "print(con.get_tables())\n",
    "\n",
    "# Display all columns\n",
    "[c.name for c in con.get_table_details(\"tweets_nov_feb\")]"
   ]
  },
  {
   "cell_type": "code",
   "execution_count": null,
   "id": "8ab73fda-408a-42ea-9ff4-0e5859070bf3",
   "metadata": {},
   "outputs": [],
   "source": [
    "table = \"tweets_nov_feb\"\n",
    "\n",
    "cols = [\n",
    " 'goog_x',\n",
    " 'goog_y',\n",
    " 'rowid',\n",
    " # 'hashtags',\n",
    "    \n",
    " # 'tweet_id',\n",
    " 'tweet_time',\n",
    "    \n",
    " # 'lat',\n",
    " # 'lon',\n",
    " # 'sender_id',\n",
    " # 'sender_name',\n",
    " # 'location',\n",
    " # 'source',\n",
    " # 'reply_to_user_id',\n",
    " # 'reply_to_tweet_id',\n",
    " # 'lang',\n",
    " # 'followers',\n",
    " # 'followees',\n",
    " # 'tweet_count',\n",
    " # 'join_time',\n",
    " # # 'tweet_text',\n",
    " # 'country',\n",
    " # 'admin1',\n",
    " # 'admin2',\n",
    " # 'place_name',\n",
    " 'state_abbr',\n",
    " # 'county_state',\n",
    " # 'origin',\n",
    " # 'tweet_tokens',\n",
    "]\n",
    "\n",
    "partition_cols = [\"uniquecarrier\", \"dest_state\"]"
   ]
  },
  {
   "cell_type": "code",
   "execution_count": null,
   "id": "1d9880f4-172a-4e5f-b99d-48d3124be97f",
   "metadata": {},
   "outputs": [],
   "source": [
    "df = con.select_ipc(f\"\"\"\n",
    "    SELECT {', '.join(cols)}\n",
    "    FROM tweets_nov_feb\n",
    "    \"\"\")\n",
    "df"
   ]
  },
  {
   "cell_type": "code",
   "execution_count": null,
   "id": "df17bdb6-4a70-4e79-83e2-74cc0c4338aa",
   "metadata": {},
   "outputs": [],
   "source": [
    "df.to_parquet(outdir / \"tweets_nov_feb.parquet\")"
   ]
  },
  {
   "cell_type": "code",
   "execution_count": null,
   "id": "9dcbb976-4827-499a-bacc-82f8719a42f2",
   "metadata": {},
   "outputs": [],
   "source": []
  }
 ],
 "metadata": {
  "kernelspec": {
   "display_name": "Python 3 (ipykernel)",
   "language": "python",
   "name": "python3"
  },
  "language_info": {
   "codemirror_mode": {
    "name": "ipython",
    "version": 3
   },
   "file_extension": ".py",
   "mimetype": "text/x-python",
   "name": "python",
   "nbconvert_exporter": "python",
   "pygments_lexer": "ipython3",
   "version": "3.9.9"
  }
 },
 "nbformat": 4,
 "nbformat_minor": 5
}
