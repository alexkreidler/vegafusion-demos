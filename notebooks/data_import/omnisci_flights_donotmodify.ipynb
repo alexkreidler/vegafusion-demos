{
 "cells": [
  {
   "cell_type": "code",
   "execution_count": 15,
   "id": "0a074268-76d0-45ee-a858-fd2132af1562",
   "metadata": {},
   "outputs": [],
   "source": [
    "from pyomnisci import connect\n",
    "import pandas as pd\n",
    "from pathlib import Path\n",
    "import vegafusion_jupyter as vf"
   ]
  },
  {
   "cell_type": "code",
   "execution_count": 18,
   "id": "f44bb615-c1b0-4d3e-9137-dd1385e02cbb",
   "metadata": {},
   "outputs": [],
   "source": [
    "outdir = Path(\"data\") / \"omnisci\"\n",
    "outdir.mkdir(exist_ok=True)\n",
    "\n",
    "tmp_outdir = Path(\"tmp_flights_donotmodify\")\n",
    "tmp_outdir.mkdir(exist_ok=True)\n",
    "\n",
    "host = \"metis.mapd.com\"\n",
    "dbname = \"mapd\""
   ]
  },
  {
   "cell_type": "code",
   "execution_count": 3,
   "id": "bddd5072-84e9-4132-8939-ee42bb056b08",
   "metadata": {},
   "outputs": [],
   "source": [
    "con = connect(\n",
    "    host=host, user='demouser', password='HyperInteractive',\n",
    "    port=443, dbname=dbname, protocol= 'https'\n",
    ")"
   ]
  },
  {
   "cell_type": "code",
   "execution_count": 4,
   "id": "2ac62705-b901-40d0-bf20-9fea3a26080a",
   "metadata": {},
   "outputs": [],
   "source": [
    "# # Display all tables\n",
    "# con.get_tables()\n",
    "\n",
    "# # Display all columns\n",
    "# [c.name for c in con.get_table_details(table)]"
   ]
  },
  {
   "cell_type": "code",
   "execution_count": 5,
   "id": "8ab73fda-408a-42ea-9ff4-0e5859070bf3",
   "metadata": {},
   "outputs": [],
   "source": [
    "table = \"flights_donotmodify\"\n",
    "\n",
    "cols = [\n",
    " 'uniquecarrier',\n",
    " 'arrdelay',\n",
    " 'depdelay',\n",
    " 'dep_timestamp',\n",
    " 'arr_timestamp',\n",
    " 'origin_state',\n",
    " 'dest_state',\n",
    " 'dest_lat',\n",
    " 'dest_lon',\n",
    " 'carrier_name',\n",
    "]\n",
    "\n",
    "partition_cols = [\"uniquecarrier\", \"dest_state\"]"
   ]
  },
  {
   "cell_type": "code",
   "execution_count": 9,
   "id": "baa70ef1-6bfa-4836-a556-628054d0893d",
   "metadata": {},
   "outputs": [
    {
     "name": "stdout",
     "output_type": "stream",
     "text": [
      "CPU times: user 52.6 ms, sys: 4.45 ms, total: 57.1 ms\n",
      "Wall time: 329 ms\n"
     ]
    }
   ],
   "source": [
    "%%time\n",
    "# Get all combinations of uniquecarrier and dest_state\n",
    "carriers = con.select_ipc(f\"\"\"\n",
    "    SELECT uniquecarrier, dest_state\n",
    "    FROM flights_donotmodify\n",
    "    GROUP BY {', '.join(partition_cols)}\n",
    "    \"\"\")"
   ]
  },
  {
   "cell_type": "code",
   "execution_count": 10,
   "id": "aaebb633-732c-4996-9f5d-d96f75c6fcf2",
   "metadata": {},
   "outputs": [],
   "source": [
    "# data_root = Path(f\"./{table}/\")\n",
    "# data_root.mkdir(parents=True, exist_ok=True)"
   ]
  },
  {
   "cell_type": "code",
   "execution_count": 11,
   "id": "ea01c57b-d28a-4eb2-ad0b-ce8f2df3ce1b",
   "metadata": {},
   "outputs": [
    {
     "name": "stdout",
     "output_type": "stream",
     "text": [
      "WN-TX\n",
      "XE-TX\n"
     ]
    },
    {
     "ename": "KeyboardInterrupt",
     "evalue": "",
     "output_type": "error",
     "traceback": [
      "\u001b[0;31m---------------------------------------------------------------------------\u001b[0m",
      "\u001b[0;31mKeyboardInterrupt\u001b[0m                         Traceback (most recent call last)",
      "Input \u001b[0;32mIn [11]\u001b[0m, in \u001b[0;36m<module>\u001b[0;34m\u001b[0m\n\u001b[1;32m      8\u001b[0m query \u001b[38;5;241m=\u001b[39m \u001b[38;5;124mf\u001b[39m\u001b[38;5;124m\"\"\"\u001b[39m\n\u001b[1;32m      9\u001b[0m \u001b[38;5;124m    SELECT \u001b[39m\u001b[38;5;132;01m{\u001b[39;00m\u001b[38;5;124m'\u001b[39m\u001b[38;5;124m, \u001b[39m\u001b[38;5;124m'\u001b[39m\u001b[38;5;241m.\u001b[39mjoin(cols)\u001b[38;5;132;01m}\u001b[39;00m\n\u001b[1;32m     10\u001b[0m \u001b[38;5;124m    FROM \u001b[39m\u001b[38;5;132;01m{\u001b[39;00mtable\u001b[38;5;132;01m}\u001b[39;00m\n\u001b[1;32m     11\u001b[0m \u001b[38;5;124m    WHERE \u001b[39m\u001b[38;5;132;01m{\u001b[39;00mcondition\u001b[38;5;132;01m}\u001b[39;00m\n\u001b[1;32m     12\u001b[0m \u001b[38;5;124m\u001b[39m\u001b[38;5;124m\"\"\"\u001b[39m\n\u001b[1;32m     13\u001b[0m \u001b[38;5;28mprint\u001b[39m(suffix)\n\u001b[0;32m---> 14\u001b[0m df \u001b[38;5;241m=\u001b[39m \u001b[43mcon\u001b[49m\u001b[38;5;241;43m.\u001b[39;49m\u001b[43mselect_ipc\u001b[49m\u001b[43m(\u001b[49m\u001b[43mquery\u001b[49m\u001b[43m)\u001b[49m\n\u001b[1;32m     15\u001b[0m df\u001b[38;5;241m.\u001b[39mto_feather(path)\n",
      "File \u001b[0;32m~/miniconda3/envs/omniscidb/lib/python3.9/site-packages/pyomnisci/connection.py:384\u001b[0m, in \u001b[0;36mConnection.select_ipc\u001b[0;34m(self, operation, parameters, first_n, release_memory, transport_method)\u001b[0m\n\u001b[1;32m    381\u001b[0m \u001b[38;5;28;01mif\u001b[39;00m parameters \u001b[38;5;129;01mis\u001b[39;00m \u001b[38;5;129;01mnot\u001b[39;00m \u001b[38;5;28;01mNone\u001b[39;00m:\n\u001b[1;32m    382\u001b[0m     operation \u001b[38;5;241m=\u001b[39m \u001b[38;5;28mstr\u001b[39m(_bind_parameters(operation, parameters))\n\u001b[0;32m--> 384\u001b[0m tdf \u001b[38;5;241m=\u001b[39m \u001b[38;5;28;43mself\u001b[39;49m\u001b[38;5;241;43m.\u001b[39;49m\u001b[43m_client\u001b[49m\u001b[38;5;241;43m.\u001b[39;49m\u001b[43msql_execute_df\u001b[49m\u001b[43m(\u001b[49m\n\u001b[1;32m    385\u001b[0m \u001b[43m    \u001b[49m\u001b[38;5;28;43mself\u001b[39;49m\u001b[38;5;241;43m.\u001b[39;49m\u001b[43m_session\u001b[49m\u001b[43m,\u001b[49m\n\u001b[1;32m    386\u001b[0m \u001b[43m    \u001b[49m\u001b[43moperation\u001b[49m\u001b[38;5;241;43m.\u001b[39;49m\u001b[43mstrip\u001b[49m\u001b[43m(\u001b[49m\u001b[43m)\u001b[49m\u001b[43m,\u001b[49m\n\u001b[1;32m    387\u001b[0m \u001b[43m    \u001b[49m\u001b[43mdevice_type\u001b[49m\u001b[38;5;241;43m=\u001b[39;49m\u001b[38;5;241;43m0\u001b[39;49m\u001b[43m,\u001b[49m\n\u001b[1;32m    388\u001b[0m \u001b[43m    \u001b[49m\u001b[43mdevice_id\u001b[49m\u001b[38;5;241;43m=\u001b[39;49m\u001b[38;5;241;43m0\u001b[39;49m\u001b[43m,\u001b[49m\n\u001b[1;32m    389\u001b[0m \u001b[43m    \u001b[49m\u001b[43mfirst_n\u001b[49m\u001b[38;5;241;43m=\u001b[39;49m\u001b[43mfirst_n\u001b[49m\u001b[43m,\u001b[49m\n\u001b[1;32m    390\u001b[0m \u001b[43m    \u001b[49m\u001b[43mtransport_method\u001b[49m\u001b[38;5;241;43m=\u001b[39;49m\u001b[43mtransport_method\u001b[49m\u001b[43m,\u001b[49m\n\u001b[1;32m    391\u001b[0m \u001b[43m\u001b[49m\u001b[43m)\u001b[49m\n\u001b[1;32m    392\u001b[0m \u001b[38;5;28mself\u001b[39m\u001b[38;5;241m.\u001b[39m_tdf \u001b[38;5;241m=\u001b[39m tdf\n\u001b[1;32m    394\u001b[0m \u001b[38;5;28;01mif\u001b[39;00m transport_method \u001b[38;5;241m==\u001b[39m TArrowTransport\u001b[38;5;241m.\u001b[39mWIRE:\n",
      "File \u001b[0;32m~/miniconda3/envs/omniscidb/lib/python3.9/site-packages/omnisci/thrift/OmniSci.py:2223\u001b[0m, in \u001b[0;36mClient.sql_execute_df\u001b[0;34m(self, session, query, device_type, device_id, first_n, transport_method)\u001b[0m\n\u001b[1;32m   2212\u001b[0m \u001b[38;5;124;03m\"\"\"\u001b[39;00m\n\u001b[1;32m   2213\u001b[0m \u001b[38;5;124;03mParameters:\u001b[39;00m\n\u001b[1;32m   2214\u001b[0m \u001b[38;5;124;03m - session\u001b[39;00m\n\u001b[0;32m   (...)\u001b[0m\n\u001b[1;32m   2220\u001b[0m \n\u001b[1;32m   2221\u001b[0m \u001b[38;5;124;03m\"\"\"\u001b[39;00m\n\u001b[1;32m   2222\u001b[0m \u001b[38;5;28mself\u001b[39m\u001b[38;5;241m.\u001b[39msend_sql_execute_df(session, query, device_type, device_id, first_n, transport_method)\n\u001b[0;32m-> 2223\u001b[0m \u001b[38;5;28;01mreturn\u001b[39;00m \u001b[38;5;28;43mself\u001b[39;49m\u001b[38;5;241;43m.\u001b[39;49m\u001b[43mrecv_sql_execute_df\u001b[49m\u001b[43m(\u001b[49m\u001b[43m)\u001b[49m\n",
      "File \u001b[0;32m~/miniconda3/envs/omniscidb/lib/python3.9/site-packages/omnisci/thrift/OmniSci.py:2247\u001b[0m, in \u001b[0;36mClient.recv_sql_execute_df\u001b[0;34m(self)\u001b[0m\n\u001b[1;32m   2245\u001b[0m     \u001b[38;5;28;01mraise\u001b[39;00m x\n\u001b[1;32m   2246\u001b[0m result \u001b[38;5;241m=\u001b[39m sql_execute_df_result()\n\u001b[0;32m-> 2247\u001b[0m \u001b[43mresult\u001b[49m\u001b[38;5;241;43m.\u001b[39;49m\u001b[43mread\u001b[49m\u001b[43m(\u001b[49m\u001b[43miprot\u001b[49m\u001b[43m)\u001b[49m\n\u001b[1;32m   2248\u001b[0m iprot\u001b[38;5;241m.\u001b[39mreadMessageEnd()\n\u001b[1;32m   2249\u001b[0m \u001b[38;5;28;01mif\u001b[39;00m result\u001b[38;5;241m.\u001b[39msuccess \u001b[38;5;129;01mis\u001b[39;00m \u001b[38;5;129;01mnot\u001b[39;00m \u001b[38;5;28;01mNone\u001b[39;00m:\n",
      "File \u001b[0;32m~/miniconda3/envs/omniscidb/lib/python3.9/site-packages/omnisci/thrift/OmniSci.py:12352\u001b[0m, in \u001b[0;36msql_execute_df_result.read\u001b[0;34m(self, iprot)\u001b[0m\n\u001b[1;32m  12350\u001b[0m \u001b[38;5;28;01mif\u001b[39;00m ftype \u001b[38;5;241m==\u001b[39m TType\u001b[38;5;241m.\u001b[39mSTRUCT:\n\u001b[1;32m  12351\u001b[0m     \u001b[38;5;28mself\u001b[39m\u001b[38;5;241m.\u001b[39msuccess \u001b[38;5;241m=\u001b[39m TDataFrame()\n\u001b[0;32m> 12352\u001b[0m     \u001b[38;5;28;43mself\u001b[39;49m\u001b[38;5;241;43m.\u001b[39;49m\u001b[43msuccess\u001b[49m\u001b[38;5;241;43m.\u001b[39;49m\u001b[43mread\u001b[49m\u001b[43m(\u001b[49m\u001b[43miprot\u001b[49m\u001b[43m)\u001b[49m\n\u001b[1;32m  12353\u001b[0m \u001b[38;5;28;01melse\u001b[39;00m:\n\u001b[1;32m  12354\u001b[0m     iprot\u001b[38;5;241m.\u001b[39mskip(ftype)\n",
      "File \u001b[0;32m~/miniconda3/envs/omniscidb/lib/python3.9/site-packages/omnisci/thrift/ttypes.py:1449\u001b[0m, in \u001b[0;36mTDataFrame.read\u001b[0;34m(self, iprot)\u001b[0m\n\u001b[1;32m   1447\u001b[0m \u001b[38;5;28;01melif\u001b[39;00m fid \u001b[38;5;241m==\u001b[39m \u001b[38;5;241m7\u001b[39m:\n\u001b[1;32m   1448\u001b[0m     \u001b[38;5;28;01mif\u001b[39;00m ftype \u001b[38;5;241m==\u001b[39m TType\u001b[38;5;241m.\u001b[39mSTRING:\n\u001b[0;32m-> 1449\u001b[0m         \u001b[38;5;28mself\u001b[39m\u001b[38;5;241m.\u001b[39mdf_buffer \u001b[38;5;241m=\u001b[39m \u001b[43miprot\u001b[49m\u001b[38;5;241;43m.\u001b[39;49m\u001b[43mreadBinary\u001b[49m\u001b[43m(\u001b[49m\u001b[43m)\u001b[49m\n\u001b[1;32m   1450\u001b[0m     \u001b[38;5;28;01melse\u001b[39;00m:\n\u001b[1;32m   1451\u001b[0m         iprot\u001b[38;5;241m.\u001b[39mskip(ftype)\n",
      "File \u001b[0;32m~/miniconda3/envs/omniscidb/lib/python3.9/site-packages/thrift/protocol/TJSONProtocol.py:492\u001b[0m, in \u001b[0;36mTJSONProtocol.readBinary\u001b[0;34m(self)\u001b[0m\n\u001b[1;32m    491\u001b[0m \u001b[38;5;28;01mdef\u001b[39;00m \u001b[38;5;21mreadBinary\u001b[39m(\u001b[38;5;28mself\u001b[39m):\n\u001b[0;32m--> 492\u001b[0m     \u001b[38;5;28;01mreturn\u001b[39;00m \u001b[38;5;28;43mself\u001b[39;49m\u001b[38;5;241;43m.\u001b[39;49m\u001b[43mreadJSONBase64\u001b[49m\u001b[43m(\u001b[49m\u001b[43m)\u001b[49m\n",
      "File \u001b[0;32m~/miniconda3/envs/omniscidb/lib/python3.9/site-packages/thrift/protocol/TJSONProtocol.py:385\u001b[0m, in \u001b[0;36mTJSONProtocolBase.readJSONBase64\u001b[0;34m(self)\u001b[0m\n\u001b[1;32m    384\u001b[0m \u001b[38;5;28;01mdef\u001b[39;00m \u001b[38;5;21mreadJSONBase64\u001b[39m(\u001b[38;5;28mself\u001b[39m):\n\u001b[0;32m--> 385\u001b[0m     string \u001b[38;5;241m=\u001b[39m \u001b[38;5;28;43mself\u001b[39;49m\u001b[38;5;241;43m.\u001b[39;49m\u001b[43mreadJSONString\u001b[49m\u001b[43m(\u001b[49m\u001b[38;5;28;43;01mFalse\u001b[39;49;00m\u001b[43m)\u001b[49m\n\u001b[1;32m    386\u001b[0m     size \u001b[38;5;241m=\u001b[39m \u001b[38;5;28mlen\u001b[39m(string)\n\u001b[1;32m    387\u001b[0m     m \u001b[38;5;241m=\u001b[39m size \u001b[38;5;241m%\u001b[39m \u001b[38;5;241m4\u001b[39m\n",
      "File \u001b[0;32m~/miniconda3/envs/omniscidb/lib/python3.9/site-packages/thrift/protocol/TJSONProtocol.py:322\u001b[0m, in \u001b[0;36mTJSONProtocolBase.readJSONString\u001b[0;34m(self, skipContext)\u001b[0m\n\u001b[1;32m    320\u001b[0m \u001b[38;5;28;01melif\u001b[39;00m sys\u001b[38;5;241m.\u001b[39mversion_info[\u001b[38;5;241m0\u001b[39m] \u001b[38;5;241m>\u001b[39m \u001b[38;5;241m2\u001b[39m:\n\u001b[1;32m    321\u001b[0m     utf8_bytes \u001b[38;5;241m=\u001b[39m \u001b[38;5;28mbytearray\u001b[39m([\u001b[38;5;28mord\u001b[39m(character)])\n\u001b[0;32m--> 322\u001b[0m     \u001b[38;5;28;01mwhile\u001b[39;00m \u001b[38;5;28mord\u001b[39m(\u001b[38;5;28;43mself\u001b[39;49m\u001b[38;5;241;43m.\u001b[39;49m\u001b[43mreader\u001b[49m\u001b[38;5;241;43m.\u001b[39;49m\u001b[43mpeek\u001b[49m\u001b[43m(\u001b[49m\u001b[43m)\u001b[49m) \u001b[38;5;241m>\u001b[39m\u001b[38;5;241m=\u001b[39m \u001b[38;5;241m0x80\u001b[39m:\n\u001b[1;32m    323\u001b[0m         utf8_bytes\u001b[38;5;241m.\u001b[39mappend(\u001b[38;5;28mord\u001b[39m(\u001b[38;5;28mself\u001b[39m\u001b[38;5;241m.\u001b[39mreader\u001b[38;5;241m.\u001b[39mread()))\n\u001b[1;32m    324\u001b[0m     character \u001b[38;5;241m=\u001b[39m utf8_bytes\u001b[38;5;241m.\u001b[39mdecode(\u001b[38;5;124m'\u001b[39m\u001b[38;5;124mutf8\u001b[39m\u001b[38;5;124m'\u001b[39m)\n",
      "File \u001b[0;32m~/miniconda3/envs/omniscidb/lib/python3.9/site-packages/thrift/protocol/TJSONProtocol.py:169\u001b[0m, in \u001b[0;36mLookaheadReader.peek\u001b[0;34m(self)\u001b[0m\n\u001b[1;32m    167\u001b[0m \u001b[38;5;28;01mdef\u001b[39;00m \u001b[38;5;21mpeek\u001b[39m(\u001b[38;5;28mself\u001b[39m):\n\u001b[1;32m    168\u001b[0m     \u001b[38;5;28;01mif\u001b[39;00m \u001b[38;5;28mself\u001b[39m\u001b[38;5;241m.\u001b[39mhasData \u001b[38;5;129;01mis\u001b[39;00m \u001b[38;5;28;01mFalse\u001b[39;00m:\n\u001b[0;32m--> 169\u001b[0m         \u001b[38;5;28mself\u001b[39m\u001b[38;5;241m.\u001b[39mdata \u001b[38;5;241m=\u001b[39m \u001b[38;5;28;43mself\u001b[39;49m\u001b[38;5;241;43m.\u001b[39;49m\u001b[43mprotocol\u001b[49m\u001b[38;5;241;43m.\u001b[39;49m\u001b[43mtrans\u001b[49m\u001b[38;5;241;43m.\u001b[39;49m\u001b[43mread\u001b[49m\u001b[43m(\u001b[49m\u001b[38;5;241;43m1\u001b[39;49m\u001b[43m)\u001b[49m\n\u001b[1;32m    170\u001b[0m     \u001b[38;5;28mself\u001b[39m\u001b[38;5;241m.\u001b[39mhasData \u001b[38;5;241m=\u001b[39m \u001b[38;5;28;01mTrue\u001b[39;00m\n\u001b[1;32m    171\u001b[0m     \u001b[38;5;28;01mreturn\u001b[39;00m \u001b[38;5;28mself\u001b[39m\u001b[38;5;241m.\u001b[39mdata\n",
      "File \u001b[0;32m~/miniconda3/envs/omniscidb/lib/python3.9/site-packages/thrift/transport/THttpClient.py:139\u001b[0m, in \u001b[0;36mTHttpClient.read\u001b[0;34m(self, sz)\u001b[0m\n\u001b[1;32m    138\u001b[0m \u001b[38;5;28;01mdef\u001b[39;00m \u001b[38;5;21mread\u001b[39m(\u001b[38;5;28mself\u001b[39m, sz):\n\u001b[0;32m--> 139\u001b[0m     \u001b[38;5;28;01mreturn\u001b[39;00m \u001b[38;5;28;43mself\u001b[39;49m\u001b[38;5;241;43m.\u001b[39;49m\u001b[43m__http_response\u001b[49m\u001b[38;5;241;43m.\u001b[39;49m\u001b[43mread\u001b[49m\u001b[43m(\u001b[49m\u001b[43msz\u001b[49m\u001b[43m)\u001b[49m\n",
      "File \u001b[0;32m~/miniconda3/envs/omniscidb/lib/python3.9/http/client.py:462\u001b[0m, in \u001b[0;36mHTTPResponse.read\u001b[0;34m(self, amt)\u001b[0m\n\u001b[1;32m    458\u001b[0m     \u001b[38;5;28;01mreturn\u001b[39;00m \u001b[38;5;124mb\u001b[39m\u001b[38;5;124m\"\u001b[39m\u001b[38;5;124m\"\u001b[39m\n\u001b[1;32m    460\u001b[0m \u001b[38;5;28;01mif\u001b[39;00m amt \u001b[38;5;129;01mis\u001b[39;00m \u001b[38;5;129;01mnot\u001b[39;00m \u001b[38;5;28;01mNone\u001b[39;00m:\n\u001b[1;32m    461\u001b[0m     \u001b[38;5;66;03m# Amount is given, implement using readinto\u001b[39;00m\n\u001b[0;32m--> 462\u001b[0m     b \u001b[38;5;241m=\u001b[39m \u001b[38;5;28;43mbytearray\u001b[39;49m\u001b[43m(\u001b[49m\u001b[43mamt\u001b[49m\u001b[43m)\u001b[49m\n\u001b[1;32m    463\u001b[0m     n \u001b[38;5;241m=\u001b[39m \u001b[38;5;28mself\u001b[39m\u001b[38;5;241m.\u001b[39mreadinto(b)\n\u001b[1;32m    464\u001b[0m     \u001b[38;5;28;01mreturn\u001b[39;00m \u001b[38;5;28mmemoryview\u001b[39m(b)[:n]\u001b[38;5;241m.\u001b[39mtobytes()\n",
      "\u001b[0;31mKeyboardInterrupt\u001b[0m: "
     ]
    }
   ],
   "source": [
    "for i, row in carriers.iterrows():\n",
    "    suffix = '-'.join([f\"{row[c]}\" for c in partition_cols])\n",
    "    path = tmp_outdir / f\"{table}-{suffix}.feather\"\n",
    "    if not path.exists():\n",
    "        condition = \" AND \".join(\n",
    "            [f\"{c} = {repr(row[c])}\" for c in partition_cols]\n",
    "        )\n",
    "        query = f\"\"\"\n",
    "            SELECT {', '.join(cols)}\n",
    "            FROM {table}\n",
    "            WHERE {condition}\n",
    "        \"\"\"\n",
    "        print(suffix)\n",
    "        df = con.select_ipc(query)\n",
    "        df.to_feather(path)"
   ]
  },
  {
   "cell_type": "code",
   "execution_count": 12,
   "id": "5fb65306-d2e6-4fea-8060-f39ae13734db",
   "metadata": {},
   "outputs": [],
   "source": [
    "# Read partitions\n",
    "dfs = []\n",
    "for i, row in carriers.iterrows():\n",
    "    suffix = '-'.join([f\"{row[c]}\" for c in partition_cols])\n",
    "    path = tmp_outdir / f\"{table}-{suffix}.feather\"\n",
    "    dfs.append(pd.read_feather(path))"
   ]
  },
  {
   "cell_type": "code",
   "execution_count": null,
   "id": "f9b42797-53ad-4cd5-9e0a-424e93831b9e",
   "metadata": {},
   "outputs": [],
   "source": [
    "flights = pd.concat(dfs, axis=0).reset_index()\n",
    "\n",
    "vf.to_feather(flights, outdir / f\"{table}.feather\")"
   ]
  }
 ],
 "metadata": {
  "kernelspec": {
   "display_name": "Python 3 (ipykernel)",
   "language": "python",
   "name": "python3"
  },
  "language_info": {
   "codemirror_mode": {
    "name": "ipython",
    "version": 3
   },
   "file_extension": ".py",
   "mimetype": "text/x-python",
   "name": "python",
   "nbconvert_exporter": "python",
   "pygments_lexer": "ipython3",
   "version": "3.9.9"
  }
 },
 "nbformat": 4,
 "nbformat_minor": 5
}
