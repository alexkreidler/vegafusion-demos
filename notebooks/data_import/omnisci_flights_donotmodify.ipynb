{
 "cells": [
  {
   "cell_type": "code",
   "execution_count": null,
   "id": "0a074268-76d0-45ee-a858-fd2132af1562",
   "metadata": {},
   "outputs": [],
   "source": [
    "from pyomnisci import connect\n",
    "import pandas as pd\n",
    "from pathlib import Path\n",
    "import vegafusion_jupyter as vf"
   ]
  },
  {
   "cell_type": "code",
   "execution_count": null,
   "id": "f44bb615-c1b0-4d3e-9137-dd1385e02cbb",
   "metadata": {},
   "outputs": [],
   "source": [
    "outdir = Path(\"data\") / \"omnisci\"\n",
    "outdir.mkdir(exist_ok=True)\n",
    "\n",
    "tmp_outdir = Path(\"tmp_flights_donotmodify\")\n",
    "tmp_outdir.mkdir(exist_ok=True)\n",
    "\n",
    "host = \"metis.mapd.com\"\n",
    "dbname = \"mapd\""
   ]
  },
  {
   "cell_type": "code",
   "execution_count": null,
   "id": "bddd5072-84e9-4132-8939-ee42bb056b08",
   "metadata": {},
   "outputs": [],
   "source": [
    "con = connect(\n",
    "    host=host, user='demouser', password='HyperInteractive',\n",
    "    port=443, dbname=dbname, protocol= 'https'\n",
    ")"
   ]
  },
  {
   "cell_type": "code",
   "execution_count": null,
   "id": "2ac62705-b901-40d0-bf20-9fea3a26080a",
   "metadata": {},
   "outputs": [],
   "source": [
    "# # Display all tables\n",
    "# con.get_tables()\n",
    "\n",
    "# # Display all columns\n",
    "# [c.name for c in con.get_table_details(table)]"
   ]
  },
  {
   "cell_type": "code",
   "execution_count": null,
   "id": "8ab73fda-408a-42ea-9ff4-0e5859070bf3",
   "metadata": {},
   "outputs": [],
   "source": [
    "table = \"flights_donotmodify\"\n",
    "\n",
    "cols = [\n",
    " 'uniquecarrier',\n",
    " 'arrdelay',\n",
    " 'depdelay',\n",
    " 'dep_timestamp',\n",
    " 'arr_timestamp',\n",
    " 'origin_state',\n",
    " 'dest_state',\n",
    " 'dest_lat',\n",
    " 'dest_lon',\n",
    " 'carrier_name',\n",
    "]\n",
    "\n",
    "partition_cols = [\"uniquecarrier\", \"dest_state\"]"
   ]
  },
  {
   "cell_type": "code",
   "execution_count": null,
   "id": "baa70ef1-6bfa-4836-a556-628054d0893d",
   "metadata": {},
   "outputs": [],
   "source": [
    "%%time\n",
    "# Get all combinations of uniquecarrier and dest_state\n",
    "carriers = con.select_ipc(f\"\"\"\n",
    "    SELECT uniquecarrier, dest_state\n",
    "    FROM flights_donotmodify\n",
    "    GROUP BY {', '.join(partition_cols)}\n",
    "    \"\"\")"
   ]
  },
  {
   "cell_type": "code",
   "execution_count": null,
   "id": "aaebb633-732c-4996-9f5d-d96f75c6fcf2",
   "metadata": {},
   "outputs": [],
   "source": [
    "# data_root = Path(f\"./{table}/\")\n",
    "# data_root.mkdir(parents=True, exist_ok=True)"
   ]
  },
  {
   "cell_type": "code",
   "execution_count": null,
   "id": "ea01c57b-d28a-4eb2-ad0b-ce8f2df3ce1b",
   "metadata": {},
   "outputs": [],
   "source": [
    "for i, row in carriers.iterrows():\n",
    "    suffix = '-'.join([f\"{row[c]}\" for c in partition_cols])\n",
    "    path = tmp_outdir / f\"{table}-{suffix}.feather\"\n",
    "    if not path.exists():\n",
    "        condition = \" AND \".join(\n",
    "            [f\"{c} = {repr(row[c])}\" for c in partition_cols]\n",
    "        )\n",
    "        query = f\"\"\"\n",
    "            SELECT {', '.join(cols)}\n",
    "            FROM {table}\n",
    "            WHERE {condition}\n",
    "        \"\"\"\n",
    "        print(suffix)\n",
    "        df = con.select_ipc(query)\n",
    "        df.to_feather(path)"
   ]
  },
  {
   "cell_type": "code",
   "execution_count": null,
   "id": "5fb65306-d2e6-4fea-8060-f39ae13734db",
   "metadata": {},
   "outputs": [],
   "source": [
    "# Read partitions\n",
    "dfs = []\n",
    "for i, row in carriers.iterrows():\n",
    "    suffix = '-'.join([f\"{row[c]}\" for c in partition_cols])\n",
    "    path = tmp_outdir / f\"{table}-{suffix}.feather\"\n",
    "    dfs.append(pd.read_feather(path))"
   ]
  },
  {
   "cell_type": "code",
   "execution_count": null,
   "id": "f9b42797-53ad-4cd5-9e0a-424e93831b9e",
   "metadata": {},
   "outputs": [],
   "source": [
    "flights = pd.concat(dfs, axis=0).reset_index()\n",
    "\n",
    "flights.to_parquet(outdir / f\"{table}.parquet\")"
   ]
  },
  {
   "cell_type": "code",
   "execution_count": null,
   "id": "51230e43-32c7-4b1f-83c0-1ccbfe0b2630",
   "metadata": {},
   "outputs": [],
   "source": []
  }
 ],
 "metadata": {
  "kernelspec": {
   "display_name": "Python 3 (ipykernel)",
   "language": "python",
   "name": "python3"
  },
  "language_info": {
   "codemirror_mode": {
    "name": "ipython",
    "version": 3
   },
   "file_extension": ".py",
   "mimetype": "text/x-python",
   "name": "python",
   "nbconvert_exporter": "python",
   "pygments_lexer": "ipython3",
   "version": "3.9.9"
  }
 },
 "nbformat": 4,
 "nbformat_minor": 5
}
