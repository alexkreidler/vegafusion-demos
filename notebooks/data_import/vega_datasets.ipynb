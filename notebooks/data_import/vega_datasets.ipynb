{
 "cells": [
  {
   "cell_type": "markdown",
   "id": "0b8ea907-66f1-4da8-9375-d8ee0858b12f",
   "metadata": {},
   "source": [
    "## Generate larger versions of the vega datasets"
   ]
  },
  {
   "cell_type": "code",
   "execution_count": 2,
   "id": "8a26bc7c-2d7f-44c8-8dc8-1d5a44cefb4d",
   "metadata": {},
   "outputs": [],
   "source": [
    "from vega_datasets import data\n",
    "import pandas as pd\n",
    "from math import log10\n",
    "import altair as alt\n",
    "from pathlib import Path\n",
    "import json"
   ]
  },
  {
   "cell_type": "code",
   "execution_count": 3,
   "id": "348d9177-965c-42dd-9483-61da82fec8bc",
   "metadata": {},
   "outputs": [],
   "source": [
    "outdir = Path(\"data\") / \"vega\"\n",
    "outdir.mkdir(exist_ok=True)"
   ]
  },
  {
   "cell_type": "markdown",
   "id": "a2571dd6-80c4-44c8-af27-5455de6c22e4",
   "metadata": {},
   "source": [
    "### Flights"
   ]
  },
  {
   "cell_type": "code",
   "execution_count": null,
   "id": "f9e4ac7e-b2fa-4443-8924-9dd8b14a606f",
   "metadata": {},
   "outputs": [],
   "source": [
    "for dups in [10, 20, 50, 100, 200]:\n",
    "    n = 10000*dups\n",
    "    n_commas = int(log10(n) // 3)\n",
    "    suffix = [\"\", \"k\", \"m\"][n_commas]\n",
    "    filename = \"flights_{}{}\".format(int(n / 10**(n_commas * 3)), suffix)\n",
    "    print(filename)\n",
    "    \n",
    "    # Build dataframe\n",
    "    df = pd.concat([data.flights_10k()]*dups, axis=0).reset_index()\n",
    "    rows = alt.data.to_values(df)[\"values\"]\n",
    "    with open(outdir / (filename + \".json\"), \"wt\") as f:\n",
    "        json.dump(rows, f)"
   ]
  },
  {
   "cell_type": "markdown",
   "id": "97619bd4-5da2-403b-a4a7-46b805e6c898",
   "metadata": {},
   "source": [
    "### Seattle Weather"
   ]
  },
  {
   "cell_type": "code",
   "execution_count": null,
   "id": "bb078870-3996-4cb9-9faa-ca563578b50b",
   "metadata": {},
   "outputs": [],
   "source": [
    "for dups in [7, 14, 35, 69, 137, 343, 685, 1369]:\n",
    "    n = 1461*dups\n",
    "    n_commas = int(log10(n) // 3)\n",
    "    suffix = [\"\", \"k\", \"m\"][n_commas]\n",
    "    filename = \"seattle_weather_{}{}\".format(int(n / 10**(n_commas * 3)), suffix)\n",
    "    print(filename)\n",
    "    \n",
    "    # Build dataframe\n",
    "    df = pd.concat([data.seattle_weather()]*dups, axis=0).reset_index()\n",
    "    \n",
    "    rows = alt.data.to_values(df)[\"values\"]\n",
    "    with open(outdir / (filename + \".json\"), \"wt\") as f:\n",
    "        json.dump(rows, f)"
   ]
  },
  {
   "cell_type": "markdown",
   "id": "23ee2652-361c-4579-a7a6-8f731c08808f",
   "metadata": {},
   "source": [
    "### Movies"
   ]
  },
  {
   "cell_type": "code",
   "execution_count": 16,
   "id": "18cfc642-3b40-4883-8aaa-2c03d0b0fce4",
   "metadata": {},
   "outputs": [
    {
     "name": "stdout",
     "output_type": "stream",
     "text": [
      "movies_12k\n",
      "movies_22k\n",
      "movies_51k\n",
      "movies_102k\n",
      "movies_201k\n",
      "movies_502k\n",
      "movies_1m\n",
      "movies_2m\n"
     ]
    },
    {
     "ename": "KeyboardInterrupt",
     "evalue": "",
     "output_type": "error",
     "traceback": [
      "\u001b[0;31m---------------------------------------------------------------------------\u001b[0m",
      "\u001b[0;31mKeyboardInterrupt\u001b[0m                         Traceback (most recent call last)",
      "Input \u001b[0;32mIn [16]\u001b[0m, in \u001b[0;36m<module>\u001b[0;34m\u001b[0m\n\u001b[1;32m     11\u001b[0m rows \u001b[38;5;241m=\u001b[39m alt\u001b[38;5;241m.\u001b[39mdata\u001b[38;5;241m.\u001b[39mto_values(df)[\u001b[38;5;124m\"\u001b[39m\u001b[38;5;124mvalues\u001b[39m\u001b[38;5;124m\"\u001b[39m]\n\u001b[1;32m     12\u001b[0m \u001b[38;5;28;01mwith\u001b[39;00m \u001b[38;5;28mopen\u001b[39m(outdir \u001b[38;5;241m/\u001b[39m (filename \u001b[38;5;241m+\u001b[39m \u001b[38;5;124m\"\u001b[39m\u001b[38;5;124m.json\u001b[39m\u001b[38;5;124m\"\u001b[39m), \u001b[38;5;124m\"\u001b[39m\u001b[38;5;124mwt\u001b[39m\u001b[38;5;124m\"\u001b[39m) \u001b[38;5;28;01mas\u001b[39;00m f:\n\u001b[0;32m---> 13\u001b[0m     \u001b[43mjson\u001b[49m\u001b[38;5;241;43m.\u001b[39;49m\u001b[43mdump\u001b[49m\u001b[43m(\u001b[49m\u001b[43mrows\u001b[49m\u001b[43m,\u001b[49m\u001b[43m \u001b[49m\u001b[43mf\u001b[49m\u001b[43m)\u001b[49m\n",
      "File \u001b[0;32m~/miniconda3/envs/omniscidb/lib/python3.9/json/__init__.py:179\u001b[0m, in \u001b[0;36mdump\u001b[0;34m(obj, fp, skipkeys, ensure_ascii, check_circular, allow_nan, cls, indent, separators, default, sort_keys, **kw)\u001b[0m\n\u001b[1;32m    173\u001b[0m     iterable \u001b[38;5;241m=\u001b[39m \u001b[38;5;28mcls\u001b[39m(skipkeys\u001b[38;5;241m=\u001b[39mskipkeys, ensure_ascii\u001b[38;5;241m=\u001b[39mensure_ascii,\n\u001b[1;32m    174\u001b[0m         check_circular\u001b[38;5;241m=\u001b[39mcheck_circular, allow_nan\u001b[38;5;241m=\u001b[39mallow_nan, indent\u001b[38;5;241m=\u001b[39mindent,\n\u001b[1;32m    175\u001b[0m         separators\u001b[38;5;241m=\u001b[39mseparators,\n\u001b[1;32m    176\u001b[0m         default\u001b[38;5;241m=\u001b[39mdefault, sort_keys\u001b[38;5;241m=\u001b[39msort_keys, \u001b[38;5;241m*\u001b[39m\u001b[38;5;241m*\u001b[39mkw)\u001b[38;5;241m.\u001b[39miterencode(obj)\n\u001b[1;32m    177\u001b[0m \u001b[38;5;66;03m# could accelerate with writelines in some versions of Python, at\u001b[39;00m\n\u001b[1;32m    178\u001b[0m \u001b[38;5;66;03m# a debuggability cost\u001b[39;00m\n\u001b[0;32m--> 179\u001b[0m \u001b[38;5;28;01mfor\u001b[39;00m chunk \u001b[38;5;129;01min\u001b[39;00m iterable:\n\u001b[1;32m    180\u001b[0m     fp\u001b[38;5;241m.\u001b[39mwrite(chunk)\n",
      "File \u001b[0;32m~/miniconda3/envs/omniscidb/lib/python3.9/json/encoder.py:429\u001b[0m, in \u001b[0;36m_make_iterencode.<locals>._iterencode\u001b[0;34m(o, _current_indent_level)\u001b[0m\n\u001b[1;32m    427\u001b[0m     \u001b[38;5;28;01myield\u001b[39;00m _floatstr(o)\n\u001b[1;32m    428\u001b[0m \u001b[38;5;28;01melif\u001b[39;00m \u001b[38;5;28misinstance\u001b[39m(o, (\u001b[38;5;28mlist\u001b[39m, \u001b[38;5;28mtuple\u001b[39m)):\n\u001b[0;32m--> 429\u001b[0m     \u001b[38;5;28;01myield from\u001b[39;00m _iterencode_list(o, _current_indent_level)\n\u001b[1;32m    430\u001b[0m \u001b[38;5;28;01melif\u001b[39;00m \u001b[38;5;28misinstance\u001b[39m(o, \u001b[38;5;28mdict\u001b[39m):\n\u001b[1;32m    431\u001b[0m     \u001b[38;5;28;01myield from\u001b[39;00m _iterencode_dict(o, _current_indent_level)\n",
      "File \u001b[0;32m~/miniconda3/envs/omniscidb/lib/python3.9/json/encoder.py:325\u001b[0m, in \u001b[0;36m_make_iterencode.<locals>._iterencode_list\u001b[0;34m(lst, _current_indent_level)\u001b[0m\n\u001b[1;32m    323\u001b[0m         \u001b[38;5;28;01melse\u001b[39;00m:\n\u001b[1;32m    324\u001b[0m             chunks \u001b[38;5;241m=\u001b[39m _iterencode(value, _current_indent_level)\n\u001b[0;32m--> 325\u001b[0m         \u001b[38;5;28;01myield from\u001b[39;00m chunks\n\u001b[1;32m    326\u001b[0m \u001b[38;5;28;01mif\u001b[39;00m newline_indent \u001b[38;5;129;01mis\u001b[39;00m \u001b[38;5;129;01mnot\u001b[39;00m \u001b[38;5;28;01mNone\u001b[39;00m:\n\u001b[1;32m    327\u001b[0m     _current_indent_level \u001b[38;5;241m-\u001b[39m\u001b[38;5;241m=\u001b[39m \u001b[38;5;241m1\u001b[39m\n",
      "File \u001b[0;32m~/miniconda3/envs/omniscidb/lib/python3.9/json/encoder.py:397\u001b[0m, in \u001b[0;36m_make_iterencode.<locals>._iterencode_dict\u001b[0;34m(dct, _current_indent_level)\u001b[0m\n\u001b[1;32m    394\u001b[0m     \u001b[38;5;28;01myield\u001b[39;00m _intstr(value)\n\u001b[1;32m    395\u001b[0m \u001b[38;5;28;01melif\u001b[39;00m \u001b[38;5;28misinstance\u001b[39m(value, \u001b[38;5;28mfloat\u001b[39m):\n\u001b[1;32m    396\u001b[0m     \u001b[38;5;66;03m# see comment for int/float in _make_iterencode\u001b[39;00m\n\u001b[0;32m--> 397\u001b[0m     \u001b[38;5;28;01myield\u001b[39;00m \u001b[43m_floatstr\u001b[49m\u001b[43m(\u001b[49m\u001b[43mvalue\u001b[49m\u001b[43m)\u001b[49m\n\u001b[1;32m    398\u001b[0m \u001b[38;5;28;01melse\u001b[39;00m:\n\u001b[1;32m    399\u001b[0m     \u001b[38;5;28;01mif\u001b[39;00m \u001b[38;5;28misinstance\u001b[39m(value, (\u001b[38;5;28mlist\u001b[39m, \u001b[38;5;28mtuple\u001b[39m)):\n",
      "\u001b[0;31mKeyboardInterrupt\u001b[0m: "
     ]
    }
   ],
   "source": [
    "for dups in [4, 7, 16, 32, 63, 157, 313]:\n",
    "    n = 3201*dups\n",
    "    n_commas = int(log10(n) // 3)\n",
    "    suffix = [\"\", \"k\", \"m\"][n_commas]\n",
    "    filename = \"movies_{}{}\".format(int(n / 10**(n_commas * 3)), suffix)\n",
    "    print(filename)\n",
    "    \n",
    "    # Build dataframe\n",
    "    df = pd.concat([data.movies()]*dups, axis=0).reset_index()\n",
    "    \n",
    "    rows = alt.data.to_values(df)[\"values\"]\n",
    "    with open(outdir / (filename + \".json\"), \"wt\") as f:\n",
    "        json.dump(rows, f)"
   ]
  },
  {
   "cell_type": "code",
   "execution_count": null,
   "id": "d9d24cb3-7148-47b3-8cf3-d4fccad26cc0",
   "metadata": {},
   "outputs": [],
   "source": []
  }
 ],
 "metadata": {
  "kernelspec": {
   "display_name": "Python 3 (ipykernel)",
   "language": "python",
   "name": "python3"
  },
  "language_info": {
   "codemirror_mode": {
    "name": "ipython",
    "version": 3
   },
   "file_extension": ".py",
   "mimetype": "text/x-python",
   "name": "python",
   "nbconvert_exporter": "python",
   "pygments_lexer": "ipython3",
   "version": "3.9.9"
  }
 },
 "nbformat": 4,
 "nbformat_minor": 5
}
