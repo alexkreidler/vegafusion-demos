{
 "cells": [
  {
   "cell_type": "markdown",
   "id": "0b8ea907-66f1-4da8-9375-d8ee0858b12f",
   "metadata": {},
   "source": [
    "## Generate larger versions of the vega datasets"
   ]
  },
  {
   "cell_type": "code",
   "execution_count": null,
   "id": "8a26bc7c-2d7f-44c8-8dc8-1d5a44cefb4d",
   "metadata": {},
   "outputs": [],
   "source": [
    "from vega_datasets import data\n",
    "import pandas as pd\n",
    "from math import log10\n",
    "import altair as alt\n",
    "from pathlib import Path\n",
    "import json"
   ]
  },
  {
   "cell_type": "code",
   "execution_count": null,
   "id": "348d9177-965c-42dd-9483-61da82fec8bc",
   "metadata": {},
   "outputs": [],
   "source": [
    "outdir = Path(\"data\") / \"vega\"\n",
    "outdir.mkdir(exist_ok=True)"
   ]
  },
  {
   "cell_type": "markdown",
   "id": "a2571dd6-80c4-44c8-af27-5455de6c22e4",
   "metadata": {},
   "source": [
    "### Flights"
   ]
  },
  {
   "cell_type": "code",
   "execution_count": null,
   "id": "f9e4ac7e-b2fa-4443-8924-9dd8b14a606f",
   "metadata": {},
   "outputs": [],
   "source": [
    "for dups in [10, 20, 50, 100, 200]:\n",
    "    n = 10000*dups\n",
    "    n_commas = int(log10(n) // 3)\n",
    "    suffix = [\"\", \"k\", \"m\"][n_commas]\n",
    "    filename = \"flights_{}{}\".format(int(n / 10**(n_commas * 3)), suffix)\n",
    "    print(filename)\n",
    "    \n",
    "    # Build dataframe\n",
    "    df = pd.concat([data.flights_10k()]*dups, axis=0).reset_index()\n",
    "    \n",
    "    rows = alt.data.to_values(df)[\"values\"]\n",
    "    with open(outdir / (filename + \".json\"), \"wt\") as f:\n",
    "        json.dump(rows, f)\n",
    "    \n",
    "    df.to_parquet(outdir / (filename + \".parquet\"))"
   ]
  },
  {
   "cell_type": "markdown",
   "id": "97619bd4-5da2-403b-a4a7-46b805e6c898",
   "metadata": {},
   "source": [
    "### Seattle Weather"
   ]
  },
  {
   "cell_type": "code",
   "execution_count": null,
   "id": "bb078870-3996-4cb9-9faa-ca563578b50b",
   "metadata": {},
   "outputs": [],
   "source": [
    "for dups in [7, 14, 35, 69, 137, 343, 685, 1369]:\n",
    "    n = 1461*dups\n",
    "    n_commas = int(log10(n) // 3)\n",
    "    suffix = [\"\", \"k\", \"m\"][n_commas]\n",
    "    filename = \"seattle_weather_{}{}\".format(int(n / 10**(n_commas * 3)), suffix)\n",
    "    print(filename)\n",
    "    \n",
    "    # Build dataframe\n",
    "    df = pd.concat([data.seattle_weather()]*dups, axis=0).reset_index()\n",
    "    \n",
    "    rows = alt.data.to_values(df)[\"values\"]\n",
    "    with open(outdir / (filename + \".json\"), \"wt\") as f:\n",
    "        json.dump(rows, f)\n",
    "        \n",
    "    df.to_parquet(outdir / (filename + \".parquet\"))"
   ]
  },
  {
   "cell_type": "markdown",
   "id": "23ee2652-361c-4579-a7a6-8f731c08808f",
   "metadata": {},
   "source": [
    "### Movies"
   ]
  },
  {
   "cell_type": "code",
   "execution_count": null,
   "id": "18cfc642-3b40-4883-8aaa-2c03d0b0fce4",
   "metadata": {},
   "outputs": [],
   "source": [
    "for dups in [4, 7, 16, 32, 63, 157, 313]:\n",
    "    n = 3201*dups\n",
    "    n_commas = int(log10(n) // 3)\n",
    "    suffix = [\"\", \"k\", \"m\"][n_commas]\n",
    "    filename = \"movies_{}{}\".format(int(n / 10**(n_commas * 3)), suffix)\n",
    "    print(filename)\n",
    "    \n",
    "    # Build dataframe\n",
    "    df = data.movies()   \n",
    "    df = pd.concat([data.movies()]*dups, axis=0).reset_index()\n",
    "    df[\"Title\"] = df.Title.map(str)\n",
    "    \n",
    "    rows = alt.data.to_values(df)[\"values\"]\n",
    "    with open(outdir / (filename + \".json\"), \"wt\") as f:\n",
    "        json.dump(rows, f)\n",
    "        \n",
    "    df.to_parquet(outdir / (filename + \".parquet\"))"
   ]
  }
 ],
 "metadata": {
  "kernelspec": {
   "display_name": "Python 3 (ipykernel)",
   "language": "python",
   "name": "python3"
  },
  "language_info": {
   "codemirror_mode": {
    "name": "ipython",
    "version": 3
   },
   "file_extension": ".py",
   "mimetype": "text/x-python",
   "name": "python",
   "nbconvert_exporter": "python",
   "pygments_lexer": "ipython3",
   "version": "3.9.9"
  }
 },
 "nbformat": 4,
 "nbformat_minor": 5
}
