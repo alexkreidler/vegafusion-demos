{
 "cells": [
  {
   "cell_type": "markdown",
   "id": "0b8ea907-66f1-4da8-9375-d8ee0858b12f",
   "metadata": {},
   "source": [
    "## Generate larger versions of the vega datasets"
   ]
  },
  {
   "cell_type": "code",
   "execution_count": 2,
   "id": "8a26bc7c-2d7f-44c8-8dc8-1d5a44cefb4d",
   "metadata": {},
   "outputs": [],
   "source": [
    "from vega_datasets import data\n",
    "import pandas as pd\n",
    "from math import log10\n",
    "import altair as alt\n",
    "from pathlib import Path\n",
    "import json\n",
    "import vegafusion_jupyter as vf"
   ]
  },
  {
   "cell_type": "code",
   "execution_count": 3,
   "id": "348d9177-965c-42dd-9483-61da82fec8bc",
   "metadata": {},
   "outputs": [],
   "source": [
    "outdir = Path(\"data\") / \"vega\"\n",
    "outdir.mkdir(exist_ok=True)"
   ]
  },
  {
   "cell_type": "markdown",
   "id": "a2571dd6-80c4-44c8-af27-5455de6c22e4",
   "metadata": {},
   "source": [
    "### Flights"
   ]
  },
  {
   "cell_type": "code",
   "execution_count": null,
   "id": "f9e4ac7e-b2fa-4443-8924-9dd8b14a606f",
   "metadata": {},
   "outputs": [],
   "source": [
    "for dups in [10, 20, 50, 100, 200, 500, 1000]:\n",
    "    n = 10000*dups\n",
    "    n_commas = int(log10(n) // 3)\n",
    "    suffix = [\"\", \"k\", \"m\"][n_commas]\n",
    "    filename = \"flights_{}{}\".format(int(n / 10**(n_commas * 3)), suffix)\n",
    "    print(filename)\n",
    "    \n",
    "    # Build dataframe\n",
    "    df = pd.concat([data.flights_10k()]*dups, axis=0).reset_index()\n",
    "    \n",
    "    # Write json for size up to 1 million rows\n",
    "    if n <= 1e6:\n",
    "        with open(outdir / (filename + \".json\"), \"wt\") as f:\n",
    "            json.dump(alt.data.to_values(df), f)\n",
    "\n",
    "    # Write feather\n",
    "    vf.to_feather(df, outdir / (filename + \".feather\"))"
   ]
  },
  {
   "cell_type": "markdown",
   "id": "97619bd4-5da2-403b-a4a7-46b805e6c898",
   "metadata": {},
   "source": [
    "### Seattle Weather"
   ]
  },
  {
   "cell_type": "code",
   "execution_count": null,
   "id": "bb078870-3996-4cb9-9faa-ca563578b50b",
   "metadata": {},
   "outputs": [],
   "source": [
    "for dups in [7, 14, 35, 69, 137, 343, 685, 1369]:\n",
    "    n = 1461*dups\n",
    "    n_commas = int(log10(n) // 3)\n",
    "    suffix = [\"\", \"k\", \"m\"][n_commas]\n",
    "    filename = \"seattle_weather_{}{}\".format(int(n / 10**(n_commas * 3)), suffix)\n",
    "    print(filename)\n",
    "    \n",
    "    # Build dataframe\n",
    "    df = pd.concat([data.seattle_weather()]*dups, axis=0).reset_index()\n",
    "    \n",
    "    # Write json for size up to 1 million rows\n",
    "    if n <= 1e6:\n",
    "        with open(outdir / (filename + \".json\"), \"wt\") as f:\n",
    "            json.dump(alt.data.to_values(df), f)\n",
    "\n",
    "    # Write feather\n",
    "    vf.to_feather(df, outdir / (filename + \".feather\"))"
   ]
  }
 ],
 "metadata": {
  "kernelspec": {
   "display_name": "Python 3 (ipykernel)",
   "language": "python",
   "name": "python3"
  },
  "language_info": {
   "codemirror_mode": {
    "name": "ipython",
    "version": 3
   },
   "file_extension": ".py",
   "mimetype": "text/x-python",
   "name": "python",
   "nbconvert_exporter": "python",
   "pygments_lexer": "ipython3",
   "version": "3.9.9"
  }
 },
 "nbformat": 4,
 "nbformat_minor": 5
}
