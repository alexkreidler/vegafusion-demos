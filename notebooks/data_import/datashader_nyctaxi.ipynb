{
 "cells": [
  {
   "cell_type": "code",
   "execution_count": null,
   "id": "3b78d0a9-0a2b-42aa-8b38-c78fee02d44a",
   "metadata": {},
   "outputs": [],
   "source": [
    "import pandas as pd\n",
    "from pathlib import Path\n",
    "import vegafusion_jupyter as vf\n"
   ]
  },
  {
   "cell_type": "code",
   "execution_count": null,
   "id": "affcfd7b-3e79-4814-8f59-bc39dee423fc",
   "metadata": {},
   "outputs": [],
   "source": [
    "outdir = Path(\"data\") / \"datashader\"\n",
    "outdir.mkdir(exist_ok=True)"
   ]
  },
  {
   "cell_type": "code",
   "execution_count": null,
   "id": "fccd5e91-df58-4013-ac4f-3ba5f3c78749",
   "metadata": {},
   "outputs": [],
   "source": [
    "print('Downloading and saving dataset (thanks to the datashader project for making this example dataset available!)... ', end='')\n",
    "df = pd.read_csv('http://s3.amazonaws.com/datashader-data/nyc_taxi.zip', compression='zip')"
   ]
  },
  {
   "cell_type": "code",
   "execution_count": null,
   "id": "5e8dca1a-ba8a-4b64-aa94-a98d07e8f8d2",
   "metadata": {},
   "outputs": [],
   "source": [
    "df.head()"
   ]
  },
  {
   "cell_type": "code",
   "execution_count": null,
   "id": "0947326a-434e-451b-8bb8-e742b4b54cd2",
   "metadata": {},
   "outputs": [],
   "source": [
    "# Convert cols to datetime\n",
    "for c in [\"tpep_pickup_datetime\", \"tpep_dropoff_datetime\"]:\n",
    "    df[c] = pd.to_datetime(df[c])"
   ]
  },
  {
   "cell_type": "code",
   "execution_count": null,
   "id": "113d34c1-c5da-4a3a-bf05-9bfb1324178f",
   "metadata": {},
   "outputs": [],
   "source": [
    "# Save to feather file optimized for vegafusion\n",
    "df.to_parquet(outdir / \"nyc_taxi.parquet\")"
   ]
  },
  {
   "cell_type": "code",
   "execution_count": null,
   "id": "024c52ae-7809-483a-94ae-61c072ec5f82",
   "metadata": {},
   "outputs": [],
   "source": []
  }
 ],
 "metadata": {
  "kernelspec": {
   "display_name": "Python 3 (ipykernel)",
   "language": "python",
   "name": "python3"
  },
  "language_info": {
   "codemirror_mode": {
    "name": "ipython",
    "version": 3
   },
   "file_extension": ".py",
   "mimetype": "text/x-python",
   "name": "python",
   "nbconvert_exporter": "python",
   "pygments_lexer": "ipython3",
   "version": "3.9.9"
  }
 },
 "nbformat": 4,
 "nbformat_minor": 5
}
