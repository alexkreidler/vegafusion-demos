{
 "cells": [
  {
   "cell_type": "code",
   "execution_count": null,
   "id": "e25ef914-8f33-4828-aadb-5474f637fc4b",
   "metadata": {},
   "outputs": [],
   "source": [
    "import altair as alt\n",
    "from vega_datasets import data\n",
    "import pandas as pd\n",
    "import vegafusion_jupyter as vf"
   ]
  },
  {
   "cell_type": "code",
   "execution_count": null,
   "id": "b0f2d4e1-4502-4d09-a185-2784f36de51b",
   "metadata": {},
   "outputs": [],
   "source": [
    "source = source = data.movies.url\n",
    "source_data = pd.read_json(source)\n",
    "\n",
    "source = \"https://vegafusion-datasets.s3.amazonaws.com/vega/movies_102k.json\"\n",
    "source_data = pd.read_json(source)"
   ]
  },
  {
   "cell_type": "code",
   "execution_count": null,
   "id": "39d360f8-e78a-48d4-ba5e-c676b124dcdb",
   "metadata": {},
   "outputs": [],
   "source": [
    "def make_chart(data_source):\n",
    "    pts = alt.selection(type=\"multi\", encodings=['x'])\n",
    "\n",
    "    rect = alt.Chart(data_source).mark_rect().encode(\n",
    "        alt.X('IMDB_Rating:Q', bin=True),\n",
    "        alt.Y('Rotten_Tomatoes_Rating:Q', bin=True),\n",
    "        alt.Color('count()',\n",
    "            scale=alt.Scale(scheme='greenblue'),\n",
    "            legend=alt.Legend(title='Total Records')\n",
    "        )\n",
    "    )\n",
    "\n",
    "    circ = rect.mark_point().encode(\n",
    "        alt.ColorValue('grey'),\n",
    "        alt.Size('count()',\n",
    "            legend=alt.Legend(title='Records in Selection')\n",
    "        )\n",
    "    ).transform_filter(\n",
    "        pts\n",
    "    ).properties(height=420)\n",
    "\n",
    "    bar = alt.Chart(data_source).mark_bar().encode(\n",
    "        x='Major_Genre:N',\n",
    "        y='count()',\n",
    "        color=alt.condition(pts, alt.ColorValue(\"steelblue\"), alt.ColorValue(\"grey\"))\n",
    "    ).properties(\n",
    "        width=550,\n",
    "        height=120\n",
    "    ).add_selection(pts)\n",
    "\n",
    "    return alt.vconcat(\n",
    "        rect + circ,\n",
    "        bar\n",
    "    ).resolve_legend(\n",
    "        color=\"independent\",\n",
    "        size=\"independent\"\n",
    "    )"
   ]
  },
  {
   "cell_type": "markdown",
   "id": "490ae983-3807-4a56-9e36-93da8c163f78",
   "metadata": {},
   "source": [
    "## Plain Altair"
   ]
  },
  {
   "cell_type": "code",
   "execution_count": null,
   "id": "81a6f4f9-0482-4634-b73e-0267434e51c7",
   "metadata": {},
   "outputs": [],
   "source": [
    "vf.disable()\n",
    "make_chart(source)"
   ]
  },
  {
   "cell_type": "markdown",
   "id": "47f72ed5-4d22-42ed-8fc2-4525eba97c10",
   "metadata": {},
   "source": [
    "## Altair with VegaFusion"
   ]
  },
  {
   "cell_type": "code",
   "execution_count": null,
   "id": "358885c6-b2f1-485e-914b-582c96fb017c",
   "metadata": {},
   "outputs": [],
   "source": [
    "vf.enable()\n",
    "make_chart(source_data)"
   ]
  },
  {
   "cell_type": "code",
   "execution_count": null,
   "id": "1268f9b8-87fd-4454-9ad6-d6eaa72e4713",
   "metadata": {},
   "outputs": [],
   "source": []
  }
 ],
 "metadata": {
  "kernelspec": {
   "display_name": "Python 3 (ipykernel)",
   "language": "python",
   "name": "python3"
  },
  "language_info": {
   "codemirror_mode": {
    "name": "ipython",
    "version": 3
   },
   "file_extension": ".py",
   "mimetype": "text/x-python",
   "name": "python",
   "nbconvert_exporter": "python",
   "pygments_lexer": "ipython3",
   "version": "3.9.9"
  }
 },
 "nbformat": 4,
 "nbformat_minor": 5
}
