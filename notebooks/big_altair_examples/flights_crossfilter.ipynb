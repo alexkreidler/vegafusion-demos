{
 "cells": [
  {
   "cell_type": "code",
   "execution_count": null,
   "id": "e25ef914-8f33-4828-aadb-5474f637fc4b",
   "metadata": {},
   "outputs": [],
   "source": [
    "import altair as alt\n",
    "from vega_datasets import data\n",
    "import pandas as pd\n",
    "import vegafusion_jupyter as vf"
   ]
  },
  {
   "cell_type": "code",
   "execution_count": null,
   "id": "b0f2d4e1-4502-4d09-a185-2784f36de51b",
   "metadata": {},
   "outputs": [],
   "source": [
    "source = \"https://vegafusion-datasets.s3.amazonaws.com/vega/flights_500k.json\"\n",
    "source_data = pd.read_json(source)"
   ]
  },
  {
   "cell_type": "markdown",
   "id": "490ae983-3807-4a56-9e36-93da8c163f78",
   "metadata": {},
   "source": [
    "## Plain Altair"
   ]
  },
  {
   "cell_type": "code",
   "execution_count": null,
   "id": "81a6f4f9-0482-4634-b73e-0267434e51c7",
   "metadata": {},
   "outputs": [],
   "source": [
    "vf.disable()\n",
    "\n",
    "import altair as alt\n",
    "from vega_datasets import data\n",
    "\n",
    "brush = alt.selection(type='interval', encodings=['x'])\n",
    "\n",
    "# Define the base chart, with the common parts of the\n",
    "# background and highlights\n",
    "base = alt.Chart().mark_bar().encode(\n",
    "    x=alt.X(alt.repeat('column'), type='quantitative', bin=alt.Bin(maxbins=20)),\n",
    "    y='count()'\n",
    ").properties(\n",
    "    width=160,\n",
    "    height=130\n",
    ")\n",
    "\n",
    "# gray background with selection\n",
    "background = base.encode(\n",
    "    color=alt.value('#ddd')\n",
    ").add_selection(brush)\n",
    "\n",
    "# blue highlights on the transformed data\n",
    "highlight = base.transform_filter(brush)\n",
    "\n",
    "# layer the two charts & repeat\n",
    "chart = alt.layer(\n",
    "    background,\n",
    "    highlight,\n",
    "    data=source\n",
    ").transform_calculate(\n",
    "    \"time\",\n",
    "    \"hours(datum.date)\"\n",
    ").repeat(column=[\"distance\", \"delay\", \"time\"])\n",
    "chart"
   ]
  },
  {
   "cell_type": "markdown",
   "id": "47f72ed5-4d22-42ed-8fc2-4525eba97c10",
   "metadata": {},
   "source": [
    "## Altair with VegaFusion"
   ]
  },
  {
   "cell_type": "code",
   "execution_count": null,
   "id": "358885c6-b2f1-485e-914b-582c96fb017c",
   "metadata": {},
   "outputs": [],
   "source": [
    "vf.enable()\n",
    "\n",
    "# layer the two charts & repeat\n",
    "chart = alt.layer(\n",
    "    background,\n",
    "    highlight,\n",
    "    data=source_data\n",
    ").transform_calculate(\n",
    "    \"time\",\n",
    "    \"hours(datum.date)\"\n",
    ").repeat(column=[\"distance\", \"delay\", \"time\"])\n",
    "chart"
   ]
  },
  {
   "cell_type": "code",
   "execution_count": null,
   "id": "6c307a3b-9368-4d8f-9e54-c1e5f66f9272",
   "metadata": {},
   "outputs": [],
   "source": []
  }
 ],
 "metadata": {
  "kernelspec": {
   "display_name": "Python 3 (ipykernel)",
   "language": "python",
   "name": "python3"
  },
  "language_info": {
   "codemirror_mode": {
    "name": "ipython",
    "version": 3
   },
   "file_extension": ".py",
   "mimetype": "text/x-python",
   "name": "python",
   "nbconvert_exporter": "python",
   "pygments_lexer": "ipython3",
   "version": "3.9.9"
  }
 },
 "nbformat": 4,
 "nbformat_minor": 5
}
