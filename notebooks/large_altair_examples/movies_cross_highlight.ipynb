{
 "cells": [
  {
   "cell_type": "markdown",
   "id": "5e9e2697-524b-4731-a1dd-e2e50a42f1cb",
   "metadata": {},
   "source": [
    "# Interactive Chart with Cross-Highlight\n",
    "This example is a modification of the [Interactive Chart with Cross-Highlight](https://altair-viz.github.io/gallery/interactive_cross_highlight.html) Altair gallery example.  The dataset size has been increased from 3.2k rows to 200k rows.  At this data size, the plain Altair version has noticeable lag while the VegaFusion version is still responsive. A VegaFusion version with 1 million rows is also included."
   ]
  },
  {
   "cell_type": "code",
   "execution_count": null,
   "id": "e25ef914-8f33-4828-aadb-5474f637fc4b",
   "metadata": {},
   "outputs": [],
   "source": [
    "import altair as alt\n",
    "from vega_datasets import data\n",
    "import pandas as pd\n",
    "import vegafusion as vf"
   ]
  },
  {
   "cell_type": "code",
   "execution_count": null,
   "id": "39d360f8-e78a-48d4-ba5e-c676b124dcdb",
   "metadata": {},
   "outputs": [],
   "source": [
    "def make_chart(data_source):\n",
    "    pts = alt.selection(type=\"multi\", encodings=['x'])\n",
    "\n",
    "    rect = alt.Chart(data_source).mark_rect().encode(\n",
    "        alt.X('IMDB_Rating:Q', bin=True),\n",
    "        alt.Y('Rotten_Tomatoes_Rating:Q', bin=True),\n",
    "        alt.Color('count()',\n",
    "            scale=alt.Scale(scheme='greenblue'),\n",
    "            legend=alt.Legend(title='Total Records')\n",
    "        )\n",
    "    )\n",
    "\n",
    "    circ = rect.mark_point().encode(\n",
    "        alt.ColorValue('grey'),\n",
    "        alt.Size('count()',\n",
    "            legend=alt.Legend(title='Records in Selection')\n",
    "        )\n",
    "    ).transform_filter(\n",
    "        pts\n",
    "    ).properties(\n",
    "        width=300,\n",
    "        height=250\n",
    "    )\n",
    "\n",
    "    bar = alt.Chart(data_source).mark_bar().encode(\n",
    "        x='Major_Genre:N',\n",
    "        y='count()',\n",
    "        color=alt.condition(pts, alt.ColorValue(\"steelblue\"), alt.ColorValue(\"grey\"))\n",
    "    ).properties(\n",
    "        width=300,\n",
    "        height=250\n",
    "    ).add_selection(pts)\n",
    "\n",
    "    return alt.hconcat(\n",
    "        bar,\n",
    "        rect + circ,\n",
    "    ).resolve_legend(\n",
    "        color=\"independent\",\n",
    "        size=\"independent\"\n",
    "    )"
   ]
  },
  {
   "cell_type": "markdown",
   "id": "490ae983-3807-4a56-9e36-93da8c163f78",
   "metadata": {},
   "source": [
    "## Plain Altair\n",
    "#### 201k rows"
   ]
  },
  {
   "cell_type": "code",
   "execution_count": null,
   "id": "81a6f4f9-0482-4634-b73e-0267434e51c7",
   "metadata": {},
   "outputs": [],
   "source": [
    "vf.jupyter.disable()\n",
    "source = \"https://vegafusion-datasets.s3.amazonaws.com/vega/movies_201k.json\"\n",
    "make_chart(source)"
   ]
  },
  {
   "cell_type": "markdown",
   "id": "47f72ed5-4d22-42ed-8fc2-4525eba97c10",
   "metadata": {},
   "source": [
    "## Altair with VegaFusion\n",
    "#### 201k rows"
   ]
  },
  {
   "cell_type": "code",
   "execution_count": null,
   "id": "358885c6-b2f1-485e-914b-582c96fb017c",
   "metadata": {},
   "outputs": [],
   "source": [
    "vf.jupyter.enable(download_source_link=\"https://github.com/vegafusion/demos\")\n",
    "source_data = pd.read_parquet(\n",
    "    \"https://vegafusion-datasets.s3.amazonaws.com/vega/movies_201k.parquet\"\n",
    ")\n",
    "make_chart(source_data)"
   ]
  },
  {
   "cell_type": "code",
   "execution_count": null,
   "id": "58997220-bdaa-440a-a949-371846b82941",
   "metadata": {},
   "outputs": [],
   "source": [
    "# ## Altair with VegaFusion\n",
    "# #### 1 million rows\n",
    "\n",
    "# source_data = pd.read_parquet(\n",
    "#     \"https://vegafusion-datasets.s3.amazonaws.com/vega/movies_1m.parquet\"\n",
    "# )\n",
    "# make_chart(source_data)"
   ]
  }
 ],
 "metadata": {
  "kernelspec": {
   "display_name": "Python 3 (ipykernel)",
   "language": "python",
   "name": "python3"
  },
  "language_info": {
   "codemirror_mode": {
    "name": "ipython",
    "version": 3
   },
   "file_extension": ".py",
   "mimetype": "text/x-python",
   "name": "python",
   "nbconvert_exporter": "python",
   "pygments_lexer": "ipython3",
   "version": "3.9.7"
  }
 },
 "nbformat": 4,
 "nbformat_minor": 5
}
