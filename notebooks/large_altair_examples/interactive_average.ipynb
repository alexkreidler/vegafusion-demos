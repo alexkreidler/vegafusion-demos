{
 "cells": [
  {
   "cell_type": "markdown",
   "id": "2adadc04-595f-405f-a9ab-cc779ba304e9",
   "metadata": {},
   "source": [
    "# Interactive Average\n",
    "This example is a modification of the [Interactive Average](https://altair-viz.github.io/gallery/selection_layer_bar_month.html) Altair gallery example.  The dataset size has been increased from 1.4k rows to 200k rows.  At this data size, the plain Altair version has noticeable lag while the VegaFusion version is still responsive. A VegaFusion version with 1 million rows is also included."
   ]
  },
  {
   "cell_type": "code",
   "execution_count": null,
   "id": "3d1aaf4c-4b8a-4625-9661-f842d94e2ac9",
   "metadata": {},
   "outputs": [],
   "source": [
    "import altair as alt\n",
    "from vega_datasets import data\n",
    "import pandas as pd\n",
    "import vegafusion_jupyter as vf"
   ]
  },
  {
   "cell_type": "code",
   "execution_count": null,
   "id": "d7be826e-eab3-439d-b2f3-8f6f50d90f65",
   "metadata": {},
   "outputs": [],
   "source": [
    "def make_chart(source):\n",
    "    brush = alt.selection(type='interval', encodings=['x'])\n",
    "\n",
    "    bars = alt.Chart().mark_bar().encode(\n",
    "        x='utcmonth(date):O',\n",
    "        y='mean(precipitation):Q',\n",
    "        opacity=alt.condition(brush, alt.OpacityValue(1), alt.OpacityValue(0.7)),\n",
    "    ).add_selection(\n",
    "        brush\n",
    "    )\n",
    "\n",
    "    line = alt.Chart().mark_rule(color='firebrick').encode(\n",
    "        y='mean(precipitation):Q',\n",
    "        size=alt.SizeValue(3)\n",
    "    ).transform_filter(\n",
    "        brush\n",
    "    )\n",
    "\n",
    "    return alt.layer(bars, line, data=source)"
   ]
  },
  {
   "cell_type": "markdown",
   "id": "490ae983-3807-4a56-9e36-93da8c163f78",
   "metadata": {},
   "source": [
    "## Plain Altair\n",
    "#### 200k rows"
   ]
  },
  {
   "cell_type": "code",
   "execution_count": null,
   "id": "81a6f4f9-0482-4634-b73e-0267434e51c7",
   "metadata": {},
   "outputs": [],
   "source": [
    "vf.disable()\n",
    "source = \"https://vegafusion-datasets.s3.amazonaws.com/vega/seattle_weather_200k.json\"\n",
    "make_chart(source)"
   ]
  },
  {
   "cell_type": "markdown",
   "id": "47f72ed5-4d22-42ed-8fc2-4525eba97c10",
   "metadata": {},
   "source": [
    "## Altair with VegaFusion\n",
    "#### 200k rows"
   ]
  },
  {
   "cell_type": "code",
   "execution_count": null,
   "id": "c66793b7-1bec-4daa-b081-ff7b35cc6da1",
   "metadata": {},
   "outputs": [],
   "source": [
    "vf.enable(download_source_link=\"https://github.com/vegafusion/demos\")\n",
    "source_data = pd.read_parquet(\n",
    "    \"https://vegafusion-datasets.s3.amazonaws.com/vega/seattle_weather_200k.parquet\"\n",
    ")\n",
    "make_chart(source_data)"
   ]
  },
  {
   "cell_type": "markdown",
   "id": "dc6066f2-8438-4a50-b6b6-c1b8e57bcaba",
   "metadata": {},
   "source": [
    "## Altair with VegaFusion\n",
    "#### 1 million rows"
   ]
  },
  {
   "cell_type": "code",
   "execution_count": null,
   "id": "6c372f87-9176-4fbd-99ff-28ad90c70aa4",
   "metadata": {},
   "outputs": [],
   "source": [
    "source_data = pd.read_parquet(\n",
    "    \"https://vegafusion-datasets.s3.amazonaws.com/vega/seattle_weather_1m.parquet\"\n",
    ")\n",
    "make_chart(source_data)"
   ]
  }
 ],
 "metadata": {
  "kernelspec": {
   "display_name": "Python 3 (ipykernel)",
   "language": "python",
   "name": "python3"
  },
  "language_info": {
   "codemirror_mode": {
    "name": "ipython",
    "version": 3
   },
   "file_extension": ".py",
   "mimetype": "text/x-python",
   "name": "python",
   "nbconvert_exporter": "python",
   "pygments_lexer": "ipython3",
   "version": "3.9.9"
  }
 },
 "nbformat": 4,
 "nbformat_minor": 5
}
