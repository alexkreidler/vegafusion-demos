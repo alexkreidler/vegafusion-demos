{
 "cells": [
  {
   "cell_type": "markdown",
   "id": "c7fef63d-71db-4100-afc7-f953dc4af4c6",
   "metadata": {},
   "source": [
    "# Interactive Crossfilter\n",
    "This example is a modification of the [Interactive Crossfilter](https://altair-viz.github.io/gallery/interactive_layered_crossfilter.html) Altair gallery example.  The dataset size has been increased from 2k rows to 200k rows.  At this data size, the plain Altair version has noticeable lag while the VegaFusion version is still responsive.  A VegaFusion version with 1 million rows is also included."
   ]
  },
  {
   "cell_type": "code",
   "execution_count": null,
   "id": "e25ef914-8f33-4828-aadb-5474f637fc4b",
   "metadata": {},
   "outputs": [],
   "source": [
    "import altair as alt\n",
    "from vega_datasets import data\n",
    "import pandas as pd\n",
    "import vegafusion as vf"
   ]
  },
  {
   "cell_type": "code",
   "execution_count": null,
   "id": "ca9b18e1-724f-4210-828e-7361943d32ce",
   "metadata": {},
   "outputs": [],
   "source": [
    "def make_chart(source):\n",
    "    brush = alt.selection(type='interval', encodings=['x'])\n",
    "\n",
    "    # Define the base chart, with the common parts of the\n",
    "    # background and highlights\n",
    "    base = alt.Chart().mark_bar().encode(\n",
    "        x=alt.X(alt.repeat('column'), type='quantitative', bin=alt.Bin(maxbins=20)),\n",
    "        y='count()'\n",
    "    ).properties(\n",
    "        width=160,\n",
    "        height=130\n",
    "    )\n",
    "\n",
    "    # gray background with selection\n",
    "    background = base.encode(\n",
    "        color=alt.value('#ddd')\n",
    "    ).add_selection(brush)\n",
    "\n",
    "    # blue highlights on the transformed data\n",
    "    highlight = base.transform_filter(brush)\n",
    "\n",
    "    # layer the two charts & repeat\n",
    "    return alt.layer(\n",
    "        background,\n",
    "        highlight,\n",
    "        data=source\n",
    "    ).transform_calculate(\n",
    "        \"time\",\n",
    "        \"hours(datum.date)\"\n",
    "    ).repeat(column=[\"distance\", \"delay\", \"time\"])"
   ]
  },
  {
   "cell_type": "markdown",
   "id": "490ae983-3807-4a56-9e36-93da8c163f78",
   "metadata": {},
   "source": [
    "## Plain Altair\n",
    "#### 200k rows"
   ]
  },
  {
   "cell_type": "code",
   "execution_count": null,
   "id": "81a6f4f9-0482-4634-b73e-0267434e51c7",
   "metadata": {},
   "outputs": [],
   "source": [
    "vf.disable()\n",
    "source = \"https://vegafusion-datasets.s3.amazonaws.com/vega/flights_200k.json\"\n",
    "make_chart(source)"
   ]
  },
  {
   "cell_type": "markdown",
   "id": "47f72ed5-4d22-42ed-8fc2-4525eba97c10",
   "metadata": {},
   "source": [
    "## Altair with VegaFusion\n",
    "#### 200k rows"
   ]
  },
  {
   "cell_type": "code",
   "execution_count": null,
   "id": "358885c6-b2f1-485e-914b-582c96fb017c",
   "metadata": {},
   "outputs": [],
   "source": [
    "vf.enable_widget(download_source_link=\"https://github.com/vegafusion/demos\")\n",
    "source_data = pd.read_parquet(\n",
    "    \"https://vegafusion-datasets.s3.amazonaws.com/vega/flights_200k.parquet\"\n",
    ")\n",
    "make_chart(source_data)"
   ]
  },
  {
   "cell_type": "code",
   "execution_count": null,
   "id": "7329ca80-3092-4777-afdf-f7ec05b63542",
   "metadata": {},
   "outputs": [],
   "source": [
    "# # Altair with VegaFusion \n",
    "# ### 1 million rows\n",
    " \n",
    "# vf.enable_widget(\n",
    "#     download_source_link=\"https://github.com/vegafusion/demos\",\n",
    "#     debounce_wait=60,\n",
    "#     debounce_max_wait=120\n",
    "# )\n",
    "# source_data = pd.read_parquet(\n",
    "#     \"https://vegafusion-datasets.s3.amazonaws.com/vega/flights_1m.parquet\"\n",
    "# )\n",
    "# make_chart(source_data)"
   ]
  }
 ],
 "metadata": {
  "kernelspec": {
   "display_name": "Python 3 (ipykernel)",
   "language": "python",
   "name": "python3"
  },
  "language_info": {
   "codemirror_mode": {
    "name": "ipython",
    "version": 3
   },
   "file_extension": ".py",
   "mimetype": "text/x-python",
   "name": "python",
   "nbconvert_exporter": "python",
   "pygments_lexer": "ipython3",
   "version": "3.9.13"
  }
 },
 "nbformat": 4,
 "nbformat_minor": 5
}
