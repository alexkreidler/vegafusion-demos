{
 "cells": [
  {
   "cell_type": "markdown",
   "id": "e8e92e79-3a06-4c5d-a45e-ff11678fa49e",
   "metadata": {},
   "source": [
    "# 10 Million Taxi Rides\n",
    "This example creates a dashboard to explore 10 million taxi rides in New York City from January 2015.\n",
    "\n",
    "See the PyViz documentation example for more information: https://examples.pyviz.org/nyc_taxi/nyc_taxi.html."
   ]
  },
  {
   "cell_type": "code",
   "execution_count": null,
   "id": "9a078fe2-b5ca-4b08-854f-d606f71b5298",
   "metadata": {},
   "outputs": [],
   "source": [
    "import pandas as pd\n",
    "import altair as alt\n",
    "import vegafusion_jupyter as vf\n",
    "vf.enable()"
   ]
  },
  {
   "cell_type": "code",
   "execution_count": null,
   "id": "0ac5de29-45a0-486d-95d1-916bb94df1dd",
   "metadata": {},
   "outputs": [],
   "source": [
    "source = \"https://vegafusion-datasets.s3.amazonaws.com/datashader/nyc_taxi.parquet\"\n",
    "source_data = pd.read_parquet(source)"
   ]
  },
  {
   "cell_type": "code",
   "execution_count": null,
   "id": "de6ba55e-f824-4999-b451-a28511e6ac5a",
   "metadata": {},
   "outputs": [],
   "source": [
    "# source_data.head()"
   ]
  },
  {
   "cell_type": "code",
   "execution_count": null,
   "id": "db54dd3a-86dc-463c-b072-1f90e15d54cf",
   "metadata": {},
   "outputs": [],
   "source": [
    "width = 400\n",
    "height = 400"
   ]
  },
  {
   "cell_type": "code",
   "execution_count": null,
   "id": "75ef81b0-4ff0-44d0-afe9-32f44a58f307",
   "metadata": {},
   "outputs": [],
   "source": [
    "base = alt.Chart(source_data, width=width, height=height).transform_calculate(\n",
    "    pickup_hour=\"utchours(datum.tpep_pickup_datetime)\",\n",
    "    pickup_day=\"day(datum.tpep_pickup_datetime)\",\n",
    "    tip_perc=\"datum.tip_amount\",\n",
    ").transform_filter(\n",
    "    \"datum.tip_perc < 100\"\n",
    ")"
   ]
  },
  {
   "cell_type": "code",
   "execution_count": null,
   "id": "b38c32a0-a352-4008-9f4d-647e5ea5940c",
   "metadata": {},
   "outputs": [],
   "source": [
    "x_domain = [-8.243204e+06, -8.226511e+06]\n",
    "y_domain = [4.968192e+06, 4.982886e+06]\n",
    "\n",
    "width_bins = 180\n",
    "height_bins = 180\n"
   ]
  },
  {
   "cell_type": "code",
   "execution_count": null,
   "id": "292d8d2b-338a-4b0e-aa1a-b430562d32c7",
   "metadata": {},
   "outputs": [],
   "source": [
    "scales = alt.selection_interval(\n",
    "    name=\"pickup_scales\",\n",
    "    bind='scales',\n",
    "    on=\"[mousedown[event.altKey], window:mouseup] > window:mousemove![event.altKey]\",\n",
    "    translate=\"[mousedown[event.altKey], window:mouseup] > window:mousemove![event.altKey]\",\n",
    "    zoom=\"wheel![event.altKey]\"\n",
    ")\n",
    "\n",
    "pickup_selection = alt.selection_interval(\n",
    "    on=\"[mousedown[!event.altKey], window:mouseup] > window:mousemove![!event.altKey]\",\n",
    "    translate=\"[mousedown[!event.altKey], window:mouseup] > window:mousemove![!event.altKey]\",\n",
    "    zoom=\"wheel![!event.altKey]\",\n",
    ")\n",
    "\n",
    "distance_selection = alt.selection_interval(encodings=[\"x\"])\n",
    "day_hour_selection = alt.selection_interval()\n",
    "\n",
    "\n",
    "# Distance\n",
    "distance_chart = base.mark_bar().encode(\n",
    "    x=alt.X(\"trip_distance:Q\", bin=alt.Bin(maxbins=20, extent=[0, 12])),\n",
    "    y=\"count()\"\n",
    ").add_selection(\n",
    "    distance_selection\n",
    ").transform_filter(\n",
    "    {\"and\": [\n",
    "        pickup_selection,\n",
    "        day_hour_selection\n",
    "    ]}\n",
    ")\n",
    "\n",
    "# Pickup\n",
    "pickup_chart = base.mark_rect().encode(\n",
    "    x=alt.X(\n",
    "        \"pickup_x:Q\",\n",
    "        bin=alt.Bin(maxbins=width_bins),\n",
    "        scale=alt.Scale(domain=x_domain),\n",
    "        axis=alt.Axis(labels=False)\n",
    "    ),\n",
    "    y=alt.Y(\n",
    "        \"pickup_y:Q\",\n",
    "        bin=alt.Bin(maxbins=height_bins),\n",
    "        scale=alt.Scale(domain=y_domain),\n",
    "        axis=alt.Axis(labels=False),\n",
    "    ),\n",
    "    opacity=alt.Opacity(\"count():Q\", scale=alt.Scale(type=\"log\", range=[0.5, 1.0]), legend=None),\n",
    "    # color=alt.value(\"steelblue\")\n",
    "    color=alt.Color(\"count():Q\", scale=alt.Scale(type=\"log\", scheme=\"purpleblue\", reverse=False), legend=None)\n",
    ").transform_filter(\n",
    "    {\"and\": [\n",
    "        scales,\n",
    "        distance_selection,\n",
    "        day_hour_selection\n",
    "    ]}\n",
    ").add_selection(\n",
    "    scales\n",
    ").add_selection(\n",
    "    pickup_selection\n",
    ")\n",
    "\n",
    "# Tip percentage\n",
    "tip_perc_chart = base.mark_rect().encode(\n",
    "    x=alt.X(\n",
    "        \"pickup_day:O\", \n",
    "        scale=alt.Scale(domain=[1, 2, 3, 4, 5, 6, 0]),\n",
    "        axis=alt.Axis(labelExpr=\"datum.label==1 ? 'Mon': datum.label==0? 'Sun': ''\")\n",
    "    ),\n",
    "    y=alt.Y(\"pickup_hour:O\"),\n",
    "    color=alt.Color(\n",
    "        'mean(tip_perc):Q', \n",
    "        scale=alt.Scale(type=\"linear\"),\n",
    "        legend=alt.Legend(title=\"Tip Ratio\")\n",
    "    ),\n",
    "    opacity=alt.condition(day_hour_selection, alt.value(1.0), alt.value(0.3))\n",
    ").properties(\n",
    "    width=120\n",
    ").add_selection(\n",
    "    day_hour_selection\n",
    ").transform_filter(\n",
    "    {\"and\": [\n",
    "        pickup_selection,\n",
    "        distance_selection\n",
    "    ]}\n",
    ")\n",
    "\n",
    "\n",
    "layout = (distance_chart | pickup_chart | tip_perc_chart).resolve_scale(\n",
    "    color=\"independent\"\n",
    ")\n",
    "\n",
    "widget = vf.VegaFusionWidget(\n",
    "    layout, debounce_max_wait=None, debounce_wait=200\n",
    ")\n",
    "widget"
   ]
  },
  {
   "cell_type": "code",
   "execution_count": null,
   "id": "961915f3-890f-4c8b-9943-e0ac0fc5d993",
   "metadata": {},
   "outputs": [],
   "source": []
  }
 ],
 "metadata": {
  "kernelspec": {
   "display_name": "Python 3 (ipykernel)",
   "language": "python",
   "name": "python3"
  },
  "language_info": {
   "codemirror_mode": {
    "name": "ipython",
    "version": 3
   },
   "file_extension": ".py",
   "mimetype": "text/x-python",
   "name": "python",
   "nbconvert_exporter": "python",
   "pygments_lexer": "ipython3",
   "version": "3.9.9"
  }
 },
 "nbformat": 4,
 "nbformat_minor": 5
}
