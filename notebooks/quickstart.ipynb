{
 "cells": [
  {
   "cell_type": "markdown",
   "id": "3a9db22e-8a51-47f3-a9fd-703b5a1ff2e3",
   "metadata": {},
   "source": [
    "## Quickstart 1: Overcome MaxRowsError with VegaFusion\n",
    "The VegaFusion mime renderer can be used to overcome the Altair `MaxRowsError` by performing data-intensive aggregations on the server and pruning unused columns from the source dataset.\n",
    "\n",
    "Create an Altair histogram of a 1 million row flights dataset."
   ]
  },
  {
   "cell_type": "code",
   "execution_count": null,
   "id": "f4b1e73c-f5e4-4b80-86ca-5026380a5567",
   "metadata": {},
   "outputs": [],
   "source": [
    "import pandas as pd\n",
    "import altair as alt\n",
    "\n",
    "flights = pd.read_parquet(\n",
    "    \"https://vegafusion-datasets.s3.amazonaws.com/vega/flights_1m.parquet\"\n",
    ")\n",
    "\n",
    "delay_hist = alt.Chart(flights).mark_bar().encode(\n",
    "    alt.X(\"delay\", bin=alt.Bin(maxbins=30)),\n",
    "    alt.Y(\"count()\")\n",
    ")\n",
    "# delay_hist  ## Results in MaxRowsError"
   ]
  },
  {
   "cell_type": "markdown",
   "id": "c87f3632-c61b-4674-8698-530f875e44b6",
   "metadata": {},
   "source": [
    "This results in an Altair `MaxRowsError`, as by default Altair is configured to allow no more than 5,000 rows of data to be sent to the browser. This is a safety measure to avoid crashing the user’s browser. The VegaFusion mime renderer can be used to overcome this limitation by performing data intensive transforms (e.g. filtering, binning, aggregation, etc.) in the Python kernel before the resulting data is sent to the web browser.\n",
    "\n",
    "Run these two lines to import and enable the VegaFusion mime renderer"
   ]
  },
  {
   "cell_type": "code",
   "execution_count": null,
   "id": "ed478110-5904-46aa-9fb6-9919496dc6ff",
   "metadata": {},
   "outputs": [],
   "source": [
    "import vegafusion as vf\n",
    "vf.enable()"
   ]
  },
  {
   "cell_type": "markdown",
   "id": "a79f65a3-42f0-43b5-8063-4e901fb2b303",
   "metadata": {},
   "source": [
    "Now the chart displays quickly without errors"
   ]
  },
  {
   "cell_type": "code",
   "execution_count": null,
   "id": "8354350a-a13b-4e2e-9192-7048a03c9f8e",
   "metadata": {},
   "outputs": [],
   "source": [
    "delay_hist"
   ]
  },
  {
   "cell_type": "markdown",
   "id": "ba7b162f-139a-420c-92ed-8b0cd01d546e",
   "metadata": {},
   "source": [
    "## Quickstart 2: Extract transformed data\n",
    "\n",
    "By default, data transforms in an Altair chart (e.g. filtering, binning, aggregation, etc.) are performed by the Vega JavaScript library running in the browser. This has the advantage of making the charts produced by Altair fully standalone, not requiring access to a running Python kernel to render properly. But it has the disadvantage of making it difficult to access the transformed data (e.g. the histogram bin edges and count values) from Python. Since VegaFusion evaluates these transforms in the Python kernel, it’s possible to access then from Python using the `vegafusion.transformed_data()` function.\n",
    "\n",
    "For example, the following code demonstrates how to access the histogram bin edges and counts for the example above:"
   ]
  },
  {
   "cell_type": "code",
   "execution_count": null,
   "id": "72c66bf4-752c-40de-8126-83b887dd8144",
   "metadata": {},
   "outputs": [],
   "source": [
    "import pandas as pd\n",
    "import altair as alt\n",
    "import vegafusion as vf\n",
    "\n",
    "flights = pd.read_parquet(\n",
    "    \"https://vegafusion-datasets.s3.amazonaws.com/vega/flights_1m.parquet\"\n",
    ")\n",
    "\n",
    "delay_hist = alt.Chart(flights).mark_bar().encode(\n",
    "    alt.X(\"delay\", bin=alt.Bin(maxbins=30)),\n",
    "    alt.Y(\"count()\")\n",
    ")\n",
    "vf.transformed_data(delay_hist)"
   ]
  },
  {
   "cell_type": "markdown",
   "id": "3ef23ce7-c7e9-4f01-9c6c-823ef74b2f6e",
   "metadata": {
    "tags": []
   },
   "source": [
    "## Quickstart 3: Accelerate interactive charts\n",
    "\n",
    "While the VegaFusion mime renderer works great for non-interactive Altair charts, it’s not as well suited for interactive charts visualizing large datasets. This is because the mime renderer does not maintain a live connection between the browser and the python kernel, so all the data that participates in an interaction must be sent to the browser.\n",
    "\n",
    "To address this situation, VegaFusion provides a Jupyter Widget based renderer that does maintain a live connection between the chart in the browser and the Python kernel. In this configuration, selection operations (e.g. filtering to the extents of a brush selection) can be evaluated interactively in the Python kernel, which eliminates the need to transfer the full dataset to the client in order to maintain interactivity.\n",
    "\n",
    "\n",
    "The VegaFusion widget renderer is provided by the `vegafusion-jupyter` package.\n",
    "\n",
    "```bash\n",
    "pip install \"vegafusion-jupyter[embed]\"\n",
    "```\n",
    "\n",
    "Instead of enabling the mime render with `vf.enable()`, the widget renderer is enabled with `vf.enable_widget()`. Here is a full example that uses the widget renderer to display an interactive Altair chart that implements linked histogram brushing for a 200,000 row flights dataset."
   ]
  },
  {
   "cell_type": "code",
   "execution_count": null,
   "id": "521eaed8-415f-4d36-8e62-e946a580d756",
   "metadata": {},
   "outputs": [],
   "source": [
    "import pandas as pd\n",
    "import altair as alt\n",
    "import vegafusion as vf\n",
    "\n",
    "vf.enable_widget()\n",
    "\n",
    "flights = pd.read_parquet(\n",
    "    \"https://vegafusion-datasets.s3.amazonaws.com/vega/flights_200k.parquet\"\n",
    ")\n",
    "\n",
    "brush = alt.selection(type='interval', encodings=['x'])\n",
    "\n",
    "# Define the base chart, with the common parts of the\n",
    "# background and highlights\n",
    "base = alt.Chart().mark_bar().encode(\n",
    "    x=alt.X(alt.repeat('column'), type='quantitative', bin=alt.Bin(maxbins=20)),\n",
    "    y='count()'\n",
    ").properties(\n",
    "    width=160,\n",
    "    height=130\n",
    ")\n",
    "\n",
    "# gray background with selection\n",
    "background = base.encode(\n",
    "    color=alt.value('#ddd')\n",
    ").add_selection(brush)\n",
    "\n",
    "# blue highlights on the selected data\n",
    "highlight = base.transform_filter(brush)\n",
    "\n",
    "# layer the two charts & repeat\n",
    "chart = alt.layer(\n",
    "    background,\n",
    "    highlight,\n",
    "    data=flights\n",
    ").transform_calculate(\n",
    "    \"time\",\n",
    "    \"hours(datum.date)\"\n",
    ").repeat(column=[\"distance\", \"delay\", \"time\"])\n",
    "chart"
   ]
  }
 ],
 "metadata": {
  "kernelspec": {
   "display_name": "Python 3 (ipykernel)",
   "language": "python",
   "name": "python3"
  },
  "language_info": {
   "codemirror_mode": {
    "name": "ipython",
    "version": 3
   },
   "file_extension": ".py",
   "mimetype": "text/x-python",
   "name": "python",
   "nbconvert_exporter": "python",
   "pygments_lexer": "ipython3",
   "version": "3.9.13"
  }
 },
 "nbformat": 4,
 "nbformat_minor": 5
}
